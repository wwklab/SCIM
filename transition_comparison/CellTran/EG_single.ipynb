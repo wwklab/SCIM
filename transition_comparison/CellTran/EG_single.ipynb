{
  "cells": [
    {
      "cell_type": "markdown",
      "metadata": {
        "id": "W6kXcflWLiof"
      },
      "source": [
        "## Installation"
      ]
    },
    {
      "cell_type": "code",
      "execution_count": 1,
      "metadata": {
        "colab": {
          "base_uri": "https://localhost:8080/"
        },
        "collapsed": true,
        "id": "PYjdgAvWIcfo",
        "outputId": "971d5550-3bda-477e-ffd7-7c73e3c53afc",
        "vscode": {
          "languageId": "r"
        }
      },
      "outputs": [],
      "source": [
        "# # install package dependencies Seurat, scLink and dplyr\n",
        "# install.packages('scLink',version='1.0.1')\n",
        "# install.packages('dplyr')\n",
        "# remotes::install_version(\"Seurat\", \"4.4.0\")"
      ]
    },
    {
      "cell_type": "code",
      "execution_count": 2,
      "metadata": {
        "colab": {
          "base_uri": "https://localhost:8080/"
        },
        "collapsed": true,
        "id": "g7aIZCW2BJw8",
        "outputId": "49ead3af-a787-4511-cfc9-c10a5d17c26d",
        "vscode": {
          "languageId": "r"
        }
      },
      "outputs": [],
      "source": [
        "# library(devtools)\n",
        "# install_github(\"KChen-lab/transition-cells-identification\",force=T)"
      ]
    },
    {
      "cell_type": "code",
      "execution_count": 3,
      "metadata": {
        "id": "lh9vinaVH-55",
        "vscode": {
          "languageId": "r"
        }
      },
      "outputs": [],
      "source": [
        "library(CellTran)\n",
        "options(warn=-1)"
      ]
    },
    {
      "cell_type": "markdown",
      "metadata": {
        "id": "I8RVTsuFGTwL"
      },
      "source": [
        "## Read data"
      ]
    },
    {
      "cell_type": "code",
      "execution_count": 4,
      "metadata": {
        "colab": {
          "base_uri": "https://localhost:8080/"
        },
        "id": "ycYc2BqKBvBc",
        "outputId": "69754c2c-3dc7-40bd-db46-fcbe2b309cdb",
        "vscode": {
          "languageId": "r"
        }
      },
      "outputs": [
        {
          "name": "stderr",
          "output_type": "stream",
          "text": [
            "Attaching SeuratObject\n",
            "\n",
            "Seurat v4 was just loaded with SeuratObject v5; disabling v5 assays and\n",
            "validation routines, and ensuring assays work in strict v3/v4\n",
            "compatibility mode\n",
            "\n",
            "\n",
            "Attaching package: 'dplyr'\n",
            "\n",
            "\n",
            "The following objects are masked from 'package:stats':\n",
            "\n",
            "    filter, lag\n",
            "\n",
            "\n",
            "The following objects are masked from 'package:base':\n",
            "\n",
            "    intersect, setdiff, setequal, union\n",
            "\n",
            "\n"
          ]
        },
        {
          "data": {
            "text/html": [
              "<table class=\"dataframe\">\n",
              "<caption>A data.frame: 6 × 4</caption>\n",
              "<thead>\n",
              "\t<tr><th></th><th scope=col>orig.ident</th><th scope=col>nCount_RNA</th><th scope=col>nFeature_RNA</th><th scope=col>ClusterName</th></tr>\n",
              "\t<tr><th></th><th scope=col>&lt;fct&gt;</th><th scope=col>&lt;dbl&gt;</th><th scope=col>&lt;int&gt;</th><th scope=col>&lt;chr&gt;</th></tr>\n",
              "</thead>\n",
              "<tbody>\n",
              "\t<tr><th scope=row>AAACCTGAGAGGGATA-1-3</th><td>SeuratProject</td><td>156.0810</td><td>133</td><td>Fev+        </td></tr>\n",
              "\t<tr><th scope=row>AAACCTGAGGCAATTA-1-3</th><td>SeuratProject</td><td>155.5724</td><td>122</td><td>Alpha       </td></tr>\n",
              "\t<tr><th scope=row>AAACCTGGTAAGTGGC-1-3</th><td>SeuratProject</td><td>139.6293</td><td>122</td><td>Ngn3 high EP</td></tr>\n",
              "\t<tr><th scope=row>AAACCTGTCCCTCTTT-1-3</th><td>SeuratProject</td><td>153.1265</td><td>175</td><td>Alpha       </td></tr>\n",
              "\t<tr><th scope=row>AAACGGGGTCGGGTCT-1-3</th><td>SeuratProject</td><td>145.8648</td><td>138</td><td>Alpha       </td></tr>\n",
              "\t<tr><th scope=row>AAACGGGTCAAACAAG-1-3</th><td>SeuratProject</td><td>151.7076</td><td>149</td><td>Ngn3 high EP</td></tr>\n",
              "</tbody>\n",
              "</table>\n"
            ],
            "text/latex": [
              "A data.frame: 6 × 4\n",
              "\\begin{tabular}{r|llll}\n",
              "  & orig.ident & nCount\\_RNA & nFeature\\_RNA & ClusterName\\\\\n",
              "  & <fct> & <dbl> & <int> & <chr>\\\\\n",
              "\\hline\n",
              "\tAAACCTGAGAGGGATA-1-3 & SeuratProject & 156.0810 & 133 & Fev+        \\\\\n",
              "\tAAACCTGAGGCAATTA-1-3 & SeuratProject & 155.5724 & 122 & Alpha       \\\\\n",
              "\tAAACCTGGTAAGTGGC-1-3 & SeuratProject & 139.6293 & 122 & Ngn3 high EP\\\\\n",
              "\tAAACCTGTCCCTCTTT-1-3 & SeuratProject & 153.1265 & 175 & Alpha       \\\\\n",
              "\tAAACGGGGTCGGGTCT-1-3 & SeuratProject & 145.8648 & 138 & Alpha       \\\\\n",
              "\tAAACGGGTCAAACAAG-1-3 & SeuratProject & 151.7076 & 149 & Ngn3 high EP\\\\\n",
              "\\end{tabular}\n"
            ],
            "text/markdown": [
              "\n",
              "A data.frame: 6 × 4\n",
              "\n",
              "| <!--/--> | orig.ident &lt;fct&gt; | nCount_RNA &lt;dbl&gt; | nFeature_RNA &lt;int&gt; | ClusterName &lt;chr&gt; |\n",
              "|---|---|---|---|---|\n",
              "| AAACCTGAGAGGGATA-1-3 | SeuratProject | 156.0810 | 133 | Fev+         |\n",
              "| AAACCTGAGGCAATTA-1-3 | SeuratProject | 155.5724 | 122 | Alpha        |\n",
              "| AAACCTGGTAAGTGGC-1-3 | SeuratProject | 139.6293 | 122 | Ngn3 high EP |\n",
              "| AAACCTGTCCCTCTTT-1-3 | SeuratProject | 153.1265 | 175 | Alpha        |\n",
              "| AAACGGGGTCGGGTCT-1-3 | SeuratProject | 145.8648 | 138 | Alpha        |\n",
              "| AAACGGGTCAAACAAG-1-3 | SeuratProject | 151.7076 | 149 | Ngn3 high EP |\n",
              "\n"
            ],
            "text/plain": [
              "                     orig.ident    nCount_RNA nFeature_RNA ClusterName \n",
              "AAACCTGAGAGGGATA-1-3 SeuratProject 156.0810   133          Fev+        \n",
              "AAACCTGAGGCAATTA-1-3 SeuratProject 155.5724   122          Alpha       \n",
              "AAACCTGGTAAGTGGC-1-3 SeuratProject 139.6293   122          Ngn3 high EP\n",
              "AAACCTGTCCCTCTTT-1-3 SeuratProject 153.1265   175          Alpha       \n",
              "AAACGGGGTCGGGTCT-1-3 SeuratProject 145.8648   138          Alpha       \n",
              "AAACGGGTCAAACAAG-1-3 SeuratProject 151.7076   149          Ngn3 high EP"
            ]
          },
          "metadata": {},
          "output_type": "display_data"
        },
        {
          "data": {
            "image/png": "[encoded data removed]",
            "text/plain": [
              "plot without title"
            ]
          },
          "metadata": {
            "image/png": {
              "height": 420,
              "width": 420
            }
          },
          "output_type": "display_data"
        }
      ],
      "source": [
        "library(Seurat)\n",
        "library(dplyr)\n",
        "\n",
        "data_name = 'EG_single'\n",
        "\n",
        "# (1) 读取表达矩阵（自动生成行名 \"1\", \"2\", \"3\"...）\n",
        "counts <- read.csv(paste(data_name, \"X.csv\", sep = \"/\"), row.names = 1)  # 假设第一列是基因名\n",
        "\n",
        "# (2) 创建 Seurat 对象\n",
        "data <- CreateSeuratObject(\n",
        "  counts = t(counts),          # Seurat 要求行=基因，列=细胞（需转置）\n",
        ")\n",
        "\n",
        "# (3) 添加 PCA 坐标\n",
        "pca <- read.csv(paste(data_name, \"pca.csv\", sep = \"/\"), row.names = 1)\n",
        "data[[\"pca\"]] <- CreateDimReducObject(\n",
        "  embeddings = as.matrix(pca), # PCA 坐标矩阵\n",
        "  key = \"PC_\",                 # 坐标列名前缀（如 PC_1, PC_2）\n",
        "  assay = \"RNA\"                # 关联到 RNA assay\n",
        ")\n",
        "\n",
        "# (4) 添加 UMAP 坐标\n",
        "umap <- read.csv(paste(data_name, \"umap.csv\", sep = \"/\"), row.names = 1)\n",
        "data[[\"umap\"]] <- CreateDimReducObject(\n",
        "  embeddings = as.matrix(umap),\n",
        "  key = \"UMAP_\",               # 坐标列名前缀（如 UMAP_1, UMAP_2）\n",
        "  assay = \"RNA\"\n",
        ")\n",
        "\n",
        "# (5) 添加聚类标签\n",
        "clusters <- read.csv(paste(data_name, \"ClusterName.csv\", sep = \"/\"), row.names = 1)\n",
        "data <- AddMetaData(\n",
        "  object = data,\n",
        "  metadata = clusters,\n",
        "  col.name = \"ClusterName\"     # 元数据列名\n",
        ")\n",
        "\n",
        "# (6) 设置默认聚类标识\n",
        "Idents(data) <- \"ClusterName\"  # 后续分析默认按此分组\n",
        "\n",
        "# 查看结果\n",
        "head(data@meta.data)\n",
        "DimPlot(data, reduction = \"umap\", group.by = \"ClusterName\", label = TRUE)\n"
      ]
    },
    {
      "cell_type": "code",
      "execution_count": 5,
      "metadata": {
        "vscode": {
          "languageId": "r"
        }
      },
      "outputs": [
        {
          "data": {
            "image/png": "[encoded data removed]",
            "text/plain": [
              "plot without title"
            ]
          },
          "metadata": {
            "image/png": {
              "height": 420,
              "width": 420
            }
          },
          "output_type": "display_data"
        }
      ],
      "source": [
        "DimPlot(data, reduction = \"pca\", group.by = \"ClusterName\", label = TRUE)"
      ]
    },
    {
      "cell_type": "code",
      "execution_count": 6,
      "metadata": {
        "vscode": {
          "languageId": "r"
        }
      },
      "outputs": [
        {
          "name": "stderr",
          "output_type": "stream",
          "text": [
            "Centering and scaling data matrix\n",
            "\n",
            "Computing nearest neighbor graph\n",
            "\n",
            "Computing SNN\n",
            "\n"
          ]
        },
        {
          "name": "stdout",
          "output_type": "stream",
          "text": [
            "Modularity Optimizer version 1.3.0 by Ludo Waltman and Nees Jan van Eck\n",
            "\n",
            "Number of nodes: 1718\n",
            "Number of edges: 51789\n",
            "\n",
            "Running Louvain algorithm...\n",
            "Maximum modularity in 10 random starts: 0.8769\n",
            "Number of communities: 8\n",
            "Elapsed time: 0 seconds\n"
          ]
        }
      ],
      "source": [
        "data<- NormalizeData(data)\n",
        "data<- ScaleData(data)\n",
        "# data<- RunPCA(data, features = rownames(data))\n",
        "data<- FindNeighbors(data, dims = 1: 5)\n",
        "data<- FindClusters(data, resolution = 0.5)\n",
        "# data<- RunUMAP(data,dims=1:5)"
      ]
    },
    {
      "cell_type": "code",
      "execution_count": 7,
      "metadata": {
        "vscode": {
          "languageId": "r"
        }
      },
      "outputs": [
        {
          "data": {
            "text/plain": [
              "An object of class Seurat \n",
              "470 features across 1718 samples within 1 assay \n",
              "Active assay: RNA (470 features, 0 variable features)\n",
              " 3 layers present: counts, data, scale.data\n",
              " 2 dimensional reductions calculated: pca, umap"
            ]
          },
          "metadata": {},
          "output_type": "display_data"
        }
      ],
      "source": [
        "data"
      ]
    },
    {
      "cell_type": "markdown",
      "metadata": {
        "id": "O9rN7BtXHusV"
      },
      "source": [
        "# Calculate transition index"
      ]
    },
    {
      "cell_type": "code",
      "execution_count": 8,
      "metadata": {
        "vscode": {
          "languageId": "r"
        }
      },
      "outputs": [],
      "source": [
        "#' Calculate GPPCCs\n",
        "#'\n",
        "#' This is the function calculating gene pair-wise Pearson's correlation coefficients (GPPCCs). \n",
        "#' The GPPCCs calculated using our method are assumed from the cells that exhibit similar \n",
        "#' regulatory profiles and around equilibrium points. Thus, for each cell, we select the cell \n",
        "#' together with its nearest neighbors in Principal Component Analysis (PCA) dimensions based \n",
        "#' on cosine distance to calculate GPPCCs. We also use scLink in the calculation to deal with\n",
        "#' the gene expression values affected by dropout. \n",
        "#' @param data Seurat object containing both count matrix and metadata such as neighboring \n",
        "#' results for a single-cell dataset.\n",
        "#' @param highly_variable_gene A gene list containing top most variable genes. Calculated \n",
        "#' by \\code{var} function by default.\n",
        "#' @param n_neighbor The number of neighboring cells used to calculate GPPCCs. 300 by default.\n",
        "#' @return A matrix of GPPCCs. Rows are cells and columns are gene pairs.\n",
        "#' @import Seurat\n",
        "#' @import scLink\n",
        "#' @import dplyr\n",
        "#' @export\n",
        "gene_pearson<-function(data,highly_variable_gene=NULL,n_neighbor=300,n_gene=50,...){\n",
        "        res<-NULL\n",
        "        exprs<-as.matrix(GetAssayData(data))\n",
        "        if(is.null(highly_variable_gene)){\n",
        "                highly_variable_gene<-order(apply(as.matrix(exprs),1,function(x) var(x)),decreasing=T)[1:n_gene]\n",
        "                highly_variable_gene<-rownames(exprs)[highly_variable_gene]\n",
        "        }\n",
        "        for(c in data %>% colnames()){\n",
        "                expr<-t(exprs[highly_variable_gene,data@neighbors$RNA.nn@nn.idx[match(c,data@neighbors$RNA.nn@cell.names),]])\n",
        "                pearson_cor<-scLink::sclink_cor(expr = expr, ncores = 1)\n",
        "                diag(pearson_cor)<-NA\n",
        "                res<-rbind(res,as.numeric(pearson_cor))\n",
        "        }\n",
        "        rownames(res)<-colnames(data)\n",
        "        gene_name<-highly_variable_gene\n",
        "        name_tmp<-character()\n",
        "        for(i in gene_name){\n",
        "                for(j in gene_name)\n",
        "                        name_tmp<-c(name_tmp,paste(i,j,sep='_'))\n",
        "         }\n",
        "        colnames(res)<-name_tmp\n",
        "        return(res)\n",
        "}\n",
        "\n",
        "\n",
        "find_ks_d<-function(x,y){\n",
        "        n.x <- length(x)\n",
        "        n.y <- length(y)\n",
        "        w <- c(x, y)\n",
        "        z <- cumsum(ifelse(order(w) <= n.x, 1/n.x, -1/n.y))\n",
        "        w_sort<-sort(w)\n",
        "        w_max<-max(w_sort[z==max(z)])\n",
        "        z_sub<-z[w_sort>w_max]\n",
        "        w_min<-min(w_sort[w_sort>w_max][z_sub==min(z_sub)])\n",
        "        return(list('w_min'=w_min,'w_max'=w_max))\n",
        "}\n",
        "\n",
        "#' Calculate transition index\n",
        "#'\n",
        "#' This is the function calculating transition index that reflects the transition\n",
        "#' probability of a cell. The transition index we defined is inspired by Kolmogorov-Smirnov \n",
        "#' statistic. We assume there are both transition cells and stable cells captured by  \n",
        "#' scRNA-seq in the data. We first find the archetype of transition \n",
        "#' cell and stable cell by using modified Kolmogorov-Smirnov statistic. As proved \n",
        "#' mathematically, there are more gene pairs whose absolute value of Pearson鈥檚 \n",
        "#' correlation coefficients are close to 1 in transition cells than stable cells. \n",
        "#' Thus, based on the distribution difference, by finding the maximum difference \n",
        "#' among all cells, we identify archetypal stable cells and transition cells. To \n",
        "#' count and compare the number of gene pairs exceeding such threshold in each cell, \n",
        "#' we define transition index by summarizing the percentage of gene pairs whose \n",
        "#' absolute value of Pearson鈥檚 correlation coefficients are between argmax_x(D_max)    \n",
        "#' and argmin_x(D_max). \n",
        "#'\n",
        "#' @param data Seurat object containing both count matrix and metadata such as neighboring \n",
        "#' results for a single-cell dataset.\n",
        "#' @param highly_variable_gene A gene list containing top most variable genes. Calculated \n",
        "#' by \\code{var} function by default.\n",
        "#' @param group The cell group highly_variable_genes selected based on. It should be a column\n",
        "#' name of data@meta.data, such as 'seurat_clusters','cell_type','time_point'. Using \n",
        "#' 'seurat_clusters' by default. \n",
        "#' @param n_neighbor The number of neighboring cells used to calculate GPPCCs. 300 by default.\n",
        "#' @param n_gene The number of top most variable genes used in calculating GPPCCs. 50 by default.\n",
        "#' @param return_pearson Whether report GPPCCs or not. Using False by default.\n",
        "#' @return If return_pearson is False, return a Seurat object. Calculated transition index is \n",
        "#' store as a column in the metadata. If return_pearson is True, return a list. Calculated \n",
        "#' transition index is stored in the data element, as a column in the metadata. GPPCCs is stored\n",
        "#' in the GPPCCs element.\n",
        "#' @import Seurat\n",
        "#' @import scLink\n",
        "#' @import dplyr\n",
        "#' @export\n",
        "transition_index<-function(data,highly_variable_gene=NULL,group='seurat_clusters',n_neighbors=300,n_gene=50,return_pearson=FALSE,...){\n",
        "    res<-list()\n",
        "    for(i in data@meta.data[,group] %>% unique()){\n",
        "            print(i)\n",
        "            data_sub<-data[,data@meta.data[,group]==i]\n",
        "            if(ncol(data_sub)<=n_neighbors)\n",
        "                    next\n",
        "            data_sub<-Seurat::FindVariableFeatures(data_sub, selection.method = \"vst\", nfeatures = 2000)\n",
        "            data_sub<- Seurat::ScaleData(data_sub,vars.to.regress=\"nCount_RNA\")\n",
        "            data_sub<- Seurat::RunPCA(data_sub, features = VariableFeatures(object = data_sub),npcs=min(20,ncol(data_sub)))\n",
        "            data_sub<- Seurat::FindNeighbors(data_sub, dims = 1: min(20,ncol(data_sub)),return.neighbor = TRUE,k.param=n_neighbors,annoy.metric='cosine')\n",
        "            pearson<-gene_pearson(data_sub,highly_variable_gene=highly_variable_gene,n_neighbor=n_neighbors,n_gene=n_gene)\n",
        "            # fine tuning  (optional)\n",
        "            pearson<-abs(pearson)\n",
        "            res_1<-apply(pearson,1,function(x) ks.test(x,pearson[1,],alternative='greater')$statistic)\n",
        "            res_2<-apply(pearson,1,function(x) ks.test(x,pearson[1,],alternative='less')$statistic)\n",
        "            res_tmp<-find_ks_d(pearson[which.max(res_1),],pearson[which.max(res_2),])\n",
        "            tmp<-apply(pearson,1,function(x) sum(abs(x)>min(unlist(res_tmp)) & abs(x)<max(unlist(res_tmp)),na.rm=T)/sum(abs(x)>=0,na.rm=T))\n",
        "            data_sub<-Seurat::AddMetaData(data_sub,data.frame('pearson'=tmp))\n",
        "            if(min(tmp)==max(tmp)){\n",
        "                    res[[as.character(i)]]<-pearson\n",
        "                    next\n",
        "            }\n",
        "            cell<-data_sub@meta.data %>% dplyr::filter(pearson>quantile(data_sub$pearson,0.8,na.rm=T)) %>% rownames()\n",
        "            hvg<-sort(apply(as.matrix(GetAssayData(data_sub[,cell])),1,function(x) var(x)),decreasing=T)[1:n_gene] %>% names\n",
        "            pearson<-gene_pearson(data_sub,n_neighbor=n_neighbors,highly_variable_gene=hvg)\n",
        "            res[[as.character(i)]]<-pearson\n",
        "    }\n",
        "    res<-Reduce(function(x,y) rbind(x,y),res)\n",
        "    pearson<-res\n",
        "    res<-abs(res)\n",
        "    res_1<-apply(res,1,function(x) ks.test(x,res[1,],alternative='greater')$statistic)\n",
        "    res_2<-apply(res,1,function(x) ks.test(x,res[1,],alternative='less')$statistic)\n",
        "    res_tmp<-find_ks_d(res[which.max(res_1),],res[which.max(res_2),])\n",
        "    tmp<-apply(res,1,function(x) sum(abs(x)>min(unlist(res_tmp)) & abs(x)<max(unlist(res_tmp)),na.rm=T)/sum(abs(x)>=0,na.rm=T))\n",
        "    data<-Seurat::AddMetaData(data,data.frame('transition_index'=tmp))\n",
        "    if(!return_pearson)\n",
        "    return(data)\n",
        "    else\n",
        "    return(list('GPPCCs'=pearson,'data'=data))\n",
        "}\n"
      ]
    },
    {
      "cell_type": "code",
      "execution_count": 12,
      "metadata": {
        "colab": {
          "base_uri": "https://localhost:8080/"
        },
        "collapsed": true,
        "id": "UD7hEqWlH2Rm",
        "outputId": "30e81ecb-ef92-41c0-d36e-adbee847b394",
        "vscode": {
          "languageId": "r"
        }
      },
      "outputs": [
        {
          "name": "stdout",
          "output_type": "stream",
          "text": [
            "[1] \"1\"\n"
          ]
        },
        {
          "name": "stderr",
          "output_type": "stream",
          "text": [
            "Regressing out nCount_RNA\n",
            "\n",
            "Centering and scaling data matrix\n",
            "\n",
            "PC_ 1 \n",
            "Positive:  Hpcal1, Fev, Nkx6.1, Pax4, Npepl1, Pdk3, Flrt1, Tubb3, Inppl1, Hpca \n",
            "\t   Miat, Neurog3, Rbfox3, Mfng, Hn1, Sulf1, BC023829, Smarcd2, Slc25a5, Hes6 \n",
            "\t   Gspt1, Fam159a, Gdpd1, Lingo1, Cck, Pcsk1n, Hpgd, Neurod2, Selm, Pcyt1b \n",
            "Negative:  Tmem27, Ghr, Peg10, Ank, Slc16a10, Scgn, Syne1, Mboat4, Slc38a5, Id2 \n",
            "\t   Rbp4, Rai2, X1700086L19Rik, Sema3c, Auts2, Ppy, Immp1l, Acvr1c, Hhex, Upk3bl \n",
            "\t   Gm609, Arx, Ush1c, Ap1s2, Hap1, X1500009L16Rik, Abcc8, Klhl13, Fgf12, Ppp1r14c \n",
            "PC_ 2 \n",
            "Positive:  Mdk, Mboat4, Upk3bl, Elavl4, Hpca, Ifitm2, Igfbpl1, X1810041L15Rik, Dll3, Apoc1 \n",
            "\t   Pak3, Hhex, Col9a3, Gm609, Mia, Cck, Col18a1, Dner, Neurod2, Dbn1 \n",
            "\t   BC023829, Sema3c, Trim35, Btg2, Mfng, Btbd17, Smarcd2, Mboat1, Selm, Muc1 \n",
            "Negative:  BC048546, Fxyd6, Aard, Entpd3, Rab3b, Apbb1, Ncam1, Tmem163, Resp18, Hist1h2bc \n",
            "\t   Camk2b, Nkx6.1, Parm1, Prps1, Ociad2, Ocrl, Papss2, Pon3, Dcdc2a, Adgb \n",
            "\t   A1cf, Gm1673, Hap1, Hprt, Galm, Tspan7, Pam, Ppp1r14c, Gas6, Upb1 \n",
            "PC_ 3 \n",
            "Positive:  Npepl1, Mnx1, Rbp4, Flrt1, Pdx1, S100a11, Ank, Pcsk2, Papss2, Pkp4 \n",
            "\t   Hdgfrp3, Hhex, Tshz1, Slc30a8, Pak3, Fscn1, Ppp3ca, Cotl1, Acvr1c, Tmsb15l \n",
            "\t   Spr, Prps1, Selm, X1700086L19Rik, Wapl, Gadd45a, Cmtm8, Ezr, Higd1a, Atox1 \n",
            "Negative:  Arx, A1cf, Gch1, Nudt11, Cdo1, Usp18, Akap17b, Smarca1, Fev, Gm43194 \n",
            "\t   Gk, Gria2, Scin, Tm4sf4, Nap1l5, Mctp2, Pax6, Kcnq4, Fam107b, St18 \n",
            "\t   Gm42637, Dock11, Sez6l, Irx2, Cyr61, Slc25a5, Ambp, Pam, Glud1, Galm \n",
            "PC_ 4 \n",
            "Positive:  Gm43861, Nkx6.1, Slc25a5, Klhl13, Hmga2, Rai2, Pcyt1b, Slc7a2, Pebp1, Tm4sf4 \n",
            "\t   Hprt, Dtnbos, Sema3c, Atg4a, Bicc1, Gdpd1, Upk3bl, Hrsp12, Asb4, Homer2 \n",
            "\t   Akap17b, Spock3, Ppp1r9a, Sulf1, Gm609, Glud1, Fstl1, Rhoj, BC048546, Ppp1r14c \n",
            "Negative:  Cotl1, Gm42637, Neurog3, Cbfa2t3, Rbp4, Ociad2, Krt18, Ctsz, Wnk3, Grasp \n",
            "\t   Foxa3, Mfng, Igf1r, Dpysl5, Cdc42ep1, Acadm, Rbfox3, Trp53i11, H19, Wrap73 \n",
            "\t   Vps36, X1500009L16Rik, Tpm1, Tmbim1, Olfm1, Mctp2, Cdc14b, Gstt2, Btg2, Dock11 \n",
            "PC_ 5 \n",
            "Positive:  Habp2, Igfbp7, Cldn6, Hhex, Prom1, Mmd2, Phlda1, Smoc1, Mum1l1, Pard3 \n",
            "\t   Ppp1r14c, Igsf3, Snrk, St14, Ncam1, Mal2, Tecr, Smarca1, Sct, Slc16a10 \n",
            "\t   Slc7a5, Rab3b, Adamts1, Fam210b, Csrp2, Rab15, Cdk2ap1, Akr1c12, Dsp, Tpm4 \n",
            "Negative:  Upk3bl, Rab37, Slc38a5, Gapdh, Sel1l, Fam151a, Dner, Apoc1, Arsb, Nptx2 \n",
            "\t   Dll3, Olfm1, Pim2, Klhl13, Tmem163, Grin2c, Numbl, Rai2, Atox1, Prmt3 \n",
            "\t   Ociad2, Sept3, Ptprn, Sdsl, Col18a1, Prrg2, Epb42, Ezr, Litaf, Igfbpl1 \n",
            "\n",
            "Computing nearest neighbors\n",
            "\n",
            "Only one graph name supplied, storing nearest-neighbor graph only\n",
            "\n"
          ]
        },
        {
          "name": "stdout",
          "output_type": "stream",
          "text": [
            "[1] \"6\"\n"
          ]
        },
        {
          "name": "stderr",
          "output_type": "stream",
          "text": [
            "Regressing out nCount_RNA\n",
            "\n",
            "Centering and scaling data matrix\n",
            "\n",
            "PC_ 1 \n",
            "Positive:  Fxyd6, Prrg2, Mlxipl, Gch1, Smpdl3a, Usp18, Hap1, Ppp1r14c, Cyp4b1, Cryba2 \n",
            "\t   Tm4sf4, BC023829, Fev, Csrp2, Id2, Rab3b, Ppp3ca, Entpd3, Fam183b, Rap1b \n",
            "\t   Emb, Gnai1, Mpzl1, Gars, Chst8, A1cf, Ica1, Glud1, Anxa4, Igsf8 \n",
            "Negative:  Pou6f2, Pcsk2, Ctsz, Ppy, Igfbp7, Higd1a, Ppp1r1a, Selm, Tmsb15l, Hpgds \n",
            "\t   Pcsk1n, Wnk3, Btbd17, Ncoa7, Slc2a5, Rbp4, G630016G05Rik, S100a11, Ank, G6pc2 \n",
            "\t   Auts2, Ptprn, Mia, Bcl2l14, Mt1, Hes6, Rap1gapos, St6galnac5, Sesn3, Resp18 \n",
            "PC_ 2 \n",
            "Positive:  Ncam1, Serpine2, Cbfa2t3, Ociad2, Gnaz, Papss2, Ncoa7, S100a11, Dock11, Gk \n",
            "\t   Hprt, Pdgfa, Gnai1, Higd1a, Rap1gapos, Enc1, Nqo1, Dtnbos, Ndc1, Slc30a8 \n",
            "\t   Cotl1, Ctsz, Eya2, Gm609, Mum1l1, H19, Ripply3, Tmem27, Igfbp7, Slc16a10 \n",
            "Negative:  Gsta3, Cdc42ep1, Mnx1, Hif3a, Cyr61, Kirrel2, Rasl11b, Flrt2, Cmtm8, Zbtb18 \n",
            "\t   Chst8, Rbfox3, Tead2, Gadd45a, Grin2c, Lamb1, Igf2, Vil1, Sel1l, Tmem108 \n",
            "\t   Miat, G630016G05Rik, Rfwd3, Smoc1, Igsf8, Cat, Smpdl3a, Tbc1d9, Hpcal1, Gpc3 \n",
            "PC_ 3 \n",
            "Positive:  Akr1c13, Smarca1, Akr1c19, Gm1673, Aldh1b1, Irx2, Rnf114, Atp1b1, Amotl1, Gm609 \n",
            "\t   Pdgfa, Pcsk2os1, Tuba1a, Tm4sf4, Kcnq4, Galm, Sbspon, Mia, Ovol2, Qsox1 \n",
            "\t   Mmd2, Tns1, Ctsl, E2f1, Tmem27, Sms, Ncam1, Ambp, Id2, Pim2 \n",
            "Negative:  Hpgds, Fras1, Col9a3, Slc30a8, Slc7a2, Pdx1, Miat, Calml4, Wrap73, Hif3a \n",
            "\t   Cx3cl1, Gm43194, Col27a1, Celf4, Mal2, Fev, Ppp1r14c, Homer2, Pdk3, Syne1 \n",
            "\t   Phlda1, X1810041L15Rik, Atg4a, G630016G05Rik, Blnk, Inppl1, G6pc2, Scgn, Tshz1, Kirrel2 \n",
            "PC_ 4 \n",
            "Positive:  Nrxn1, Hes1, Fgf12, Col18a1, Zbtb18, Nkx6.1, Lamc1, Dgkd, Habp2, Fev \n",
            "\t   Bcl2l14, Blnk, Gm8113, Timp3, Lamb1, Akap17b, Col9a3, Mal2, Mif, Gm14964 \n",
            "\t   St18, Wapl, H19, Ptprn, Cpe, Zbtb20, Csrp2, Olfm1, Pde1a, Ptch1 \n",
            "Negative:  Atox1, Scgn, Ppy, Immp1l, Hrsp12, Anxa4, Tubb3, Id2, Btbd17, X1700086L19Rik \n",
            "\t   Myl12a, Necab2, Pim2, Pak3, Smpdl3a, Fam107b, X1500009L16Rik, Mcm6, Cmtm7, Ccnjl \n",
            "\t   Pdlim1, Foxa3, Gk, Dbn1, Mmd2, Emid1, Wrap73, Ncs1, Calml4, Mgll \n",
            "PC_ 5 \n",
            "Positive:  Sparc, Tpm4, Tubb3, Cx3cl1, Rap1gapos, Numbl, Homer2, Fgfr1, Mia, Cdo1 \n",
            "\t   Tm4sf4, E2f1, Aldh1b1, Hn1, Gm609, Grasp, Scin, Ppp1r1a, Serinc2, Nacc1 \n",
            "\t   Gadd45a, Cdk2ap1, Sh3bgrl3, S100a11, Acot1, Spsb4, Mal2, Galm, Sbspon, Kcnq4 \n",
            "Negative:  Cpe, Ociad2, Dll1, Cck, Trim35, Mdm1, A1cf, Carhsp1, Myt1l, Pard3 \n",
            "\t   Tmem51, Krt18, Cryba2, Fam107b, Phlda1, Gnao1, Prps1, Tff3, Gch1, Ttc28 \n",
            "\t   Pdlim1, Tmem108, Rbp4, Nptx2, Irx2, Adamts1, X1810041L15Rik, Vil1, Gm14964, Mctp2 \n",
            "\n",
            "Computing nearest neighbors\n",
            "\n",
            "Only one graph name supplied, storing nearest-neighbor graph only\n",
            "\n"
          ]
        },
        {
          "name": "stdout",
          "output_type": "stream",
          "text": [
            "[1] \"2\"\n"
          ]
        },
        {
          "name": "stderr",
          "output_type": "stream",
          "text": [
            "Regressing out nCount_RNA\n",
            "\n",
            "Centering and scaling data matrix\n",
            "\n",
            "PC_ 1 \n",
            "Positive:  Btbd17, Ppp1r14a, Neurod2, Upk3bl, Ttc28, Cdk2ap1, Tead2, Tmsb4x, Gadd45a, X1810041L15Rik \n",
            "\t   Cldn6, Amotl2, Cbfa2t3, Hn1, Foxa3, Mmd2, Hpca, Fam107b, Tbc1d9, Arx \n",
            "\t   Neurog3, Rab15, Mdk, Carhsp1, Selm, Ifitm2, Sult2b1, Tubb3, Slc16a5, Lrrtm3 \n",
            "Negative:  Fev, Gch1, Pcsk1n, Cryba2, Rbp4, Pax6, Slc25a5, Rap1b, Cpe, Fxyd6 \n",
            "\t   Akr1c19, X1700086L19Rik, Pam, Hap1, Tmem163, Gm43861, BC048546, Vdr, Pcsk2, Tmem27 \n",
            "\t   Cyp4b1, Gnaz, Tspan7, Rnf130, Fam183b, Ffar4, Prrg2, Smpdl3a, Rab27a, Scg3 \n",
            "PC_ 2 \n",
            "Positive:  Mboat4, Muc1, Gch1, St8sia2, Ghr, Scgn, Fam151a, Akr1c19, Cxxc4, Irx2 \n",
            "\t   Lrrtm3, Arx, Hhex, Meis2, Fam107b, Cdkn1c, A1cf, Id2, Ppy, Ffar4 \n",
            "\t   Sema3c, Auts2, Tspan12, Eno1, Lamb1, Gm43194, Gas6, Nqo1, Rab27a, Akr1c12 \n",
            "Negative:  Pax4, Nkx6.1, Hpcal1, Fev, Gspt1, Slc25a5, Lhx1os, Flrt1, Tubb3, Casz1 \n",
            "\t   Neurog3, Gadd45a, Npepl1, Gars, Cryba2, Lingo1, Epb42, Sept3, Tmbim1, Fxyd6 \n",
            "\t   Gm43861, Sulf1, Cbfa2t2, Sox9, Pebp1, Scg3, Mnx1, Dbn1, Pcyt1b, Acaa2 \n",
            "PC_ 3 \n",
            "Positive:  Cbfa2t3, Atg4a, Kcnk1, Slc2a5, Krt18, Abcc8, Fev, Sult2b1, X1700086L19Rik, Slc39a2 \n",
            "\t   Id2, Atp1b1, Cck, Anxa2, Entpd3, Gm42637, Ovol2, Sh3bgrl3, Chic1, Neurog3 \n",
            "\t   Kirrel2, Amotl2, Gm14964, Nrtn, Rfwd3, Cdc14b, Camk2b, Gpx3, Tmsb15l, Grin2c \n",
            "Negative:  Nfix, Fam159a, Csrp2, Meis2, Tshz1, Akap17b, Pdk3, Syne1, Sms, Sox9 \n",
            "\t   Elavl4, Slc25a5, Klhdc8b, Tspan7, Sulf2, Ldhb, Gpc3, Gspt1, St18, Acaa2 \n",
            "\t   Tmsb4x, Ica1, Irx2, Sesn3, Hrsp12, Lhx1os, Casz1, Dpysl3, Nptx2, Sdsl \n",
            "PC_ 4 \n",
            "Positive:  Nap1l5, Gk, Anxa2, Ambp, Spp1, Ncoa7, Mal2, Fblim1, Shf, Adamts1 \n",
            "\t   Tuba1a, Col9a3, Col18a1, Dsp, Aard, Dbn1, Mnx1, S100a11, Apbb1, Slc2a5 \n",
            "\t   Cyr61, Spink4, Sat1, Ptprn, Hes1, Zfhx3, Scg5, Ptch1, Kirrel2, Gm43194 \n",
            "Negative:  Nxph1, Cbfa2t3, Tspan7, Tpm1, Acaa2, Ociad2, Tmsb15l, Hnf1aos1, Glud1, Tmbim1 \n",
            "\t   Papss2, Sult2b1, Btbd17, Rtn1, Neurod2, St3gal4, Ctsl, Ass1, Smarcd2, Hpcal1 \n",
            "\t   Ndc1, Gm14964, Lifr, St18, Pamr1, Hpca, Krt18, Tecr, Entpd3, Acadm \n",
            "PC_ 5 \n",
            "Positive:  Osgin1, Lamc1, Fgfr2, Ccnjl, Nap1l5, Kcnb2, X1500009L16Rik, Fam210b, Chic1, Acot1 \n",
            "\t   Rtn1, Ush1c, Rdh5, Kcnk1, Habp2, Prmt3, Hif3a, Adk, Cxxc4, Upb1 \n",
            "\t   Selenbp1, X1810041L15Rik, Fstl1, Ass1, Flrt2, Rhoj, Ap1s2, Ppp1r14c, Ptch1, Fam107b \n",
            "Negative:  Ccnd3, Lmna, St3gal4, Necab2, Lrrtm3, Hes6, Sema3c, Ppp3ca, Slc16a12, Sparc \n",
            "\t   Mia, Mgll, Gm609, Aldh1b1, Cyba, Ifitm2, Spp1, Spsb4, Pamr1, Col18a1 \n",
            "\t   Myl12a, Camk2b, Hpca, Tm4sf4, Chn2, Rap1gapos, S100a10, Cdkn1c, S100a11, Tff3 \n",
            "\n",
            "Computing nearest neighbors\n",
            "\n",
            "Only one graph name supplied, storing nearest-neighbor graph only\n",
            "\n"
          ]
        },
        {
          "name": "stdout",
          "output_type": "stream",
          "text": [
            "[1] \"0\"\n"
          ]
        },
        {
          "name": "stderr",
          "output_type": "stream",
          "text": [
            "Regressing out nCount_RNA\n",
            "\n",
            "Centering and scaling data matrix\n",
            "\n",
            "PC_ 1 \n",
            "Positive:  Id2, Usp18, Ppp1r14c, Parm1, Muc1, Smpdl3a, Tm4sf4, Anxa4, Arx, Hap1 \n",
            "\t   Emb, Mctp2, BC023829, Gars, Tmem163, Akr1c19, Csrp2, Prrg2, Syne1, Rap1b \n",
            "\t   Pcyt1b, Cxxc4, Cryba2, Myl12a, Pax6, Mlxipl, Fam183b, Glud1, Chst8, Fev \n",
            "Negative:  Pcsk2, Tmsb4x, Hist1h2bc, Slc7a2, Tmsb15l, Ppp1r1a, Slc30a8, Gpx3, Gm1673, Ctsz \n",
            "\t   Sct, Igfbp7, Resp18, Pcsk1n, Emid1, Cpn1, Irx2, S100a11, Gpx7, Selm \n",
            "\t   Sesn3, Olfm1, Wnk3, Prdx4, Tuba1a, Ctsl, Rap1gapos, Tspan7, Gapdh, Sphkap \n",
            "PC_ 2 \n",
            "Positive:  Col9a3, Anxa2, Mdk, Adk, Gm8113, Pou6f2, Gstt2, Pam, Tecr, Selenbp1 \n",
            "\t   Cyba, Atp1b1, Nap1l5, Prdx4, Mboat4, Adamts1, Pdlim1, Ctsz, Prom1, Cdc42ep1 \n",
            "\t   Apoc1, Slc16a10, Cck, Myl12a, Lamb1, Qsox1, Hhex, Ifitm2, Klhl13, Csrp2 \n",
            "Negative:  Ppp1r1a, Npepl1, Slc30a8, Chic1, Pak3, X1700086L19Rik, Vdr, Rap1b, Cryba2, Nqo1 \n",
            "\t   Fev, Lhx1os, Ffar4, Myt1l, Hpgd, Scg3, Rab27a, Pcsk1n, Pim2, G6pc2 \n",
            "\t   Pcsk2, Gnai1, Mlxipl, Pdx1, Tmem108, Tubb3, Kcnb2, Nr5a2, Hpcal1, Ociad2 \n",
            "PC_ 3 \n",
            "Positive:  Scg3, Cpn1, Cck, Fkbp2, Tmem27, Parm1, Myl12b, Ociad2, Pam, BC048546 \n",
            "\t   Ctsl, Tecr, Rab37, Vldlr, Rbp4, Scgn, Vil1, Anxa4, Ghr, Eno1 \n",
            "\t   Abcc8, Tmem163, Emb, Tmsb15l, Hrsp12, Ppib, Hprt, Myl12a, Tm4sf4, Tshz1 \n",
            "Negative:  Peg10, Wnk3, Irx2, Ica1, Asb4, Inppl1, Spp1, Wapl, Tmem108, Fam107b \n",
            "\t   Lrrtm3, Cdc42ep1, Zbtb20, Amotl1, Cat, Nxph1, Spsb4, Blnk, Tbc1d9, Ocrl \n",
            "\t   Sesn2, Miat, Cpe, Gdpd1, Fev, Litaf, Dpysl5, Slc38a5, Casz1, Fgfr1 \n",
            "PC_ 4 \n",
            "Positive:  Vil1, Gm43194, Rab37, Smarca1, Dpp4, Mboat4, Rnf152, Hap1, Cck, Pak3 \n",
            "\t   Upk3bl, Rab3b, Tff3, Afm, Fmo2, Nptx2, Nrxn1, Celf4, Pkp4, Zfp36l1 \n",
            "\t   Gm609, Irx2, Clmn, S100a10, Chic1, Nudt11, Ctsz, Sesn2, Cxxc4, Rbms3 \n",
            "Negative:  Nkx6.1, Fgfr1, Pdx1, Gm8113, Tspan7, S100a11, Hrsp12, Pdk3, Homer2, Cdc42ep1 \n",
            "\t   Akr1c12, Shf, Phlda1, Tuba1a, Csrp2, Gm43861, Scgn, Hpcal1, Col18a1, Idh2 \n",
            "\t   Serpine2, Neurog3, Npepl1, Fstl1, Fgfr2, Cat, G6pc2, Sms, Ptn, Adamts16 \n",
            "PC_ 5 \n",
            "Positive:  Tspan7, Fam183b, Tmem27, Dpysl3, Hes1, Pcsk1n, Gsta3, Miat, Galm, Pax4 \n",
            "\t   Krt19, Hpgd, Ppib, Mal2, Prom1, Pou6f2, Dner, Pax6, Hpcal1, Sult2b1 \n",
            "\t   Akap17b, Smpdl3a, Gas2, S100a11, Dpysl5, Gm43861, Gm14964, Gas6, Lhx1os, Kcnk1 \n",
            "Negative:  Rbp4, Tspan12, Higd1a, Ffar4, Acadm, Fgf12, Col27a1, Ppp3ca, Sox9, Cd82 \n",
            "\t   Sesn2, E2f1, Serpine2, Igf2, Rhoj, Prps1, Klhdc8b, Ank, Col9a3, Mdk \n",
            "\t   Mboat4, Irx2, Ldhb, Zfhx3, G6pc2, Mdm1, Upb1, Syne1, Fstl1, Gch1 \n",
            "\n",
            "Computing nearest neighbors\n",
            "\n",
            "Only one graph name supplied, storing nearest-neighbor graph only\n",
            "\n"
          ]
        },
        {
          "name": "stdout",
          "output_type": "stream",
          "text": [
            "[1] \"4\"\n"
          ]
        },
        {
          "name": "stderr",
          "output_type": "stream",
          "text": [
            "Regressing out nCount_RNA\n",
            "\n",
            "Centering and scaling data matrix\n",
            "\n",
            "PC_ 1 \n",
            "Positive:  Spp1, Muc1, Dbi, Krt18, Sdsl, Aldh1b1, Dll1, Gsta3, Clu, Litaf \n",
            "\t   Mt1, Wfdc15b, Acot1, Calml4, Mpzl1, Anxa2, S100a11, Fgfr1, Ass1, Prdx4 \n",
            "\t   Col18a1, Wsb1, Spink4, Nptx2, Prmt3, Pah, Pebp1, H19, Cyba, Adamts1 \n",
            "Negative:  Neurod2, Tubb3, Miat, Cck, Olfm1, Hpca, BC023829, Tuba1a, Mfng, Ppp1r14a \n",
            "\t   Dbn1, Chn2, Ppp3ca, Emid1, Igfbpl1, Dner, Shf, Upk3bl, Rbfox3, Mdk \n",
            "\t   Sms, Hn1, X1810041L15Rik, Selm, Rab15, Epb42, Slc25a5, Sult2b1, Grin2c, Kcnb2 \n",
            "PC_ 2 \n",
            "Positive:  Ghr, Adgrg6, St8sia2, Irx2, Gpm6b, Ncoa7, Meis2, Klhdc8b, Tmem108, Mboat4 \n",
            "\t   Akr1c19, X1810041L15Rik, Elavl4, Pon3, Apbb1, Rap1b, Ica1, Gm1673, Fam210b, Zfhx3 \n",
            "\t   Sh2d4a, Dtnbos, Gm42637, Pdk3, Pamr1, Fblim1, X1700086L19Rik, Celf4, Hs6st1, Ccl4 \n",
            "Negative:  Smarcd2, Ttc28, Gpx2, Lmna, Csrp2, Elf5, Efhd2, Ncs1, Hpcal1, Trp53i11 \n",
            "\t   Cbfa2t3, Txndc5, Slc7a5, Fermt1, Emb, Mpzl1, Slc31a2, Usp18, Dpysl3, Gpc3 \n",
            "\t   Hes1, Akr1c13, Hrsp12, Amotl1, Fgf12, Qsox1, Cdo1, Dner, Slc39a2, Anxa4 \n",
            "PC_ 3 \n",
            "Positive:  Hist1h2bc, Kirrel2, Megf6, Gadd45a, Cpn1, X1700011H14Rik, Anxa2, Spsb4, Pdgfa, Mmd2 \n",
            "\t   Akr1c19, Dbi, Adk, Hif3a, Kcnq4, Akr1c12, Acvr1c, Cryba2, Pon3, Ldhb \n",
            "\t   Vldlr, Mboat4, Fev, Snrk, Usp18, Fgfr1, Nek6, Gch1, Grin3a, Smoc1 \n",
            "Negative:  Cdc42ep1, Ppp1r1a, X1500009L16Rik, Aard, Pkp4, Lhx1os, Paqr5, Fgfr2, Pax4, Nfix \n",
            "\t   Tm4sf4, Rap1gapos, Muc1, Igsf3, Akap17b, Tff3, Sesn2, Upb1, Carhsp1, Mal2 \n",
            "\t   Gm1673, Sh3bgrl3, Ces1d, Cat, Spock3, Ptch1, Wnk3, Btg2, Igf1r, Prrg2 \n",
            "PC_ 4 \n",
            "Positive:  Mboat1, Sbspon, Efhd2, Myl12b, Cdo1, Zfhx3, Acvr1c, Ndc1, Igsf3, Clmn \n",
            "\t   Nek6, Ppp1r9a, Ctsl, Galm, Sel1l, Zbtb18, Kcnq4, Cpe, Emb, Cmtm7 \n",
            "\t   Ccnjl, Wfdc15b, Gdpd1, Hpcal1, Higd1a, Gch1, Hist1h2bc, Lamc1, Btg2, Acadm \n",
            "Negative:  Klhl13, Akr1c12, Akr1c13, Cpn1, Lrrtm3, St18, Gpc3, Ptn, Cdk6, Parm1 \n",
            "\t   Akr1c19, Ncam1, Spock3, Nrtn, Tpm1, Fgfr2, Mboat4, Klhdc8b, Sesn3, Smpdl3a \n",
            "\t   Usp18, Tspan12, Gas2, Snrk, Cyr61, Litaf, Amotl1, Rnf128, Apoc1, Spr \n",
            "PC_ 5 \n",
            "Positive:  Arx, Tcf7l2, Prdx4, Zfp36l1, Cxxc4, Gch1, Irx2, St8sia2, X1700086L19Rik, S100a10 \n",
            "\t   Smarcd2, Gnaz, Akr1c12, Olfm1, Dpysl3, Pcyt1b, Dcdc2a, Elavl4, Wfdc15b, Ldhb \n",
            "\t   Cyr61, Homer2, Eno1, Cdkn1c, Dll3, Lifr, Tmem108, Igsf8, Mdk, Fam183b \n",
            "Negative:  Ank, Gadd45a, Sox9, Gsta3, Rnf128, Krt19, Sh2d4a, Adamts1, Tmem27, Grin3a \n",
            "\t   Foxa3, Col27a1, Immp1l, Mfng, Osgin1, Ptprn, Sparc, Ptn, Hs6st1, X1700011H14Rik \n",
            "\t   Bicc1, Nek6, Acot1, Pim2, Chic1, Vps36, Phlda1, Rhoj, Pon3, Selenbp1 \n",
            "\n",
            "Computing nearest neighbors\n",
            "\n",
            "Only one graph name supplied, storing nearest-neighbor graph only\n",
            "\n"
          ]
        },
        {
          "name": "stdout",
          "output_type": "stream",
          "text": [
            "[1] \"5\"\n"
          ]
        },
        {
          "name": "stderr",
          "output_type": "stream",
          "text": [
            "Regressing out nCount_RNA\n",
            "\n",
            "Centering and scaling data matrix\n",
            "\n",
            "PC_ 1 \n",
            "Positive:  Id2, Bicc1, Hhex, Cyr61, St3gal4, Atp1b1, Krt19, Sbspon, Cdc42ep1, Selenbp1 \n",
            "\t   Hmga2, Hpgd, Adk, Mal2, Col27a1, Sh2d4a, Nfib, Mt1, Fgfr2, Igsf3 \n",
            "\t   Dcdc2a, Hebp1, Myl12a, S100a10, Gpm6b, Myl12b, Slc2a2, Fkbp2, Sox9, Gapdh \n",
            "Negative:  Cbfa2t3, Tff3, Dll1, Grin3a, Mpzl1, Amotl2, Numbl, Foxa3, Btbd17, Nptx2 \n",
            "\t   Cdk2ap1, Neurog3, Prom1, Lingo1, Btg2, Qsox1, Pax4, Fam151a, Abcc8, Nfix \n",
            "\t   Wsb1, Aldh1b1, Lrrn2, Grasp, Ppp1r14a, Epb42, Gpx2, Calml4, Cotl1, Mfng \n",
            "PC_ 2 \n",
            "Positive:  X1700086L19Rik, Ncam1, Dtnbos, Tmem163, Shf, Pim2, Cpe, Muc1, Sel1l, Bcl2l14 \n",
            "\t   Foxa3, Hprt, Col27a1, Lmna, Kcnq4, Zbtb20, Igsf8, Ddah1, Clu, Ezr \n",
            "\t   Parm1, Galm, Fam174a, Glud1, Grasp, Net1, Immp1l, Gas6, Prps1, Dpp4 \n",
            "Negative:  Ifitm2, Spp1, Selm, Myl12b, Atox1, Col18a1, Ptn, Col9a3, Gm1673, Calml4 \n",
            "\t   Nkx6.1, Vdr, Mmd2, Cxxc4, Ctsz, Ppib, Smoc1, Fscn1, Gpx2, Efhd2 \n",
            "\t   Cyba, Tspan7, Aldh1b1, Tpm4, Cdkn1c, Anxa2, Inppl1, Sparc, Cotl1, Pdlim1 \n",
            "PC_ 3 \n",
            "Positive:  Tubb3, Sct, Slc38a5, A1cf, Gch1, Pak3, Blnk, Gm609, Igfbpl1, Syne1 \n",
            "\t   Ppp1r14a, Tuba1a, Nudt11, Cdc14b, Dcdc2a, Lmna, Sbspon, Myl12a, Shf, Ptch1 \n",
            "\t   Slc39a2, Krt18, Timp3, Camk2b, Gm42637, Lrrn2, Apbb1, Hs6st1, Igfbp7, Mcm6 \n",
            "Negative:  Sox9, Pebp1, Spr, Csrp2, Hn1, Rbp4, Mdk, Smoc2, Wsb1, Wfdc15b \n",
            "\t   Lifr, Ppp1r9a, Akr1c12, Tgm2, Tshz1, Rnf114, Emb, Sh2d4a, Cxxc4, Ambp \n",
            "\t   Gpx7, Gpx2, Fmo2, Cmtm7, Col18a1, Ldhb, Dsp, Fermt1, Notum, Zbtb20 \n",
            "PC_ 4 \n",
            "Positive:  Neurog3, Txndc5, Cldn6, Spp1, Ncam1, Calml4, Dtnbos, Spr, Trim47, Ndc1 \n",
            "\t   Cdo1, Myl12a, Fgf12, E2f1, Tmem163, Atp1b1, Ptn, Rfwd3, Cd82, Nacc1 \n",
            "\t   Afm, St8sia2, Smarca1, Ddah1, Fkbp2, Dll1, Spsb4, Tns1, Vdr, Upb1 \n",
            "Negative:  Nptx2, Tbc1d9, Chic1, Eno1, Epb42, Ifitm2, Fam151a, Paqr5, Wrap73, Mal2 \n",
            "\t   Nudt11, Lipc, Fblim1, Muc1, Timp3, Cck, Mfng, Arx, Scg3, Csrp2 \n",
            "\t   Slc31a2, Anxa2, Hhex, BC023829, Lamc1, Sh2d4a, Notum, Habp2, Amotl1, Gapdh \n",
            "PC_ 5 \n",
            "Positive:  Cxxc4, Slc38a5, Fxyd6, Zfp36l1, Gars, Sms, Ank, Spock3, Wapl, Slc25a5 \n",
            "\t   Ldhb, Cmtm7, Gsta3, Fgfr2, Amotl2, Vdr, Ppp3ca, Shf, Dsp, Ptn \n",
            "\t   Mmd2, Emb, Serpine2, Ptch1, Igsf3, Akr1c13, Cck, Dbi, Aldh1b1, Pon3 \n",
            "Negative:  Clu, Muc1, Sat1, Krt18, Gas6, Akr1c19, Wsb1, Vtcn1, Eya2, Hnf1aos1 \n",
            "\t   Tgm2, Rap1gapos, Kcnk1, X1810041L15Rik, Npepl1, Smpdl3a, Fmo2, Ppp1r9a, Fam53b, Efhd2 \n",
            "\t   Id2, Hprt, Mboat1, Gpc3, Btg2, Ass1, Mdm1, Ndc1, Apbb1, Ptprn \n",
            "\n",
            "Computing nearest neighbors\n",
            "\n",
            "Only one graph name supplied, storing nearest-neighbor graph only\n",
            "\n"
          ]
        },
        {
          "name": "stdout",
          "output_type": "stream",
          "text": [
            "[1] \"3\"\n"
          ]
        },
        {
          "name": "stderr",
          "output_type": "stream",
          "text": [
            "Regressing out nCount_RNA\n",
            "\n",
            "Centering and scaling data matrix\n",
            "\n",
            "PC_ 1 \n",
            "Positive:  Clu, Cdc14b, E2f1, Sparc, Tmsb4x, Eya2, Trp53i11, Acot1, Mpzl1, S100a11 \n",
            "\t   Slc7a5, Tmem51, H19, Acaa2, Snrk, Fstl1, Cdkn1c, Slc2a5, Emid1, Gadd45a \n",
            "\t   Lrrn2, Tff3, Slc31a2, Mdk, Nek6, Sel1l, Ccnjl, Wrap73, Higd1a, Igf1r \n",
            "Negative:  St18, Cpe, Pax6, Tm4sf4, Emb, Arx, Meis2, Tuba1a, Fam183b, Necab2 \n",
            "\t   Gm43861, BC023829, Klhdc8b, Akr1c19, Glud1, Gspt1, Lhx1os, Pdx1, Pcsk1n, Scg3 \n",
            "\t   Elavl4, Scg5, Pcsk2os1, Akr1c13, Gars, Pak3, St8sia2, Pcyt1b, Dner, X1700086L19Rik \n",
            "PC_ 2 \n",
            "Positive:  Pax4, Hpcal1, X1810041L15Rik, Gadd45a, Neurog3, Krt19, BC023829, Flrt1, Kirrel2, Mfng \n",
            "\t   Trp53i11, Foxa3, Tmem51, Dbn1, Cryba2, Gm43861, Lhx1os, Tuba1a, Gars, Rab15 \n",
            "\t   Miat, Cbfa2t2, Myl12a, Fras1, Zbtb18, Olfm1, Mlxipl, E2f1, Fxyd6, Pax6 \n",
            "Negative:  Fam151a, Gm43194, Mboat4, Fam107b, Nptx2, Tm4sf4, Tmsb15l, Jade1, Tff3, Smarca1 \n",
            "\t   Gpc3, Ctsl, Fam174a, Scin, Gch1, Col27a1, Wapl, Lrrtm3, Sms, Spp1 \n",
            "\t   Tmem27, Sema3c, Arx, X1700086L19Rik, Ppib, S100a11, Fmo2, Glud1, Muc1, Wfdc15b \n",
            "PC_ 3 \n",
            "Positive:  Col9a3, Kirrel2, Mdm1, Sat1, Gdpd1, Sox9, Pdlim1, Ifitm2, Cldn6, Lifr \n",
            "\t   Carhsp1, X1700086L19Rik, Fmo2, Gspt1, Emid1, Notum, Actn4, Actl6b, Ppp3ca, Sh3bgrl3 \n",
            "\t   Npepl1, Cd82, Gars, Wfdc15b, E2f1, Jade1, Grin3a, Auts2, Lingo1, Rnf130 \n",
            "Negative:  Ocrl, Col18a1, Camk2b, Akr1c19, Cbfa2t3, Ezr, Kcnb2, Sema3g, Adk, Rdh5 \n",
            "\t   Amotl2, Mdk, Vdr, Upb1, Cdkn1c, Cbfa2t2, Spink4, Gm42637, Dll1, Igfbpl1 \n",
            "\t   Cmtm8, Igf1r, Prdx4, Cyp4b1, Nudt11, Ppp1r14a, Fermt1, Hdgfrp3, Hap1, Upk3bl \n",
            "PC_ 4 \n",
            "Positive:  Mboat4, Meis2, Pkib, Megf11, Scg5, Ush1c, Arx, Grasp, Snrk, Slc7a5 \n",
            "\t   Myl12a, Cldn6, Pim2, Zfhx3, Dll3, St14, Sema3c, Wapl, Ctsl, Krt18 \n",
            "\t   Tead2, Sat1, Epb42, Habp2, Id2, Cxxc4, Calml4, Atox1, Idh2, Wwc1 \n",
            "Negative:  Col27a1, Jade1, Tmsb15l, Elf5, Elavl4, Wfdc15b, Cmtm7, Smarca1, Sept3, Ocrl \n",
            "\t   Gm43194, Prmt3, Nkx6.1, Mcm6, Flrt1, Rdh5, Svbp, X1700086L19Rik, Upb1, Sesn3 \n",
            "\t   Pcsk2os1, Atp1b1, Cpn1, Rbms3, Adk, Mdk, Cat, Tpm4, Spink4, Sulf1 \n",
            "PC_ 5 \n",
            "Positive:  Dpysl5, Cldn6, Arsb, Celf4, Nkx6.1, Selm, Ap1s2, Nacc1, Ass1, Zfhx3 \n",
            "\t   Rfwd3, Afm, Necab2, Ccnd3, Pdk3, Tubb3, Sulf1, Prkacb, Hpgd, Dll3 \n",
            "\t   Slc7a5, Gdpd1, Flrt2, Tbc1d9, Elavl4, Hap1, Pcyt1b, Ppp1r14a, Mdk, Chn2 \n",
            "Negative:  Kirrel2, Emid1, Vldlr, Fev, Gnaz, Lamb1, Lipc, Casz1, Rasl11b, Gm42637 \n",
            "\t   Ppp3ca, Slc38a5, Tmsb4x, Glud1, Tecr, Sh3bgrl3, Spink4, Nxph1, Apoc1, Cdkn1c \n",
            "\t   Fblim1, Emb, Grin3a, Hnf1aos1, Mlxipl, Pcsk2, Fam151a, Pax4, Pard3, Ambp \n",
            "\n",
            "Computing nearest neighbors\n",
            "\n",
            "Only one graph name supplied, storing nearest-neighbor graph only\n",
            "\n"
          ]
        },
        {
          "name": "stdout",
          "output_type": "stream",
          "text": [
            "[1] \"7\"\n"
          ]
        },
        {
          "name": "stderr",
          "output_type": "stream",
          "text": [
            "Regressing out nCount_RNA\n",
            "\n",
            "Centering and scaling data matrix\n",
            "\n",
            "PC_ 1 \n",
            "Positive:  Resp18, Gk, X1700086L19Rik, Gch1, Syne1, Flrt1, Serpine2, Mgll, Hist1h2bc, Akr1c12 \n",
            "\t   Gsta3, S100a10, Pkp4, S100a11, Atp1b1, Fras1, Ccnjl, Gars, Rap1b, Adamts1 \n",
            "\t   Gas2, Spp1, Cdk6, Rhoj, Cat, Hebp1, Spsb4, Spr, Igsf8, Mt1 \n",
            "Negative:  Btg2, Mif, Prom1, Idh2, Zbtb20, Nptx2, Wfdc15b, Emid1, Glud1, Litaf \n",
            "\t   Inppl1, Lzts1, Upk3bl, Tubb3, Pax4, Sox9, Slc39a2, Gm42637, Tm4sf4, Rbfox3 \n",
            "\t   Fam174a, Tspear, Qsox1, Tenm4, X1810041L15Rik, Tff3, Muc1, Fscn1, Bcl2l14, Ppp3ca \n",
            "PC_ 2 \n",
            "Positive:  Pcyt1b, Paqr5, Ppy, Smpdl3a, Smarca1, Dpp4, Adamts16, Gm42637, Pam, Flrt1 \n",
            "\t   Ush1c, Fermt1, Pon3, Ezr, Ppib, Parm1, Igf1r, Tead2, Hist1h2bc, Hpgd \n",
            "\t   Sulf2, Fgfr2, Fgf12, Tspan7, Fstl1, Rbp4, Tcf7l2, Prkacb, Grin3a, Pdk3 \n",
            "Negative:  Idh2, Gm8113, Hprt, Spp1, Ambp, Pdgfa, Lmna, Lipc, Mpzl1, H19 \n",
            "\t   Pamr1, Btbd17, Rnf128, Anxa2, Sat1, Bicc1, Prrg2, Wwc1, Blnk, Nfib \n",
            "\t   Rasl11b, Apoc1, Eno1, Pdlim1, Mal2, Akr1c13, Dcdc2a, Ndc1, X1700011H14Rik, Atp1b1 \n",
            "PC_ 3 \n",
            "Positive:  Rhoj, Clu, X1700086L19Rik, Gch1, Resp18, Gk, Gspt1, Rab3b, Sphkap, Rnf128 \n",
            "\t   Akr1c12, Csrp2, Cck, Nek6, Mia, Grin3a, Inppl1, Slc25a5, Cdk6, Gpx3 \n",
            "\t   Neurog3, Hrsp12, Klhl13, Spsb4, Fam53b, Pkp4, Lingo1, H19, Sult2b1, Gnaz \n",
            "Negative:  Tmem27, Spock3, Mal2, Hif3a, Gsta3, Hn1, S100a10, Acadm, Bicc1, Zfhx3 \n",
            "\t   St3gal4, Sesn2, Slc7a5, Atg4a, Pdgfa, Trp53i11, Hes1, Fgf12, Phlda1, Cyba \n",
            "\t   Hhex, Dpp4, Akr1c13, Idh2, Krt18, Gm8113, Hmga2, Tmem51, Afm, Bst2 \n",
            "PC_ 4 \n",
            "Positive:  Nkx6.1, Cat, Gm42637, Higd1a, St3gal4, Tff3, Adamts1, Selm, Sesn2, Fam159a \n",
            "\t   Gas2, Cyr61, Lingo1, Tecr, Prrg2, Lamb1, Smoc1, Megf11, St8sia2, S100a11 \n",
            "\t   Tcf7l2, Sesn3, Elf5, Fgfr1, Ass1, Spock3, Sparc, Usp18, Zfhx3, Pamr1 \n",
            "Negative:  Fkbp2, Pdk3, Bcl2l14, Notum, Qsox1, Ociad2, Cdo1, Anxa2, Snrk, Cldn6 \n",
            "\t   Mdk, Cmtm8, Aldh1b1, Ccnjl, Hn1, Parm1, Slc25a5, Eno1, Carhsp1, Fras1 \n",
            "\t   Slc31a2, Dpp4, Gm1673, Fscn1, Cdc14b, Mnx1, Pak3, Cpe, Igf1r, Anxa4 \n",
            "PC_ 5 \n",
            "Positive:  Fgfr2, Gpx7, Ddah1, Cxxc4, Ghr, Gas6, Elf5, Rbms3, Paqr5, Bicc1 \n",
            "\t   Slc38a5, Slc7a5, Atp1b1, Apoc1, Mif, Mboat1, Gpx3, Ncoa7, Klhdc8b, Ppp1r14a \n",
            "\t   Rnf114, Cpn1, Sema3c, Clmn, Trim35, H19, Rap1gapos, Necab2, Ehf, Dcdc2a \n",
            "Negative:  Shf, Tenm4, Gas2, Acaa2, Rap1b, Ptn, Neurod2, Olfm1, Grasp, Carhsp1 \n",
            "\t   Ces1d, Rbp4, Akr1c12, Nkx6.1, Gadd45a, Ctsl, Btbd17, Syne1, Pax4, Pim2 \n",
            "\t   Prps1, Tpm4, Tuba1a, Ifitm2, Smpdl3a, Sdsl, Lrrn2, Tm4sf4, Pkp4, Rasl11b \n",
            "\n",
            "Computing nearest neighbors\n",
            "\n",
            "Only one graph name supplied, storing nearest-neighbor graph only\n",
            "\n"
          ]
        }
      ],
      "source": [
        "# calculate transition index\n",
        "data<-transition_index(data,n_neighbor=30,n_gene=100)"
      ]
    },
    {
      "cell_type": "markdown",
      "metadata": {
        "id": "nl5tLWF2K-YA"
      },
      "source": [
        "##Visualization"
      ]
    },
    {
      "cell_type": "code",
      "execution_count": 13,
      "metadata": {
        "colab": {
          "base_uri": "https://localhost:8080/",
          "height": 437
        },
        "id": "-qp6qEaDLHUU",
        "outputId": "88963fa2-9263-47ef-b82e-9091771e956b",
        "vscode": {
          "languageId": "r"
        }
      },
      "outputs": [
        {
          "data": {
            "image/png": "[encoded data removed]",
            "text/plain": [
              "plot without title"
            ]
          },
          "metadata": {
            "image/png": {
              "height": 420,
              "width": 420
            }
          },
          "output_type": "display_data"
        }
      ],
      "source": [
        "# PCA 按 Transition Index 着色\n",
        "FeaturePlot(data, reduction = \"pca\", features = 'transition_index', order = TRUE, pt.size = 1)"
      ]
    },
    {
      "cell_type": "code",
      "execution_count": 14,
      "metadata": {
        "vscode": {
          "languageId": "r"
        }
      },
      "outputs": [],
      "source": [
        "write.table(data$transition_index, \n",
        "            file = paste(data_name, \"/transition_index.csv\", sep = '/'),\n",
        "            row.names = FALSE,\n",
        "            col.names = FALSE,\n",
        "            sep = \",\")"
      ]
    }
  ],
  "metadata": {
    "colab": {
      "provenance": []
    },
    "kernelspec": {
      "display_name": "R",
      "language": "R",
      "name": "ir"
    },
    "language_info": {
      "codemirror_mode": "r",
      "file_extension": ".r",
      "mimetype": "text/x-r-source",
      "name": "R",
      "pygments_lexer": "r",
      "version": "4.4.0"
    }
  },
  "nbformat": 4,
  "nbformat_minor": 0
}
