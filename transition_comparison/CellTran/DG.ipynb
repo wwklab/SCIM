{
  "cells": [
    {
      "cell_type": "markdown",
      "metadata": {
        "id": "W6kXcflWLiof"
      },
      "source": [
        "## Installation"
      ]
    },
    {
      "cell_type": "code",
      "execution_count": 1,
      "metadata": {
        "colab": {
          "base_uri": "https://localhost:8080/"
        },
        "collapsed": true,
        "id": "PYjdgAvWIcfo",
        "outputId": "971d5550-3bda-477e-ffd7-7c73e3c53afc",
        "vscode": {
          "languageId": "r"
        }
      },
      "outputs": [],
      "source": [
        "# # install package dependencies Seurat, scLink and dplyr\n",
        "# install.packages('scLink',version='1.0.1')\n",
        "# install.packages('dplyr')\n",
        "# remotes::install_version(\"Seurat\", \"4.4.0\")"
      ]
    },
    {
      "cell_type": "code",
      "execution_count": 2,
      "metadata": {
        "colab": {
          "base_uri": "https://localhost:8080/"
        },
        "collapsed": true,
        "id": "g7aIZCW2BJw8",
        "outputId": "49ead3af-a787-4511-cfc9-c10a5d17c26d",
        "vscode": {
          "languageId": "r"
        }
      },
      "outputs": [],
      "source": [
        "# library(devtools)\n",
        "# install_github(\"KChen-lab/transition-cells-identification\",force=T)"
      ]
    },
    {
      "cell_type": "code",
      "execution_count": 3,
      "metadata": {
        "id": "lh9vinaVH-55",
        "vscode": {
          "languageId": "r"
        }
      },
      "outputs": [],
      "source": [
        "library(CellTran)\n",
        "options(warn=-1)"
      ]
    },
    {
      "cell_type": "markdown",
      "metadata": {
        "id": "I8RVTsuFGTwL"
      },
      "source": [
        "## Read data"
      ]
    },
    {
      "cell_type": "code",
      "execution_count": null,
      "metadata": {
        "colab": {
          "base_uri": "https://localhost:8080/"
        },
        "id": "ycYc2BqKBvBc",
        "outputId": "69754c2c-3dc7-40bd-db46-fcbe2b309cdb",
        "vscode": {
          "languageId": "r"
        }
      },
      "outputs": [
        {
          "data": {
            "text/html": [
              "<table class=\"dataframe\">\n",
              "<caption>A data.frame: 6 × 4</caption>\n",
              "<thead>\n",
              "\t<tr><th></th><th scope=col>orig.ident</th><th scope=col>nCount_RNA</th><th scope=col>nFeature_RNA</th><th scope=col>ClusterName</th></tr>\n",
              "\t<tr><th></th><th scope=col>&lt;fct&gt;</th><th scope=col>&lt;dbl&gt;</th><th scope=col>&lt;int&gt;</th><th scope=col>&lt;chr&gt;</th></tr>\n",
              "</thead>\n",
              "<tbody>\n",
              "\t<tr><th scope=row>10X84_2:AAATGCCAGGTGCTAGx</th><td>10X84</td><td>110.42559</td><td>127</td><td>RadialGlia </td></tr>\n",
              "\t<tr><th scope=row>10X84_2:AAACCTGAGTTGAGTAx</th><td>10X84</td><td> 81.33175</td><td> 57</td><td>ImmGranule1</td></tr>\n",
              "\t<tr><th scope=row>10X84_2:AACACGTGTTATCGGTx</th><td>10X84</td><td> 96.75255</td><td> 71</td><td>ImmGranule1</td></tr>\n",
              "\t<tr><th scope=row>10X84_2:AAAGTAGAGCTCAACTx</th><td>10X84</td><td>126.87516</td><td>162</td><td>Granule    </td></tr>\n",
              "\t<tr><th scope=row>10X84_2:AAACCTGTCCTTTACAx</th><td>10X84</td><td>103.83191</td><td> 93</td><td>ImmGranule2</td></tr>\n",
              "\t<tr><th scope=row>10X84_2:AAACCTGGTCGCTTCTx</th><td>10X84</td><td>119.08071</td><td>112</td><td>Nbl1       </td></tr>\n",
              "</tbody>\n",
              "</table>\n"
            ],
            "text/latex": [
              "A data.frame: 6 × 4\n",
              "\\begin{tabular}{r|llll}\n",
              "  & orig.ident & nCount\\_RNA & nFeature\\_RNA & ClusterName\\\\\n",
              "  & <fct> & <dbl> & <int> & <chr>\\\\\n",
              "\\hline\n",
              "\t10X84\\_2:AAATGCCAGGTGCTAGx & 10X84 & 110.42559 & 127 & RadialGlia \\\\\n",
              "\t10X84\\_2:AAACCTGAGTTGAGTAx & 10X84 &  81.33175 &  57 & ImmGranule1\\\\\n",
              "\t10X84\\_2:AACACGTGTTATCGGTx & 10X84 &  96.75255 &  71 & ImmGranule1\\\\\n",
              "\t10X84\\_2:AAAGTAGAGCTCAACTx & 10X84 & 126.87516 & 162 & Granule    \\\\\n",
              "\t10X84\\_2:AAACCTGTCCTTTACAx & 10X84 & 103.83191 &  93 & ImmGranule2\\\\\n",
              "\t10X84\\_2:AAACCTGGTCGCTTCTx & 10X84 & 119.08071 & 112 & Nbl1       \\\\\n",
              "\\end{tabular}\n"
            ],
            "text/markdown": [
              "\n",
              "A data.frame: 6 × 4\n",
              "\n",
              "| <!--/--> | orig.ident &lt;fct&gt; | nCount_RNA &lt;dbl&gt; | nFeature_RNA &lt;int&gt; | ClusterName &lt;chr&gt; |\n",
              "|---|---|---|---|---|\n",
              "| 10X84_2:AAATGCCAGGTGCTAGx | 10X84 | 110.42559 | 127 | RadialGlia  |\n",
              "| 10X84_2:AAACCTGAGTTGAGTAx | 10X84 |  81.33175 |  57 | ImmGranule1 |\n",
              "| 10X84_2:AACACGTGTTATCGGTx | 10X84 |  96.75255 |  71 | ImmGranule1 |\n",
              "| 10X84_2:AAAGTAGAGCTCAACTx | 10X84 | 126.87516 | 162 | Granule     |\n",
              "| 10X84_2:AAACCTGTCCTTTACAx | 10X84 | 103.83191 |  93 | ImmGranule2 |\n",
              "| 10X84_2:AAACCTGGTCGCTTCTx | 10X84 | 119.08071 | 112 | Nbl1        |\n",
              "\n"
            ],
            "text/plain": [
              "                          orig.ident nCount_RNA nFeature_RNA ClusterName\n",
              "10X84_2:AAATGCCAGGTGCTAGx 10X84      110.42559  127          RadialGlia \n",
              "10X84_2:AAACCTGAGTTGAGTAx 10X84       81.33175   57          ImmGranule1\n",
              "10X84_2:AACACGTGTTATCGGTx 10X84       96.75255   71          ImmGranule1\n",
              "10X84_2:AAAGTAGAGCTCAACTx 10X84      126.87516  162          Granule    \n",
              "10X84_2:AAACCTGTCCTTTACAx 10X84      103.83191   93          ImmGranule2\n",
              "10X84_2:AAACCTGGTCGCTTCTx 10X84      119.08071  112          Nbl1       "
            ]
          },
          "metadata": {},
          "output_type": "display_data"
        },
        {
          "data": {
            "image/png": "[encoded data removed]",
            "text/plain": [
              "plot without title"
            ]
          },
          "metadata": {
            "image/png": {
              "height": 420,
              "width": 420
            }
          },
          "output_type": "display_data"
        }
      ],
      "source": [
        "library(Seurat)\n",
        "library(dplyr)\n",
        "\n",
        "data_name = 'DG'\n",
        "\n",
        "# (1) 读取表达矩阵（自动生成行名 \"1\", \"2\", \"3\"...）\n",
        "counts <- read.csv(paste(data_name, \"X.csv\", sep = \"/\"), row.names = 1)  # 假设第一列是基因名\n",
        "\n",
        "# (2) 创建 Seurat 对象\n",
        "data <- CreateSeuratObject(\n",
        "  counts = t(counts),          # Seurat 要求行=基因，列=细胞（需转置）\n",
        ")\n",
        "\n",
        "# (3) 添加 PCA 坐标\n",
        "pca <- read.csv(paste(data_name, \"pca.csv\", sep = \"/\"), row.names = 1)\n",
        "data[[\"pca\"]] <- CreateDimReducObject(\n",
        "  embeddings = as.matrix(pca), # PCA 坐标矩阵\n",
        "  key = \"PC_\",                 # 坐标列名前缀（如 PC_1, PC_2）\n",
        "  assay = \"RNA\"                # 关联到 RNA assay\n",
        ")\n",
        "\n",
        "# (4) 添加 UMAP 坐标\n",
        "umap <- read.csv(paste(data_name, \"umap.csv\", sep = \"/\"), row.names = 1)\n",
        "data[[\"umap\"]] <- CreateDimReducObject(\n",
        "  embeddings = as.matrix(umap),\n",
        "  key = \"UMAP_\",               # 坐标列名前缀（如 UMAP_1, UMAP_2）\n",
        "  assay = \"RNA\"\n",
        ")\n",
        "\n",
        "# (5) 添加聚类标签\n",
        "clusters <- read.csv(paste(data_name, \"ClusterName.csv\", sep = \"/\"), row.names = 1)\n",
        "data <- AddMetaData(\n",
        "  object = data,\n",
        "  metadata = clusters,\n",
        "  col.name = \"ClusterName\"     # 元数据列名\n",
        ")\n",
        "\n",
        "# (6) 设置默认聚类标识\n",
        "Idents(data) <- \"ClusterName\"  # 后续分析默认按此分组\n",
        "\n",
        "# 查看结果\n",
        "head(data@meta.data)\n",
        "DimPlot(data, reduction = \"umap\", group.by = \"ClusterName\", label = TRUE)"
      ]
    },
    {
      "cell_type": "code",
      "execution_count": 16,
      "metadata": {
        "vscode": {
          "languageId": "r"
        }
      },
      "outputs": [
        {
          "data": {
            "image/png": "[encoded data removed]",
            "text/plain": [
              "plot without title"
            ]
          },
          "metadata": {
            "image/png": {
              "height": 420,
              "width": 420
            }
          },
          "output_type": "display_data"
        }
      ],
      "source": [
        "DimPlot(data, reduction = \"pca\", group.by = \"ClusterName\", label = TRUE)"
      ]
    },
    {
      "cell_type": "code",
      "execution_count": 17,
      "metadata": {
        "vscode": {
          "languageId": "r"
        }
      },
      "outputs": [
        {
          "name": "stderr",
          "output_type": "stream",
          "text": [
            "Centering and scaling data matrix\n",
            "\n",
            "Computing nearest neighbor graph\n",
            "\n",
            "Computing SNN\n",
            "\n"
          ]
        },
        {
          "name": "stdout",
          "output_type": "stream",
          "text": [
            "Modularity Optimizer version 1.3.0 by Ludo Waltman and Nees Jan van Eck\n",
            "\n",
            "Number of nodes: 3139\n",
            "Number of edges: 98058\n",
            "\n",
            "Running Louvain algorithm...\n",
            "Maximum modularity in 10 random starts: 0.8783\n",
            "Number of communities: 10\n",
            "Elapsed time: 0 seconds\n"
          ]
        }
      ],
      "source": [
        "data<- NormalizeData(data)\n",
        "data<- ScaleData(data)\n",
        "# data<- RunPCA(data, features = rownames(data))\n",
        "data<- FindNeighbors(data, dims = 1: 5)\n",
        "data<- FindClusters(data, resolution = 0.5)\n",
        "# data<- RunUMAP(data,dims=1:5)"
      ]
    },
    {
      "cell_type": "code",
      "execution_count": 18,
      "metadata": {
        "vscode": {
          "languageId": "r"
        }
      },
      "outputs": [
        {
          "data": {
            "text/plain": [
              "An object of class Seurat \n",
              "678 features across 3139 samples within 1 assay \n",
              "Active assay: RNA (678 features, 0 variable features)\n",
              " 3 layers present: counts, data, scale.data\n",
              " 2 dimensional reductions calculated: pca, umap"
            ]
          },
          "metadata": {},
          "output_type": "display_data"
        }
      ],
      "source": [
        "data"
      ]
    },
    {
      "cell_type": "markdown",
      "metadata": {
        "id": "O9rN7BtXHusV"
      },
      "source": [
        "# Calculate transition index"
      ]
    },
    {
      "cell_type": "code",
      "execution_count": 20,
      "metadata": {
        "vscode": {
          "languageId": "r"
        }
      },
      "outputs": [],
      "source": [
        "#' Calculate GPPCCs\n",
        "#'\n",
        "#' This is the function calculating gene pair-wise Pearson's correlation coefficients (GPPCCs). \n",
        "#' The GPPCCs calculated using our method are assumed from the cells that exhibit similar \n",
        "#' regulatory profiles and around equilibrium points. Thus, for each cell, we select the cell \n",
        "#' together with its nearest neighbors in Principal Component Analysis (PCA) dimensions based \n",
        "#' on cosine distance to calculate GPPCCs. We also use scLink in the calculation to deal with\n",
        "#' the gene expression values affected by dropout. \n",
        "#' @param data Seurat object containing both count matrix and metadata such as neighboring \n",
        "#' results for a single-cell dataset.\n",
        "#' @param highly_variable_gene A gene list containing top most variable genes. Calculated \n",
        "#' by \\code{var} function by default.\n",
        "#' @param n_neighbor The number of neighboring cells used to calculate GPPCCs. 300 by default.\n",
        "#' @return A matrix of GPPCCs. Rows are cells and columns are gene pairs.\n",
        "#' @import Seurat\n",
        "#' @import scLink\n",
        "#' @import dplyr\n",
        "#' @export\n",
        "gene_pearson<-function(data,highly_variable_gene=NULL,n_neighbor=300,n_gene=50,...){\n",
        "        res<-NULL\n",
        "        exprs<-as.matrix(GetAssayData(data))\n",
        "        if(is.null(highly_variable_gene)){\n",
        "                highly_variable_gene<-order(apply(as.matrix(exprs),1,function(x) var(x)),decreasing=T)[1:n_gene]\n",
        "                highly_variable_gene<-rownames(exprs)[highly_variable_gene]\n",
        "        }\n",
        "        for(c in data %>% colnames()){\n",
        "                expr<-t(exprs[highly_variable_gene,data@neighbors$RNA.nn@nn.idx[match(c,data@neighbors$RNA.nn@cell.names),]])\n",
        "                pearson_cor<-scLink::sclink_cor(expr = expr, ncores = 1)\n",
        "                diag(pearson_cor)<-NA\n",
        "                res<-rbind(res,as.numeric(pearson_cor))\n",
        "        }\n",
        "        rownames(res)<-colnames(data)\n",
        "        gene_name<-highly_variable_gene\n",
        "        name_tmp<-character()\n",
        "        for(i in gene_name){\n",
        "                for(j in gene_name)\n",
        "                        name_tmp<-c(name_tmp,paste(i,j,sep='_'))\n",
        "         }\n",
        "        colnames(res)<-name_tmp\n",
        "        return(res)\n",
        "}\n",
        "\n",
        "\n",
        "find_ks_d<-function(x,y){\n",
        "        n.x <- length(x)\n",
        "        n.y <- length(y)\n",
        "        w <- c(x, y)\n",
        "        z <- cumsum(ifelse(order(w) <= n.x, 1/n.x, -1/n.y))\n",
        "        w_sort<-sort(w)\n",
        "        w_max<-max(w_sort[z==max(z)])\n",
        "        z_sub<-z[w_sort>w_max]\n",
        "        w_min<-min(w_sort[w_sort>w_max][z_sub==min(z_sub)])\n",
        "        return(list('w_min'=w_min,'w_max'=w_max))\n",
        "}\n",
        "\n",
        "#' Calculate transition index\n",
        "#'\n",
        "#' This is the function calculating transition index that reflects the transition\n",
        "#' probability of a cell. The transition index we defined is inspired by Kolmogorov-Smirnov \n",
        "#' statistic. We assume there are both transition cells and stable cells captured by  \n",
        "#' scRNA-seq in the data. We first find the archetype of transition \n",
        "#' cell and stable cell by using modified Kolmogorov-Smirnov statistic. As proved \n",
        "#' mathematically, there are more gene pairs whose absolute value of Pearson鈥檚 \n",
        "#' correlation coefficients are close to 1 in transition cells than stable cells. \n",
        "#' Thus, based on the distribution difference, by finding the maximum difference \n",
        "#' among all cells, we identify archetypal stable cells and transition cells. To \n",
        "#' count and compare the number of gene pairs exceeding such threshold in each cell, \n",
        "#' we define transition index by summarizing the percentage of gene pairs whose \n",
        "#' absolute value of Pearson鈥檚 correlation coefficients are between argmax_x(D_max)    \n",
        "#' and argmin_x(D_max). \n",
        "#'\n",
        "#' @param data Seurat object containing both count matrix and metadata such as neighboring \n",
        "#' results for a single-cell dataset.\n",
        "#' @param highly_variable_gene A gene list containing top most variable genes. Calculated \n",
        "#' by \\code{var} function by default.\n",
        "#' @param group The cell group highly_variable_genes selected based on. It should be a column\n",
        "#' name of data@meta.data, such as 'seurat_clusters','cell_type','time_point'. Using \n",
        "#' 'seurat_clusters' by default. \n",
        "#' @param n_neighbor The number of neighboring cells used to calculate GPPCCs. 300 by default.\n",
        "#' @param n_gene The number of top most variable genes used in calculating GPPCCs. 50 by default.\n",
        "#' @param return_pearson Whether report GPPCCs or not. Using False by default.\n",
        "#' @return If return_pearson is False, return a Seurat object. Calculated transition index is \n",
        "#' store as a column in the metadata. If return_pearson is True, return a list. Calculated \n",
        "#' transition index is stored in the data element, as a column in the metadata. GPPCCs is stored\n",
        "#' in the GPPCCs element.\n",
        "#' @import Seurat\n",
        "#' @import scLink\n",
        "#' @import dplyr\n",
        "#' @export\n",
        "transition_index<-function(data,highly_variable_gene=NULL,group='seurat_clusters',n_neighbors=300,n_gene=50,return_pearson=FALSE,...){\n",
        "    res<-list()\n",
        "    for(i in data@meta.data[,group] %>% unique()){\n",
        "            print(i)\n",
        "            data_sub<-data[,data@meta.data[,group]==i]\n",
        "            if(ncol(data_sub)<=n_neighbors)\n",
        "                    next\n",
        "            data_sub<-Seurat::FindVariableFeatures(data_sub, selection.method = \"vst\", nfeatures = 2000)\n",
        "            data_sub<- Seurat::ScaleData(data_sub,vars.to.regress=\"nCount_RNA\")\n",
        "            data_sub<- Seurat::RunPCA(data_sub, features = VariableFeatures(object = data_sub),npcs=min(20,ncol(data_sub)))\n",
        "            data_sub<- Seurat::FindNeighbors(data_sub, dims = 1: min(20,ncol(data_sub)),return.neighbor = TRUE,k.param=n_neighbors,annoy.metric='cosine')\n",
        "            pearson<-gene_pearson(data_sub,highly_variable_gene=highly_variable_gene,n_neighbor=n_neighbors,n_gene=n_gene)\n",
        "            # fine tuning  (optional)\n",
        "            pearson<-abs(pearson)\n",
        "            res_1<-apply(pearson,1,function(x) ks.test(x,pearson[1,],alternative='greater')$statistic)\n",
        "            res_2<-apply(pearson,1,function(x) ks.test(x,pearson[1,],alternative='less')$statistic)\n",
        "            res_tmp<-find_ks_d(pearson[which.max(res_1),],pearson[which.max(res_2),])\n",
        "            tmp<-apply(pearson,1,function(x) sum(abs(x)>min(unlist(res_tmp)) & abs(x)<max(unlist(res_tmp)),na.rm=T)/sum(abs(x)>=0,na.rm=T))\n",
        "            data_sub<-Seurat::AddMetaData(data_sub,data.frame('pearson'=tmp))\n",
        "            if(min(tmp)==max(tmp)){\n",
        "                    res[[as.character(i)]]<-pearson\n",
        "                    next\n",
        "            }\n",
        "            cell<-data_sub@meta.data %>% dplyr::filter(pearson>quantile(data_sub$pearson,0.8,na.rm=T)) %>% rownames()\n",
        "            hvg<-sort(apply(as.matrix(GetAssayData(data_sub[,cell])),1,function(x) var(x)),decreasing=T)[1:n_gene] %>% names\n",
        "            pearson<-gene_pearson(data_sub,n_neighbor=n_neighbors,highly_variable_gene=hvg)\n",
        "            res[[as.character(i)]]<-pearson\n",
        "    }\n",
        "    res<-Reduce(function(x,y) rbind(x,y),res)\n",
        "    pearson<-res\n",
        "    res<-abs(res)\n",
        "    res_1<-apply(res,1,function(x) ks.test(x,res[1,],alternative='greater')$statistic)\n",
        "    res_2<-apply(res,1,function(x) ks.test(x,res[1,],alternative='less')$statistic)\n",
        "    res_tmp<-find_ks_d(res[which.max(res_1),],res[which.max(res_2),])\n",
        "    tmp<-apply(res,1,function(x) sum(abs(x)>min(unlist(res_tmp)) & abs(x)<max(unlist(res_tmp)),na.rm=T)/sum(abs(x)>=0,na.rm=T))\n",
        "    data<-Seurat::AddMetaData(data,data.frame('transition_index'=tmp))\n",
        "    if(!return_pearson)\n",
        "    return(data)\n",
        "    else\n",
        "    return(list('GPPCCs'=pearson,'data'=data))\n",
        "}\n"
      ]
    },
    {
      "cell_type": "code",
      "execution_count": 21,
      "metadata": {
        "colab": {
          "base_uri": "https://localhost:8080/"
        },
        "collapsed": true,
        "id": "UD7hEqWlH2Rm",
        "outputId": "30e81ecb-ef92-41c0-d36e-adbee847b394",
        "vscode": {
          "languageId": "r"
        }
      },
      "outputs": [
        {
          "name": "stdout",
          "output_type": "stream",
          "text": [
            "[1] \"5\"\n"
          ]
        },
        {
          "name": "stderr",
          "output_type": "stream",
          "text": [
            "Regressing out nCount_RNA\n",
            "\n",
            "Centering and scaling data matrix\n",
            "\n",
            "PC_ 1 \n",
            "Positive:  Fabp7, Ptpre, Ptpn5, Timp3, Pea15a, Tspan7, Ptn, Pcdh19, Slc6a15, Dlgap1 \n",
            "\t   Kcnq2, Prex1, Slc1a3, Lrrn2, Gabrb1, Lmtk3, Rasgrf1, Slc6a7, Tnc, Clu \n",
            "\t   Sparcl1, Ryr2, Car2, S100a6, Aqp4, Mdga1, Ptprz1, Pcsk2, Kcnj4, Arpp21 \n",
            "Negative:  Rpl32, Mcm6, Tesc, Dhfr, Ran, Chd7, Cdt1, Ndufc2, Tpx2, Ccne2 \n",
            "\t   Elavl4, Ckap2, Lima1, Siva1, Tox3, Mcm3, Anp32b, Cdca7, Hmgn1, Ranbp1 \n",
            "\t   Trp53i11, Ezh2, Mt2, Ccdc34, Cenpk, Sgol1, Nasp, Nme4, Dtl, Dut \n",
            "PC_ 2 \n",
            "Positive:  Fabp7, Plpp3, Cd63, Car2, Ptn, Nkain4, Lxn, Msmo1, Uhrf1, Pea15a \n",
            "\t   Cyr61, Rpa2, Pon2, Mlc1, Mfap3l, Oat, Ramp1, Frzb, Ctnnbip1, Top2a \n",
            "\t   Csrp1, Sparcl1, Galnt16, Glud1, Dut, S100a6, Emid1, Cspg5, Pcna, Cd9 \n",
            "Negative:  Mdga1, Kcnj4, Ryr2, Caly, Rasgrf1, Pcdh19, Slc6a15, Kcnq2, Shtn1, Syp \n",
            "\t   Ptpn5, Rpl32, Lrrn2, Arpp21, Lmtk3, Pcsk2, Calb2, Islr2, Matk, Ptpre \n",
            "\t   Tesc, Syt1, Cntn1, Svop, Slc6a7, Lingo1, Cacnb4, Caln1, Negr1, Cplx2 \n",
            "PC_ 3 \n",
            "Positive:  Top2a, Cdca8, Uhrf1, Mcm6, Ccdc85a, X2810417H13Rik, Cacna1b, Gmnn, Sall3, Unc80 \n",
            "\t   Ska1, Cdc20, Rfc3, Dhfr, Dner, Dnajc9, Birc5, Matk, Dut, Mcm3 \n",
            "\t   Itpr2, Edil3, Pcna, Ckap2l, Gm26917, Dmtn, Kcnj4, Ezh2, Ncapg2, Fam102b \n",
            "Negative:  Trps1, Marcks, Gatm, Ephb1, Ndufc2, Frzb, Snap23, Tshz2, Tubb3, Rftn2 \n",
            "\t   Prex2, Slc25a18, Dock9, Map1b, Epb41l1, Ptprz1, Gpc6, Gab1, Fstl5, Npas3 \n",
            "\t   Atp1a2, Hopx, Cyp1b1, Plxna2, Plpp3, Fcgrt, X2810459M11Rik, Rpl32, Adgra1, Tfdp2 \n",
            "PC_ 4 \n",
            "Positive:  Rlbp1, Gfap, Pla2g7, Svop, Prdx6, Ryr2, Dbi, Psph, Slc6a15, Ptpn5 \n",
            "\t   Tfap2c, Vim, Pcsk2, Nme7, Kcnq2, Eci1, Arpp21, Acsbg1, Cd81, Rasgrf1 \n",
            "\t   Clic4, Prdx4, Cenpk, Mcm3, Cspg5, Cd9, Pcdh19, Frzb, Nasp, Csrp1 \n",
            "Negative:  Slc1a3, Sall3, Egfr, Birc5, Ska1, Cdc20, Ccdc85a, Eya1, Myo10, Cacna1b \n",
            "\t   Gabbr1, Rab31, Unc80, Ttc9b, Atp1a2, Fam102b, Edil3, Pttg1, Psd3, Lima1 \n",
            "\t   Ttyh3, Plppr4, Cdca8, Lmo4, Xylt1, Zcchc24, Gng12, Dlg2, Sfrp1, Gatm \n",
            "PC_ 5 \n",
            "Positive:  Bcl11b, Fxyd7, Resp18, Cit, Ina, Dnajc6, Hecw1, Plppr4, Cenpn, Tpbg \n",
            "\t   Vsnl1, Pla2g7, Ank3, Prdx6, Dlg2, Top2a, Clmp, Ppm1e, Stmn4, Rtn1 \n",
            "\t   Chd5, Frzb, Prc1, Fam102b, Tfap2c, Cd81, Cks2, Syt1, Nme7, Rbm20 \n",
            "Negative:  Ccne2, Mlip, Atp1a2, Lingo1, Bora, Rap1gap2, Prox1os, Slc1a2, Pde1a, Cdca7 \n",
            "\t   Dtl, Frmd4b, Lima1, Cdh4, Sfrp1, Dhfr, Efhd2, Kif22, Slc1a3, Siva1 \n",
            "\t   Ttk, Cenpq, Rfc1, Ryr2, Arpp21, Nasp, Cdt1, Pcsk2, Ptprz1, Rgma \n",
            "\n",
            "Computing nearest neighbors\n",
            "\n",
            "Only one graph name supplied, storing nearest-neighbor graph only\n",
            "\n"
          ]
        },
        {
          "name": "stdout",
          "output_type": "stream",
          "text": [
            "[1] \"1\"\n"
          ]
        },
        {
          "name": "stderr",
          "output_type": "stream",
          "text": [
            "Regressing out nCount_RNA\n",
            "\n",
            "Centering and scaling data matrix\n",
            "\n",
            "PC_ 1 \n",
            "Positive:  Calb2, Stat3, Satb1, Scrt2, Ppp1r14a, Cd9, Tead2, Golim4, Chd7, Elavl4 \n",
            "\t   Cd63, Crip1, Klf3, Frmd4b, Tac2, Ephb1, Gldc, Fkbp2, Reep3, Ezr \n",
            "\t   Wscd1, Plcxd2, Arl6ip1, Smad1, Rftn2, Tubb3, Hecw1, Tubb2b, Nfic, Pmf1 \n",
            "Negative:  Bcl11b, Cntnap5a, Nrp1, Tspan18, Tenm2, Gabrb3, Rpl32, Dpp6, Islr2, Lin7a \n",
            "\t   Grm5, Fam19a2, Fam163b, Pcdh17, Gnaz, Chd5, Anks1b, Sema3e, Dlg2, Ccdc85a \n",
            "\t   Gabra5, Fry, Tnr, Rgs7bp, Cadm2, Fgf9, Sphkap, Map1b, Cnih2, Cspg5 \n",
            "PC_ 2 \n",
            "Positive:  Aqp4, Gja1, Atp1a2, Acsbg1, Lrp1b, Slc1a3, Vcam1, Ptn, Vim, Mpped1 \n",
            "\t   Aurka, Nkain2, Cmtm5, Rgs20, Suclg2, Rgma, Fabp7, Eomes, Pde1a, Krcc1 \n",
            "\t   Sparcl1, Dpy19l1, Gng12, Slc25a18, Pdpn, Rab31, Caln1, Tmem47, Tnc, Rgcc \n",
            "Negative:  Olfm1, Sema5a, Kcnq2, Ptpro, Tmem218, Cers6, Zic1, Fam163b, Islr2, Chrm1 \n",
            "\t   Tex30, Itm2c, Calb2, Plxna2, St6galnac5, Lingo2, C2cd2l, Haus4, H2afv, Dmtn \n",
            "\t   Edil3, Pkia, Gria1, Epb41l1, Mphosph9, Rlbp1, Nasp, Ran, Stxbp6, Tmpo \n",
            "PC_ 3 \n",
            "Positive:  Coro2a, Cav1, Arap2, Rgs7bp, Lrfn5, Cpne4, Csrp1, Dock9, Slc12a5, Nrip3 \n",
            "\t   X6330403A02Rik, Necab2, Ormdl2, Fam124a, Psd3, Soat1, Cdkn2c, E330013P04Rik, Dner, Fam102b \n",
            "\t   X2810459M11Rik, Prdx4, Snx5, Serpine2, Pygb, Pfkp, Nefl, Dclk1, Gda, Arhgap44 \n",
            "Negative:  Homer1, Fkbp2, Rgs20, Nasp, Mpped1, Gnai2, Mdga1, Bub3, Mbnl2, Abcb9 \n",
            "\t   Zic1, Pdgfa, Smc4, Cdh4, Etv4, Aplp1, Chd7, Cntln, Sfxn1, Fam163b \n",
            "\t   Rgma, Vstm2l, Mcm6, Tesc, Sall1, Vcam1, Slc27a1, Grm5, Itgb1, Smad1 \n",
            "PC_ 4 \n",
            "Positive:  Myo10, Elavl4, Tesc, Arap2, Dpy19l1, Nsdhl, Cpne4, Pde1a, Rgma, Hmgb2 \n",
            "\t   Msi2, Kif22, Siva1, Abcb9, Cntn1, Shisa6, Nwd2, Dtx4, Cbs, Plcxd2 \n",
            "\t   Nrxn3, Arpp21, Mpped1, Igfbp5, Dnm1, Cplx2, Rgs20, Psd, Rpl32, Nme4 \n",
            "Negative:  Blvrb, Pla2g7, Ezh2, Ptprz1, Syp, S100a6, Bcl2, Pon2, Nxt1, Prom1 \n",
            "\t   Dhrs4, Mbnl2, Pantr1, Mcm4, Nasp, Pkp4, Clic1, Etv4, Cdca8, Riiad1 \n",
            "\t   Sept10, Ppp1r14a, Efs, Clic4, Dhfr, Rab40b, Ptprn, Lingo1, Gatm, Car2 \n",
            "PC_ 5 \n",
            "Positive:  Dscam, Eomes, Sema3c, Zeb1, Ptk2b, Rgcc, Vcam1, Amot, Cmtm5, Lhx2 \n",
            "\t   Lmnb1, Mphosph9, Acsbg1, Tnc, Ttll7, Nfic, Ptpn5, Pdpn, Plxna2, Cnih2 \n",
            "\t   Pde1a, Ptpre, Mpped1, Aurka, Tshz2, Sfrp1, Itgb1, Usp1, X2810459M11Rik, Rgs7 \n",
            "Negative:  Lxn, S100a6, Ckmt1, Mfge8, Abcb9, Tesc, Chd5, Galnt16, Cd9, Cst3 \n",
            "\t   Tmem191c, Kcnj3, Stxbp6, Myo10, Atp1a2, Mcm6, Lmo4, Celf4, Pon2, Tox3 \n",
            "\t   Cntn1, Tjp2, B2m, Cbs, Gatm, Gria1, Mt1, Glud1, Kcnd2, Plat \n",
            "\n",
            "Computing nearest neighbors\n",
            "\n",
            "Only one graph name supplied, storing nearest-neighbor graph only\n",
            "\n"
          ]
        },
        {
          "name": "stdout",
          "output_type": "stream",
          "text": [
            "[1] \"3\"\n"
          ]
        },
        {
          "name": "stderr",
          "output_type": "stream",
          "text": [
            "Regressing out nCount_RNA\n",
            "\n",
            "Centering and scaling data matrix\n",
            "\n",
            "PC_ 1 \n",
            "Positive:  Chd3os, Sepw1, Snca, Fth1, Gabra1, Matk, Me3, Npnt, Gda, Fam19a1 \n",
            "\t   Unc80, Arhgef9, Vstm2l, X6330403A02Rik, Magt1, St6galnac5, Celf4, Tmem132b, Caln1, Gm42722 \n",
            "\t   Ttyh1, Aldh6a1, Cacnb2, Gng3, Ramp1, Coro1a, Mcm6, Kcna6, Pde1a, Glra2 \n",
            "Negative:  Tac2, Pbk, Tshz2, Sall3, Lima1, Tead2, Cav1, Slc15a2, Mpped1, Fat1 \n",
            "\t   Sox5, Csrp1, Ncapd2, Cdca8, Top2a, Limd1, Wasf2, Scrg1, Rpl32, Gatm \n",
            "\t   Blvrb, Ezr, Eomes, Zeb1, Scrt2, Mki67, Notch1, Tubb2b, Pon2, Fam163b \n",
            "PC_ 2 \n",
            "Positive:  Slc15a2, Tac2, Fat1, Sox5, Tead2, Sall3, Lima1, Tshz2, Cav1, Scrg1 \n",
            "\t   Pbk, Wasf2, Top2a, Csrp1, S100a6, Cntnap5a, Thy1, Rbm24, Igfbp5, Limd1 \n",
            "\t   Gatm, Mest, Notch1, Mgll, Ncapd2, Scrt2, Ttyh3, Stk32c, Spock3, Necab2 \n",
            "Negative:  Eomes, Mki67, Cenpi, Rfx4, Tfap2c, Zfp462, Clic1, X2810417H13Rik, Eya1, Tpx2 \n",
            "\t   Elavl4, Rbbp8, Hmgb2, Efs, Cbs, Birc5, Gldc, Pdlim5, Cks2, Sox9 \n",
            "\t   Snap23, Nusap1, Cdh4, Myo10, Bcl2, Racgap1, Krcc1, Reep3, Tmpo, Rgs20 \n",
            "PC_ 3 \n",
            "Positive:  Calm1, Dnm1, Rtn1, Ramp1, Resp18, Snca, Olfm1, Nrxn3, Adgrb3, Rab3a \n",
            "\t   Unc80, X1810037I17Rik, Igfbp5, Gm42722, Ndufc2, Thy1, Stmn3, Cx3cl1, Actr3b, Tmem132b \n",
            "\t   Spint2, Fam19a1, C1ql3, Creg2, Nwd2, Prune2, Cd9, Pcdh11x, Lmo4, Stmn4 \n",
            "Negative:  Epha5, Sema3c, Sema5a, Cadm2, Epha4, Pantr1, Fam163b, Bcl11b, Ttc28, Hmgn1 \n",
            "\t   Cdh20, Marcks, Cpne3, Plcxd3, Myo5b, Grm3, Islr2, Dync1i1, Map1b, Zic1 \n",
            "\t   Ntrk3, Neurod2, Nckap1, Clmp, Epha7, Celf2, Ank3, Plppr5, Ccnb2, Dock9 \n",
            "PC_ 4 \n",
            "Positive:  Epha5, Ptk2b, Fxyd7, Calm1, Mt1, Mt2, Ogfrl1, Kcnip1, Cpne4, Ndufc2 \n",
            "\t   Nrgn, Caly, Necab2, Slc6a15, Plcxd3, Ttll7, Sema5a, Plppr4, Rab3a, Arhgef28 \n",
            "\t   Egr1, Cnih2, Rasgrf1, Glul, Gucy1b3, Itm2c, Ptprz1, Epha7, Kcnd2, Lxn \n",
            "Negative:  Igfbp5, Nrp1, Lmo4, Chd3os, Tenm2, Kcnab1, Dner, Lrrtm1, Rgma, Plxna4 \n",
            "\t   Tac2, Nkain2, Sepw1, Elavl2, Caln1, Lingo2, Cacna1b, Prdx4, Hecw1, Gabra2 \n",
            "\t   Ramp1, Ttc28, Cenpp, Grin2b, Pkia, Snca, Itgb1, Fth1, Psat1, Pgm2l1 \n",
            "PC_ 5 \n",
            "Positive:  Smad1, Rtn1, Syt4, Prdx6, Appl2, Rftn2, Itgb1, Egfr, Rlbp1, Lzts1 \n",
            "\t   Dpp6, Tnc, Pcdh10, Rgma, Cenpp, Reep3, Bub3, Calb2, Sept10, Dnajc24 \n",
            "\t   Nasp, Car2, Caly, Hepacam, H2afv, Pttg1, Tspan18, Emid1, Rfc3, Pde1a \n",
            "Negative:  Fth1, Pea15a, Mpped1, X1700086L19Rik, Pold2, Cdca8, Fat1, Mtus2, Syp, Syt17 \n",
            "\t   Rbm24, Cntnap5a, C1ql3, Prex2, Nme7, Ntng1, Trp53i11, Pcsk2, Nkain2, Mgll \n",
            "\t   Mal2, Fam102b, Nusap1, Ptprr, Syt1, Npnt, Snca, Mbnl2, Kcnab1, Kcnc4 \n",
            "\n",
            "Computing nearest neighbors\n",
            "\n",
            "Only one graph name supplied, storing nearest-neighbor graph only\n",
            "\n"
          ]
        },
        {
          "name": "stdout",
          "output_type": "stream",
          "text": [
            "[1] \"0\"\n"
          ]
        },
        {
          "name": "stderr",
          "output_type": "stream",
          "text": [
            "Regressing out nCount_RNA\n",
            "\n",
            "Centering and scaling data matrix\n",
            "\n",
            "PC_ 1 \n",
            "Positive:  Fth1, Ncald, Cntn1, C1ql3, Nkain2, St6galnac5, Rit2, Dner, Nefl, Rab40b \n",
            "\t   Calm1, Pcsk1n, Prkar1b, Kcnab1, Ntrk2, Itpka, Gabra5, Olfm1, Nrgn, Tenm1 \n",
            "\t   Nap1l5, Snca, Lrp1b, Grb14, Camkv, Resp18, Fam124a, Brinp1, Shtn1, Gng3 \n",
            "Negative:  Haus4, Tead2, Rpl32, Ezr, Eomes, Ntng1, Mcm6, Ttc28, Zeb1, Sparc \n",
            "\t   Sema3c, Tmem132b, Reep3, Kif20b, Sox5, Kcnj10, Rfx4, Cdkn2c, Gli3, Cntln \n",
            "\t   Mlc1, Zfp36l1, Plpp3, Mdga1, Pdlim4, Xylt1, Rftn2, Siva1, Ephb1, Nfic \n",
            "PC_ 2 \n",
            "Positive:  Ttc28, Sema3c, Msi2, Tubb2b, Sema5a, Plxna2, Tnr, Adamts18, Calb2, Slc7a14 \n",
            "\t   Slc1a2, Plxna4, Ephb1, Gabbr1, Elavl2, Satb1, Lima1, Ppm1e, Clic4, Lrrtm1 \n",
            "\t   Epha4, Mgll, Sphkap, Amot, Ttyh3, Timp3, Rgs20, Grin2b, Islr2, Rpl32 \n",
            "Negative:  Ptprr, Slc15a2, Fcgrt, Tfap2c, Eomes, Gabra1, Rftn2, Gli3, Mcm6, Sox5 \n",
            "\t   Gpr22, Xylt1, Wscd1, Rfx4, Birc5, Ntng1, Csrp1, Fth1, Kcnip1, Nim1k \n",
            "\t   Me3, Kcnj10, Dhrs4, C1ql3, Tmem132b, Mpped1, Epha5, Syt4, Cdkn2c, Rab40b \n",
            "PC_ 3 \n",
            "Positive:  Pax6, Birc5, Frmd4b, Cd63, Stat3, Ppp1r13b, Chrm1, Dlg2, Abcb9, Coro1a \n",
            "\t   Zfp462, Actr3b, Ntng1, Dnajc6, Nap1l5, Adamts1, Fam124a, Rgs7, Plcxd3, Cpne4 \n",
            "\t   Nrxn3, Gda, Cpne3, Pak3, Fkbp2, Cnih4, Sema3c, Qser1, Pcdh15, Rab3a \n",
            "Negative:  Etv4, Dgkg, Gja1, Crip1, Gldc, Pon2, Chd3os, Mcm4, Rgma, Slco1c1 \n",
            "\t   Tox3, Tlcd1, Gpr22, Kcnc4, Fam210b, Ngef, Ttll7, Dtna, Dnajc24, Ttyh1 \n",
            "\t   Cdt1, Paqr8, Lrp1b, Fstl5, Camk2d, Trps1, Pde4a, Plpp3, Ina, Dpp6 \n",
            "PC_ 4 \n",
            "Positive:  Coro2a, Sdc2, Wasf2, Kcnj3, Gabra5, Sv2b, Lin7a, Fcgrt, Celf4, Tmem132b \n",
            "\t   Cdca7, Dbx2, Negr1, Syp, Cklf, Nckap1, Caly, Rfc4, Cnih2, Plvap \n",
            "\t   Cacna1b, Ank3, Dclk1, Npnt, Nwd2, Cntnap5a, Nap1l5, Slc6a15, Ppfia2, Fry \n",
            "Negative:  Arap2, Egfr, Cd63, Gpr22, Slco1c1, Serpine2, Ephb1, Magt1, Tubb2b, Calb2 \n",
            "\t   Etv4, Tlcd1, Trps1, Dgkg, Camk2d, Psat1, Abcb9, Cdk6, Ntng1, Qser1 \n",
            "\t   Atp1a2, Wscd1, Krcc1, Klf3, Gas7, Egr1, St6galnac5, Rtn1, Nrxn3, Rgs7bp \n",
            "PC_ 5 \n",
            "Positive:  Rgs7bp, Arap2, Kcng2, Brinp1, Mbnl2, Camk2d, X6330403A02Rik, Shisa6, Epha7, Ttc28 \n",
            "\t   Map1b, Qser1, Tpbg, Clic4, Cpne4, Dlgap1, Ppm1e, Klf3, Sema3c, Gja1 \n",
            "\t   Neurod2, Ttll7, Fxyd7, Nrxn3, Cplx2, Smad1, X2810459M11Rik, Plxna2, Tfdp2, Sv2b \n",
            "Negative:  Lrrtm1, Rtn1, Itgb3bp, Ppp1r1a, Ran, Snap23, Rab31, Shisa9, Snx5, Nme4 \n",
            "\t   Ranbp1, Itgb1, Ndufc2, Bub3, Lin7a, Prdx1, Caly, Efhd2, Tead2, Cspg5 \n",
            "\t   Pla2g7, Mal2, Parm1, Stmn3, Hmgn5, Zfp36l1, Nrp1, Matk, Ttyh3, Kcnab1 \n",
            "\n",
            "Computing nearest neighbors\n",
            "\n",
            "Only one graph name supplied, storing nearest-neighbor graph only\n",
            "\n"
          ]
        },
        {
          "name": "stdout",
          "output_type": "stream",
          "text": [
            "[1] \"4\"\n"
          ]
        },
        {
          "name": "stderr",
          "output_type": "stream",
          "text": [
            "Regressing out nCount_RNA\n",
            "\n",
            "Centering and scaling data matrix\n",
            "\n",
            "PC_ 1 \n",
            "Positive:  Basp1, Tubb3, Hecw1, Tac2, Rtn1, Celf4, Tubb2b, Neurod2, Ttc28, Scrt2 \n",
            "\t   Ppfia2, Pkia, Mpped1, Fam102b, Calb2, Syt1, Plxna4, Sema3c, Map1b, Rab3a \n",
            "\t   Ttc9b, Scn3a, Islr2, Cplx2, Gabra2, Ywhag, Anks1b, Smoc2, Cacna1e, Gria1 \n",
            "Negative:  Rpa2, Dhfr, Fam111a, Anp32b, Clspn, Cdt1, Cdca7, Mcm3, Mcm6, Gmnn \n",
            "\t   Pcna, Rfc1, Zfp36l1, Mcm4, Uhrf1, Csrp1, Ddah1, Casp7, Nasp, Sox9 \n",
            "\t   Dtl, Dbi, Dnajc9, Ccne2, Siva1, Atp1a2, Snx5, Nxt1, Efhd2, Slc25a18 \n",
            "PC_ 2 \n",
            "Positive:  Pbk, Birc5, X2810417H13Rik, Cdc20, Mki67, Cks2, Pttg1, Ccdc34, Cit, Ckap2l \n",
            "\t   Ccnb2, Tpx2, Smc4, Kif22, Cdk1, Top2a, Cdca8, Hmgb2, Ska1, Esco2 \n",
            "\t   Racgap1, Cenpn, Cenpw, Tacc3, Aurka, Sgol1, Troap, Kif23, Kif18a, Cdc25c \n",
            "Negative:  Caln1, Rpl32, Ncald, Shisa6, Kcnip4, Npnt, Plppr4, Efhd2, Mfap3l, Slc6a15 \n",
            "\t   Tub, Syt1, Tspan12, Gda, Mlip, Mtus2, Dlg2, Anks1b, Tesc, Vsnl1 \n",
            "\t   Camkv, Frzb, Fam19a2, Snx5, St3gal4, Sall3, Zfp36l1, Mfge8, Mt1, Gja1 \n",
            "PC_ 3 \n",
            "Positive:  Esco2, Gda, Cdca2, Mfap3l, Top2a, Rfc3, Ncaph, Clspn, Asf1b, Gmnn \n",
            "\t   Fam111a, Cd63, Shtn1, Ska1, Cdt1, Uhrf1, Dhfr, Ina, Cbs, Ccne2 \n",
            "\t   Cplx2, Ezh2, Rpa2, Incenp, Setd8, Rbl1, C77370, Magt1, Pold2, Haus4 \n",
            "Negative:  Zfp36l1, Pttg1, Ccdc80, Ccnb2, Ddah1, Kcnip1, Cenpw, Notch1, Vim, Hmgb2 \n",
            "\t   Prom1, Nap1l5, Tlcd1, Cdc25c, Spc24, Pygb, Cdc20, Gng12, Tnfrsf19, Pter \n",
            "\t   Mfge8, Cyp1b1, Trpc1, Rgma, Pcx, Mt2, Pon2, Cacng5, Slc1a3, Atp1a2 \n",
            "PC_ 4 \n",
            "Positive:  Npnt, Gda, Mfap3l, Frzb, Mlip, RP23.407N2.2, Ccnb2, Pbk, Cdca8, Dlg2 \n",
            "\t   Mtus2, Ptgfrn, Pttg1, Cenpk, Slc6a15, Fam102b, Dnajc6, Kcnip4, Fam19a2, Plpp3 \n",
            "\t   Gatm, Hmgb2, Ccdc34, Vsnl1, Cdc20, Zcchc24, Birc5, Tub, Casp7, Nrgn \n",
            "Negative:  Scrt2, Ephb1, Mdga1, Dlgap1, Psd3, Frmd4b, Rfc1, Hat1, Rbfox1, Cpt1a \n",
            "\t   Epha4, Lhx2, Tac2, Limd1, Dnajc24, Plcxd2, Trpc1, Egr1, Celf2, Paqr8 \n",
            "\t   Ttll7, Tead1, Fam124a, Satb1, Sema3c, Syp, Neurod2, Ctnnbip1, Sox5, Celf5 \n",
            "PC_ 5 \n",
            "Positive:  Tmeff2, Plxna2, Sall3, Cacna1b, Kcnj10, Gnaz, Lin7a, Dock9, Grin2b, Gng12 \n",
            "\t   E2f5, C77370, Trps1, Brinp1, Ntng1, Egfr, Pgm2l1, Cdk6, Nrxn3, Pcdh10 \n",
            "\t   Tnfrsf19, Gnai2, Anln, Spock2, Epha4, Slc25a18, Ccdc80, Chd7, Smoc2, Zeb1 \n",
            "Negative:  Rasgrf1, Trpc1, Nwd2, Slc7a14, Gpr22, Ptk2b, X6330403A02Rik, Ccne2, Ntrk2, Kcnip1 \n",
            "\t   Tmem191c, Cthrc1, Nefl, Anks1b, Plppr4, Tshz2, Pkp4, Fam124a, Arpp21, Dna2 \n",
            "\t   Plppr5, Pde4a, Sash1, Tlcd1, Pygb, Tex30, Asrgl1, Cacna1e, Pde1a, Lxn \n",
            "\n",
            "Computing nearest neighbors\n",
            "\n",
            "Only one graph name supplied, storing nearest-neighbor graph only\n",
            "\n"
          ]
        },
        {
          "name": "stdout",
          "output_type": "stream",
          "text": [
            "[1] \"8\"\n"
          ]
        },
        {
          "name": "stderr",
          "output_type": "stream",
          "text": [
            "Regressing out nCount_RNA\n",
            "\n",
            "Centering and scaling data matrix\n",
            "\n",
            "PC_ 1 \n",
            "Positive:  Epha5, Epha4, Nrgn, Calb1, Cadm2, Sema5a, Sphkap, Sv2b, Mt2, Mt1 \n",
            "\t   Dnm1, Ran, Sparcl1, Wscd1, Pcsk1n, Dlgap1, Car2, Zic1, Neurod2, Trhde \n",
            "\t   Islr2, Plekha2, Nsmce4a, Cd63, Ogfrl1, Reep3, Eomes, Cenpk, Clic4, Ttyh1 \n",
            "Negative:  Lmo4, Ramp1, Pea15a, Bend6, Snca, Tenm2, Basp1, Hecw1, Grem2, Olfm1 \n",
            "\t   Gng3, Syt17, Pde1a, Grin2b, Nrp1, Ptpn5, Dnajc24, X1810037I17Rik, Chd5, Fat1 \n",
            "\t   Frzb, Gabra2, C1ql3, Hopx, Celf4, Lrrtm1, Nwd2, Tubb3, Gas7, Celf5 \n",
            "PC_ 2 \n",
            "Positive:  Adgrb3, Tesc, Lin7a, Camkv, Glra2, Gpr22, Gabra2, Rbfox1, Ptpro, Lingo1 \n",
            "\t   Necab2, Itpka, Sepw1, Dner, Scn3a, Fam19a2, Pgm2l1, Unc80, Syt1, Ogfrl1 \n",
            "\t   Pfkp, Dgkg, Ranbp1, Rab40b, Gabra1, Vat1l, Clu, Dtx4, Cpne6, Nap1l5 \n",
            "Negative:  Rdm1, Ckap2, Grb10, Xylt1, Npas3, Rab31, Zcchc24, Rlbp1, Creb5, Etv4 \n",
            "\t   Sash1, Limd1, Scrg1, Pmf1, Ddah1, Atp1a2, Gpsm2, Arap2, Snap23, Gng12 \n",
            "\t   Blvrb, Hmgb2, Mphosph9, Slc1a3, Aqp4, H2afv, Ptprz1, Nme7, E2f5, Mest \n",
            "PC_ 3 \n",
            "Positive:  Neurod2, Cplx2, Mt2, Slc7a14, Ptk2b, Ank, C2cd2l, B2m, Tmem132b, Cnih4 \n",
            "\t   Dclk1, Cpne6, Tnfrsf19, Pcdh10, Top2a, Dnm1, Lhfp, Ppfia2, Sparc, Gria1 \n",
            "\t   Epb41l1, Sparcl1, Gatm, Dhrs4, Camkv, Syp, Mal2, Egr1, Rab40b, Nrip3 \n",
            "Negative:  Zic1, Scrt2, Cenpk, Eomes, Clic4, Cenpq, Elavl4, Arhgef26, Elavl2, Sema3c \n",
            "\t   Car2, Ezr, Plcxd2, Grm3, Scrg1, Ttc9b, Coro2a, Calb2, Marcks, Lin7a \n",
            "\t   Reep3, Cd9, Tmem218, Calm1, Rtn1, Chd7, Ctnnbip1, Mapt, Gfap, C1ql3 \n",
            "PC_ 4 \n",
            "Positive:  Marcks, Islr2, Fth1, Rpl32, Tesc, Gng3, Cnih2, Sv2b, Npas3, Fxyd7 \n",
            "\t   Mapt, Pak3, Nrgn, Ckap2, Hmgn1, Itgb3bp, Pea15a, Aqp4, Limd1, Epha4 \n",
            "\t   Rdm1, Ogfrl1, Sash1, Usp1, Pfkp, Stxbp6, Cdh9, Adamts1, Spock2, Syngr1 \n",
            "Negative:  Cplx2, Zic1, Sparcl1, Rapgef4, Clic4, Cenpk, Eomes, Gas7, Slc12a5, Cenpq \n",
            "\t   Elavl4, Ramp1, Wscd1, Fam212b, Gda, Grm3, Syt4, Tmem218, Oat, Psph \n",
            "\t   Actr3b, Dync1i1, Scrt2, Neurod2, Pde1a, Gabra2, Pcdh10, Arhgef26, Arap2, Cacna1b \n",
            "PC_ 5 \n",
            "Positive:  Mtus2, Tmem218, Sv2b, S100a6, Cplx2, Cenpp, Slc1a2, Tmem191c, Cnih2, Plpp3 \n",
            "\t   Epha4, Amot, Ntrk3, Ccdc85a, Sall3, Plvap, Pkia, Dock10, Epha5, Frmd4b \n",
            "\t   Trp53i11, Adamts18, Dnajc6, Hecw1, Rgcc, Cenpi, Ska3, Kcnip1, Nwd2, Map1b \n",
            "Negative:  Calm1, Arl6ip1, Gabrb1, Dnajc9, Arhgef28, Bub3, Itm2c, Coro1a, Nkain4, Rfc3 \n",
            "\t   Stk32c, Pcsk1n, Efhd2, Ckmt1, Kcna6, Ramp1, Itpr2, Mmd2, Caly, Tnc \n",
            "\t   Pcna, Rab3a, Pde1a, Stmn4, Gabra5, Cpne4, Ndufc2, Vim, Vsnl1, Nsmce4a \n",
            "\n",
            "Computing nearest neighbors\n",
            "\n",
            "Only one graph name supplied, storing nearest-neighbor graph only\n",
            "\n"
          ]
        },
        {
          "name": "stdout",
          "output_type": "stream",
          "text": [
            "[1] \"6\"\n"
          ]
        },
        {
          "name": "stderr",
          "output_type": "stream",
          "text": [
            "Regressing out nCount_RNA\n",
            "\n",
            "Centering and scaling data matrix\n",
            "\n",
            "PC_ 1 \n",
            "Positive:  Snca, Plxna4, Rit2, RP23.407N2.2, Mmd2, Rab40b, St6galnac5, Shtn1, Mapk3, Gabrb1 \n",
            "\t   Epha4, Cnih2, Pcdh15, Caly, Tspan7, Kcnj4, Dner, Sema3e, Fam19a2, Fam163b \n",
            "\t   Ptprn, Mtus2, Slc12a5, Rfc1, Caln1, Pdgfa, Ryr2, Ccdc85a, Rgma, Rgs7bp \n",
            "Negative:  Fbln2, Egfr, Ccdc80, Ttk, Tcf7l2, Fat1, Cdh20, Kif20b, Sash1, Zcchc24 \n",
            "\t   Cmtm5, X2810459M11Rik, Tox3, Gm26802, Amot, Etv4, Dpy19l1, Notch1, Plpp3, Slc9a3r1 \n",
            "\t   Zfp462, Zfp36l1, Slc6a7, Scrg1, Myo10, Mlc1, Npas3, Zeb1, Ddah1, Wasf2 \n",
            "PC_ 2 \n",
            "Positive:  Tubb2b, Igfbp5, Shisa9, Lin7a, Stxbp6, Thy1, Mapk3, Cdh20, Pak3, Plxna4 \n",
            "\t   Gpr22, Sema3e, Syt4, Cntn1, Resp18, Tmeff2, Nr4a3, Gabra5, Gnaz, Kcnip4 \n",
            "\t   Pkp4, Shtn1, Fam163b, C1ql3, Snrpn, Cntln, Bdnf, Npnt, Egfr, Fat1 \n",
            "Negative:  Cacng3, Lima1, Ctnna1, Limd1, Eomes, Mt2, Trps1, Fam210b, Rgs20, Cnih2 \n",
            "\t   Tox3, Plxna2, Sox9, Zfp36l1, Setd8, Sema3c, Elavl4, Plpp3, Lims1, Padi2 \n",
            "\t   Grm1, Tyms, Prdx6, Slc1a3, Chd3os, Mt1, Chd7, Plcxd2, Slc6a15, Scrg1 \n",
            "PC_ 3 \n",
            "Positive:  Nrgn, Epha4, Epha7, Cnih2, Islr2, Sema3c, Neurod2, Epha5, Hmgn1, Usp1 \n",
            "\t   Ogfrl1, Gng12, Tnr, Car2, Matk, Higd1b, Stxbp6, Kcnip1, Dtna, Mt2 \n",
            "\t   Sema5a, Kcnj3, Rrm1, Timp3, Plppr5, Syt1, Bdnf, Mbnl2, Dscam, Etfa \n",
            "Negative:  Gldc, Afap1l2, Gab1, Tmem132b, Scrg1, Tlcd1, Sall1, Pde1a, Adgra1, Sepw1 \n",
            "\t   Nwd2, Appl2, Ntrk2, Resp18, Tenm1, Aqp4, Dock9, Gda, Ttc28, Snx5 \n",
            "\t   Prex1, Lingo2, Setd8, Syt4, Ncapg2, Prdx6, Kif18a, Lmo4, Fkbp2, Rbm20 \n",
            "PC_ 4 \n",
            "Positive:  Tox3, Gabrb1, Igfbp5, Fam210b, Suclg2, Bcl2, Nkain2, Cacng5, Actr3b, Dlgap1 \n",
            "\t   Eomes, C1ql3, Pfkp, Nme4, Kcnab1, Cd9, Grin2b, Sfrp1, Pcdh19, Zeb1 \n",
            "\t   Tenm1, Negr1, Trpc1, Adamts1, Grm3, Tmem165, Plpp3, B2m, Pold2, Nxt1 \n",
            "Negative:  Pcdh11x, Dpy19l1, Sema3c, Pkp4, Epha4, Plxna2, Msi2, Qser1, Smc4, E2f5 \n",
            "\t   Myl9, Nrip3, Kcnd2, Sphkap, Dtl, C2cd2l, Ncapg2, Fam163b, Dpp6, Trim9 \n",
            "\t   Fxyd7, Ptprz1, Cacnb2, Sapcd1, Gda, Stat3, Arhgef9, Itgb1, Frzb, Fam19a2 \n",
            "PC_ 5 \n",
            "Positive:  Fabp7, Calm1, Pdgfa, Cst3, Plppr5, Ran, Ranbp1, Aplp1, Psd3, Gabrb1 \n",
            "\t   Fxyd7, Wscd1, Me3, Ppp1r13b, Calb1, Smoc2, Caly, Crip1, Dnajc6, Satb1 \n",
            "\t   Slc6a15, Mphosph9, Dnajc24, Tubb3, Fcgrt, Kif18a, Kcnip1, Vsnl1, Lgi3, Mt2 \n",
            "Negative:  Ptprz1, Sparc, Tac2, Limd1, Fam210b, Cdca7, Klf3, Arap2, Dock10, Nme7 \n",
            "\t   Tmem191c, Ptprr, Serpine2, Dnm1, Smc4, Slco1c1, Dock9, Rab31, Itgb1, Lrrn2 \n",
            "\t   Cacna1e, Dgkg, Negr1, Pcdh15, Atp1a2, Glra2, Smad1, Fth1, RP23.407N2.2, Vim \n",
            "\n",
            "Computing nearest neighbors\n",
            "\n",
            "Only one graph name supplied, storing nearest-neighbor graph only\n",
            "\n"
          ]
        },
        {
          "name": "stdout",
          "output_type": "stream",
          "text": [
            "[1] \"7\"\n"
          ]
        },
        {
          "name": "stderr",
          "output_type": "stream",
          "text": [
            "Regressing out nCount_RNA\n",
            "\n",
            "Centering and scaling data matrix\n",
            "\n",
            "PC_ 1 \n",
            "Positive:  Arpp21, Rab40b, Kcnd2, Calb1, Dgkg, Gda, Plekha2, Pfkp, Ptprn, Galnt16 \n",
            "\t   Ptpn5, Syt4, Soat1, Cadm2, Grin2b, Syp, Tyms, Gnaz, Plppr4, Cers6 \n",
            "\t   Gas7, Spint2, Mgll, Nme4, Ttll7, Tfap2c, Dlgap1, Sparcl1, Celf5, Snx5 \n",
            "Negative:  Mpped1, Tac2, Sema3c, Trps1, Abcb9, Lzts1, Trp53i11, Plat, Tmem165, Arl6ip1 \n",
            "\t   Pax6, Lxn, Frmd4b, Limd1, Tesc, Tead1, Tcf7l2, Fkbp2, Scrg1, Gm26917 \n",
            "\t   Eomes, St3gal4, Dio2, Fstl5, Prdx6, Crip1, Dhrs4, Prc1, Golim4, Elavl4 \n",
            "PC_ 2 \n",
            "Positive:  Bcl2, Myo5b, Ttll7, Ccne2, Adamts18, Pcsk2, Ptpre, Neurod2, Npas3, Islr2 \n",
            "\t   Hmgn5, Egr1, Gabrb1, Higd1b, Syt16, Slc1a4, Krcc1, Plcxd2, Dtna, C2cd2l \n",
            "\t   Mest, Sema5a, Psd, Sept10, Chrm1, Gng5, Nme4, Ngef, Creb5, Eef1a2 \n",
            "Negative:  Arpp21, RP23.407N2.2, Syt17, Grm3, Lrfn5, Slc6a15, Pde1a, Caly, Syt4, Dscam \n",
            "\t   Hat1, Efhd2, Cntn1, Cpne4, Glra2, Actr3b, Sox9, Nrgn, Csrp1, Dner \n",
            "\t   Zfp462, Cacna1b, Asrgl1, Amot, Nrip3, Ntrk2, Clmp, Cacna1e, Fam210b, Ank \n",
            "PC_ 3 \n",
            "Positive:  Grm3, Grm5, Glra2, Ptpre, C77370, Kcnq2, Sept10, Lrfn5, Tenm2, Thy1 \n",
            "\t   Syt17, RP23.407N2.2, Rgs7, Rpl32, Bcl2, Dock9, Tmem191c, Ramp1, St3gal4, Caly \n",
            "\t   Krcc1, Slc6a15, Anks1b, Rbfox1, Rab3a, Nwd2, Kcna6, Nrgn, Adamts18, Hat1 \n",
            "Negative:  Rab40b, Hopx, Ptprn, Vim, Eomes, Gda, Dgkg, Plekha2, Elavl4, Tfap2c \n",
            "\t   Tcf7l2, Lims1, Dpy19l1, Pax6, Bub3, Soat1, Setd8, Rftn2, Gfap, Trps1 \n",
            "\t   Gab1, Calb1, Ptn, Clu, Kcnd2, Lhx2, Mgll, Limd1, H2afv, Myo10 \n",
            "PC_ 4 \n",
            "Positive:  Sept10, Ptpre, Rgs7bp, Edil3, Rbm20, Rgs7, Galnt16, Nwd2, Cntnap5a, Clic1 \n",
            "\t   Krcc1, Grm5, Tmem191c, Ppfia2, Kcnq2, Ramp1, Tac2, Trp53i11, Mpped1, Clic4 \n",
            "\t   Nckap1, Mtus2, Prdx4, Ccdc85a, Pcdh17, Plppr4, Klf3, Kcnd2, Dut, Rab40b \n",
            "Negative:  Psph, Grm3, Racgap1, Stk32c, Actr3b, Pcna, Ina, Lmo4, Fam124a, Ank3 \n",
            "\t   Dmtn, Celf4, Ntrk3, Ank, Plxna2, Cyp1b1, Celf5, Syp, Dio2, Dclk1 \n",
            "\t   Chd5, Egr1, Sphkap, Nr2e1, Ppp1r13b, Prox1os, Fxyd7, Svop, Gatm, Cmtm5 \n",
            "PC_ 5 \n",
            "Positive:  Sox9, Cpne4, Scrg1, Arhgef26, Sparcl1, Prdx4, Rbm24, Psd, Ppm1e, Stat3 \n",
            "\t   Creb5, Cpt1a, Pea15a, Kcnj10, Pcdh11x, Fstl5, Gabbr1, Cdh20, Trps1, Slc6a7 \n",
            "\t   Tcf7l2, Nasp, Cntln, Lxn, Cpne3, Elavl2, Epha5, Tmem47, Abcb9, Ncald \n",
            "Negative:  Cacna1e, Eci1, Pcdh17, Emp2, Wasf2, Tnfrsf19, Arl6ip1, Riiad1, Gli3, Svop \n",
            "\t   Ppfia2, Rbfox1, Ttc28, Prim2, Slc27a1, Igfbp5, Nkain4, Pax6, Qser1, Gabra5 \n",
            "\t   Rfc3, Nme7, Edil3, Magt1, Tspan18, Negr1, Clic1, Cenpk, Rfc4, Ccdc85a \n",
            "\n",
            "Computing nearest neighbors\n",
            "\n",
            "Only one graph name supplied, storing nearest-neighbor graph only\n",
            "\n"
          ]
        },
        {
          "name": "stdout",
          "output_type": "stream",
          "text": [
            "[1] \"2\"\n"
          ]
        },
        {
          "name": "stderr",
          "output_type": "stream",
          "text": [
            "Regressing out nCount_RNA\n",
            "\n",
            "Centering and scaling data matrix\n",
            "\n",
            "PC_ 1 \n",
            "Positive:  Sparcl1, Cspg5, Fabp7, Ptn, Ttyh1, Car2, Ttyh3, Tnc, Trim9, Lxn \n",
            "\t   Scrg1, Tspan7, Aqp4, Clu, Pea15a, Serpine2, Emp2, Atp1a2, Slc9a3r1, Cav1 \n",
            "\t   Gabbr1, Slc1a3, Emid1, Prex1, Hepacam, Glud1, St6galnac5, Timp3, Vcam1, Creg2 \n",
            "Negative:  Rpl32, Eomes, Hmgn1, Tesc, Cdk6, Trp53i11, Elavl2, Elavl4, Siva1, Ranbp1 \n",
            "\t   Mcm6, Nasp, Dut, Lima1, Chd7, Ndufc2, Lzts1, Mdga1, Rpa2, Dtl \n",
            "\t   Rfc1, Rfc4, Ezh2, Sepw1, Rfc3, Cdca7, Tead2, Clspn, Nme4, Prom1 \n",
            "PC_ 2 \n",
            "Positive:  Frzb, Tfap2c, Cthrc1, Pdlim4, Gfap, Fam210b, Myl9, Dbi, Ctnnbip1, Mgll \n",
            "\t   Mmd2, Fam167a, Nkain4, Sfrp1, Tnc, Sparc, Lix1, Cnih2, Map1b, Nme7 \n",
            "\t   S100a6, Mt1, Cyp1b1, Psph, Cmtm5, Ndufc2, Prex2, Arl6ip1, Hopx, Ccnb2 \n",
            "Negative:  Egfr, Sall3, Fam212b, Ramp1, Etv4, Lmo4, Grm5, Serpine2, Rab31, Lxn \n",
            "\t   Mest, Kcnd2, Zeb1, Slc1a4, Gatm, Dbx2, Mfge8, Npas3, Cpt1a, Rpl32 \n",
            "\t   Zcchc24, Xylt1, Trim9, Egr1, Nap1l5, Tlcd1, Myo10, Atp1a2, Rgcc, Dio2 \n",
            "PC_ 3 \n",
            "Positive:  Pttg1, Cdc20, Cks2, Birc5, Cdca8, Ccnb2, Racgap1, Tpx2, Pbk, Arl6ip1 \n",
            "\t   Nusap1, Smc4, Ckap2l, Ska1, Prc1, Mki67, Ckap2, Aurka, Cdc25c, Mis18bp1 \n",
            "\t   Ckap5, Bora, Spc24, Hmgb2, Cdk1, Cep55, Incenp, Tmem218, Dlgap5, Sgol1 \n",
            "Negative:  Dhfr, Siva1, Rpa2, Ccne2, Cdt1, Mcm6, Pcna, Mcm3, Gfap, Mgll \n",
            "\t   Casp7, Msi2, Plpp3, Mmd2, Rfc1, Slc1a2, Lef1, Fam111a, Slc1a3, Uhrf1 \n",
            "\t   Sparcl1, Tyms, Tspan7, Hat1, Dbi, Slc25a18, Glud1, Clspn, Mcm4, Atp1a2 \n",
            "PC_ 4 \n",
            "Positive:  Bub3, Top2a, X2810417H13Rik, Cdk1, Dut, Esco2, Gmnn, Spc24, Tyms, Rfc3 \n",
            "\t   Pcna, Cd63, Hat1, Prdx4, Cenpk, Rrm1, Cd81, Cd9, Rpa2, Rfc4 \n",
            "\t   Prc1, Neil3, Nxt1, Pold2, Fam111a, Nsmce4a, Ran, Rgs20, Casp7, Melk \n",
            "Negative:  Slc12a5, Rab40b, Svop, Sema3e, Unc80, Mt2, Myo10, Itpka, Gda, Grem2 \n",
            "\t   Fam163b, Slc7a2, E2f5, Lin7a, Ina, X6330403A02Rik, Lgi3, Cplx2, Zcchc24, Sv2b \n",
            "\t   Syt1, Tesc, Fcgrt, Dlgap5, Mt1, Pak3, Psd3, Ptprn, Cpt1a, Ptpro \n",
            "PC_ 5 \n",
            "Positive:  Psat1, Ddah1, Actr3b, Psph, Dnajc24, Mfge8, Mt2, Sfxn1, Hmgn1, Zeb1 \n",
            "\t   Dbi, Nap1l5, Lhfp, Spint2, Clic1, Cd9, Mt1, Ptn, Dmtn, Pdgfa \n",
            "\t   Riiad1, Lmnb1, Pttg1, Rpl32, C1ql3, Fth1, Dbx2, Troap, Prdx1, Pter \n",
            "Negative:  Aplp1, Calb2, X6330403A02Rik, Dlgap1, Aqp4, Elavl2, Sv2b, Scrt2, Ccdc85a, Top2a \n",
            "\t   Eomes, Gja1, Stxbp6, Rab3a, Slc1a2, Elavl4, Trp53i11, Ank, Lyrm4, Ptprn \n",
            "\t   Higd1b, Epha4, Islr2, Slc7a2, Ntrk3, Fam102b, Rgs7, Neil3, Kif18a, Ctnnbip1 \n",
            "\n",
            "Computing nearest neighbors\n",
            "\n",
            "Only one graph name supplied, storing nearest-neighbor graph only\n",
            "\n"
          ]
        },
        {
          "name": "stdout",
          "output_type": "stream",
          "text": [
            "[1] \"9\"\n"
          ]
        },
        {
          "name": "stderr",
          "output_type": "stream",
          "text": [
            "Regressing out nCount_RNA\n",
            "\n",
            "Centering and scaling data matrix\n",
            "\n",
            "PC_ 1 \n",
            "Positive:  Cdc20, Pttg1, Cks2, Arl6ip1, Tpx2, Ccnb2, Timp3, Ptpre, Tmem218, Tubb2b \n",
            "\t   Plppr5, X1700086L19Rik, Pcdh15, Rgcc, Grm5, Fabp7, Cdc25c, Troap, Sgol1, Tnr \n",
            "\t   Ckap2, X2810459M11Rik, Bora, Emid1, Slc1a3, Stmn4, Elavl4, Hmgb2, Plpp3, Ttc9b \n",
            "Negative:  Pcna, Ccne2, Cdt1, Siva1, Rpa2, Cdca7, Uhrf1, Dtl, Egr1, Clspn \n",
            "\t   X2810417H13Rik, Dhfr, Esco2, Dnajc9, Tex9, Chd3os, Mcm6, Gmnn, Eepd1, Cenpq \n",
            "\t   Efhd2, Nfic, Olfm1, Ncapg2, Ranbp1, Fam111a, Itpr2, Asf1b, Gabra2, Etv4 \n",
            "PC_ 2 \n",
            "Positive:  Sema3c, Tac2, Cx3cl1, Adamts18, Camk2d, Ttc28, Sema5a, Cenpk, Mfap3l, Clu \n",
            "\t   Ttc9b, Rtn1, Ccdc34, Ppfia2, Mpped1, Rbfox1, Ntng1, Tyms, Stmn3, Plxna4 \n",
            "\t   Plvap, Smc4, Dut, X2810417H13Rik, Qser1, Mgll, Plcxd2, Tubb3, Bub3, Basp1 \n",
            "Negative:  Gja1, Zfp36l1, Sox9, Vim, Rgma, Myo10, St3gal4, Tead2, Rfx4, Kcnj10 \n",
            "\t   Tnfrsf19, Gas7, Prune2, Mt1, Zcchc24, Atp1a2, Mlc1, Dbi, Igfbp5, Bcl2 \n",
            "\t   Rpl32, Sdc2, Pla2g7, Hopx, Gng12, Tspan7, E330013P04Rik, Notch1, X2810459M11Rik, Mest \n",
            "PC_ 3 \n",
            "Positive:  X1700086L19Rik, Plppr5, Pcdh15, Ptpre, Emid1, Creg2, Timp3, Rgcc, Scrg1, Xylt1 \n",
            "\t   Arfgef3, Tnr, Epha5, Cspg5, Serpine2, Hat1, Shisa6, Itgb8, Ptpro, Appl2 \n",
            "\t   Mgll, Fxyd7, Cntn1, Ddah1, Calb2, Ank3, Grm5, S100a6, Tpbg, Ncald \n",
            "Negative:  Celf2, Elavl2, Prc1, Nme7, Ttc28, Top2a, Ttyh3, Hmgb2, Ckap2, Cdk1 \n",
            "\t   Cks2, Nusap1, Mt2, Cdc20, Cthrc1, Smad1, Pkia, Mis18bp1, Tead1, Tead2 \n",
            "\t   Neil3, Kif20b, Efs, Plxna2, Gng5, Ephb1, Aurka, Kif11, B2m, Cenpn \n",
            "PC_ 4 \n",
            "Positive:  Creb5, Gda, Mlc1, Gatm, Tlcd1, Etv4, Anks1b, Bdnf, X0610040J01Rik, Ppp1r3c \n",
            "\t   Dtna, Prune2, Rfx4, Caln1, Gria1, Neurod2, Sema5a, Sash1, Nrip3, Adamts18 \n",
            "\t   Camk2d, Cx3cl1, Pde1a, Itpr2, Tub, Snx5, Igfbp5, Celf5, Slc1a4, Sparcl1 \n",
            "Negative:  Mt1, Stmn3, Hmgb2, Ogfrl1, Ncald, Eomes, Lima1, Dlgap1, Fth1, Dtl \n",
            "\t   Clspn, Lyrm4, Pdlim4, Cacng5, Elavl4, Dclk1, Calb1, Lingo1, Rbl1, Ttc9b \n",
            "\t   Xylt1, Cnih2, Ccdc34, Sox8, Sall1, Ppm1e, Sfrp1, Pdlim5, Nim1k, Bard1 \n",
            "PC_ 5 \n",
            "Positive:  Cx3cl1, Camk2d, Adamts18, Plvap, Mfap3l, Ppfia2, Ttll7, Pde3a, Sema5a, Rbfox1 \n",
            "\t   Ntng1, Bcl11b, Me3, Scn3a, Plxna4, Adgrb3, Dio2, Matk, Ptpro, Syt1 \n",
            "\t   Slco1c1, Clu, Dpp6, Rgs7bp, Cyp1b1, Cenpp, Neurod2, Gabrb1, Gfap, Casp7 \n",
            "Negative:  Etv4, Gatm, Smc4, Racgap1, Tmpo, Bub3, Hmgn5, Pcsk1n, Sash1, Ezr \n",
            "\t   Ccdc80, Gda, Itpr2, Snrpn, Creb5, Dhfr, Pde1a, Epha4, Kif23, Cdkn2c \n",
            "\t   Mdga1, Tlcd1, Lzts1, Pantr1, Glud1, Cenpn, Cpne4, Arhgef9, Top2a, Mlc1 \n",
            "\n",
            "Computing nearest neighbors\n",
            "\n",
            "Only one graph name supplied, storing nearest-neighbor graph only\n",
            "\n"
          ]
        }
      ],
      "source": [
        "# calculate transition index\n",
        "data<-transition_index(data,n_neighbor=50,n_gene=100)"
      ]
    },
    {
      "cell_type": "markdown",
      "metadata": {
        "id": "nl5tLWF2K-YA"
      },
      "source": [
        "##Visualization"
      ]
    },
    {
      "cell_type": "code",
      "execution_count": 24,
      "metadata": {
        "colab": {
          "base_uri": "https://localhost:8080/",
          "height": 437
        },
        "id": "-qp6qEaDLHUU",
        "outputId": "88963fa2-9263-47ef-b82e-9091771e956b",
        "vscode": {
          "languageId": "r"
        }
      },
      "outputs": [
        {
          "data": {
            "image/png": "[encoded data removed]",
            "text/plain": [
              "plot without title"
            ]
          },
          "metadata": {
            "image/png": {
              "height": 420,
              "width": 420
            }
          },
          "output_type": "display_data"
        }
      ],
      "source": [
        "# UMAP 按 Transition Index 着色\n",
        "FeaturePlot(data, reduction = \"pca\", features = 'transition_index', order = TRUE, pt.size = 1)"
      ]
    },
    {
      "cell_type": "code",
      "execution_count": null,
      "metadata": {
        "vscode": {
          "languageId": "r"
        }
      },
      "outputs": [],
      "source": [
        "write.table(data$transition_index, \n",
        "            file = data_name+\"/transition_index.csv\",\n",
        "            row.names = FALSE,\n",
        "            col.names = FALSE,\n",
        "            sep = \",\")"
      ]
    }
  ],
  "metadata": {
    "colab": {
      "provenance": []
    },
    "kernelspec": {
      "display_name": "R",
      "language": "R",
      "name": "ir"
    },
    "language_info": {
      "codemirror_mode": "r",
      "file_extension": ".r",
      "mimetype": "text/x-r-source",
      "name": "R",
      "pygments_lexer": "r",
      "version": "4.4.0"
    }
  },
  "nbformat": 4,
  "nbformat_minor": 0
}
