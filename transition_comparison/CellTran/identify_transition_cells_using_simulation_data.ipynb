{
  "cells": [
    {
      "cell_type": "markdown",
      "metadata": {
        "id": "W6kXcflWLiof"
      },
      "source": [
        "## Installation"
      ]
    },
    {
      "cell_type": "code",
      "execution_count": 1,
      "metadata": {
        "colab": {
          "base_uri": "https://localhost:8080/"
        },
        "collapsed": true,
        "id": "PYjdgAvWIcfo",
        "outputId": "971d5550-3bda-477e-ffd7-7c73e3c53afc",
        "vscode": {
          "languageId": "r"
        }
      },
      "outputs": [],
      "source": [
        "# # install package dependencies Seurat, scLink and dplyr\n",
        "# install.packages('scLink',version='1.0.1')\n",
        "# install.packages('dplyr')\n",
        "# remotes::install_version(\"Seurat\", \"4.4.0\")"
      ]
    },
    {
      "cell_type": "code",
      "execution_count": 2,
      "metadata": {
        "colab": {
          "base_uri": "https://localhost:8080/"
        },
        "collapsed": true,
        "id": "g7aIZCW2BJw8",
        "outputId": "49ead3af-a787-4511-cfc9-c10a5d17c26d",
        "vscode": {
          "languageId": "r"
        }
      },
      "outputs": [],
      "source": [
        "# library(devtools)\n",
        "# install_github(\"KChen-lab/transition-cells-identification\",force=T)"
      ]
    },
    {
      "cell_type": "code",
      "execution_count": 3,
      "metadata": {
        "id": "lh9vinaVH-55",
        "vscode": {
          "languageId": "r"
        }
      },
      "outputs": [],
      "source": [
        "library(CellTran)\n",
        "options(warn=-1)"
      ]
    },
    {
      "cell_type": "markdown",
      "metadata": {
        "id": "I8RVTsuFGTwL"
      },
      "source": [
        "## Read data"
      ]
    },
    {
      "cell_type": "code",
      "execution_count": 4,
      "metadata": {
        "colab": {
          "base_uri": "https://localhost:8080/"
        },
        "id": "ycYc2BqKBvBc",
        "outputId": "69754c2c-3dc7-40bd-db46-fcbe2b309cdb",
        "vscode": {
          "languageId": "r"
        }
      },
      "outputs": [
        {
          "name": "stderr",
          "output_type": "stream",
          "text": [
            "Attaching SeuratObject\n",
            "\n"
          ]
        },
        {
          "name": "stderr",
          "output_type": "stream",
          "text": [
            "Seurat v4 was just loaded with SeuratObject v5; disabling v5 assays and\n",
            "validation routines, and ensuring assays work in strict v3/v4\n",
            "compatibility mode\n",
            "\n"
          ]
        }
      ],
      "source": [
        "# 读取 SERGIO 生成的模拟数据\n",
        "library(Seurat)\n",
        "n_tr <- 1000\n",
        "n_st <- 500\n",
        "\n",
        "# 1. 读取并创建 Seurat 对象（显式指定 assay 为 \"RNA\"）\n",
        "data_transit <- read.csv('transit.csv', row.names = 1)\n",
        "rownames(data_transit) <- paste0('gene_', 1:nrow(data_transit))\n",
        "colnames(data_transit) <- paste0('cell_', 1:ncol(data_transit))\n",
        "data_transit <- CreateSeuratObject(data_transit, assay = \"RNA\")  # 明确指定 assay\n",
        "data_transit$bin <- c(rep(1, n_tr), rep(2, n_tr), rep(3, n_tr))\n",
        "\n",
        "state <- read.csv('cell_state.csv', row.names = 1)\n",
        "rownames(state) <- paste0('cell_', 1:ncol(data_transit))\n",
        "colnames(state) <- 'state'\n",
        "data_transit <- AddMetaData(data_transit, state)\n",
        "\n",
        "data_stable <- read.csv(\"stable.csv\", row.names = 1)\n",
        "rownames(data_stable) <- paste0('gene_', 1:nrow(data_stable))\n",
        "colnames(data_stable) <- paste0('cell_', (1 + ncol(data_transit)):(ncol(data_transit) + ncol(data_stable)))\n",
        "data_stable <- CreateSeuratObject(data_stable, assay = \"RNA\")  # 明确指定 assay\n",
        "data_stable$bin <- c(rep(1, n_st), rep(2, n_st), rep(3, n_st))\n",
        "data_stable$state <- 'stable'"
      ]
    },
    {
      "cell_type": "markdown",
      "metadata": {
        "id": "O9rN7BtXHusV"
      },
      "source": [
        "# Calculate transition index"
      ]
    },
    {
      "cell_type": "code",
      "execution_count": 5,
      "metadata": {
        "colab": {
          "base_uri": "https://localhost:8080/"
        },
        "collapsed": true,
        "id": "XmRwcxCLHqFD",
        "outputId": "9cd3c05f-f3c3-41d7-e4af-ddac0ae66d68",
        "vscode": {
          "languageId": "r"
        }
      },
      "outputs": [
        {
          "name": "stderr",
          "output_type": "stream",
          "text": [
            "Centering and scaling data matrix\n",
            "\n",
            "Warning message in irlba(A = t(x = object), nv = npcs, ...):\n",
            "\"You're computing too large a percentage of total singular values, use a standard svd instead.\"\n",
            "PC_ 1 \n",
            "Positive:  gene-68, gene-83, gene-36, gene-73, gene-8, gene-10, gene-16, gene-50, gene-71, gene-62 \n",
            "\t   gene-29, gene-9, gene-55, gene-24, gene-46, gene-90, gene-95, gene-81, gene-87, gene-96 \n",
            "\t   gene-93, gene-1, gene-7, gene-37, gene-5, gene-4, gene-89, gene-78, gene-79, gene-85 \n",
            "Negative:  gene-72, gene-63, gene-49, gene-67, gene-97, gene-92, gene-13, gene-41, gene-44, gene-15 \n",
            "\t   gene-11, gene-35, gene-98, gene-53, gene-38, gene-69, gene-59, gene-66, gene-52, gene-18 \n",
            "\t   gene-70, gene-17, gene-82, gene-100, gene-22, gene-30, gene-28, gene-60, gene-45, gene-76 \n",
            "PC_ 2 \n",
            "Positive:  gene-2, gene-42, gene-86, gene-56, gene-12, gene-39, gene-3, gene-6, gene-94, gene-80 \n",
            "\t   gene-74, gene-88, gene-45, gene-28, gene-60, gene-30, gene-76, gene-58, gene-14, gene-91 \n",
            "\t   gene-22, gene-100, gene-85, gene-82, gene-79, gene-70, gene-17, gene-66, gene-59, gene-52 \n",
            "Negative:  gene-77, gene-64, gene-40, gene-65, gene-57, gene-84, gene-48, gene-19, gene-47, gene-20 \n",
            "\t   gene-23, gene-43, gene-61, gene-32, gene-25, gene-33, gene-75, gene-21, gene-51, gene-26 \n",
            "\t   gene-31, gene-34, gene-99, gene-27, gene-54, gene-78, gene-89, gene-4, gene-1, gene-37 \n",
            "PC_ 3 \n",
            "Positive:  gene-42, gene-56, gene-12, gene-39, gene-94, gene-100, gene-22, gene-78, gene-4, gene-82 \n",
            "\t   gene-81, gene-89, gene-93, gene-87, gene-54, gene-77, gene-95, gene-64, gene-85, gene-65 \n",
            "\t   gene-40, gene-2, gene-96, gene-80, gene-84, gene-90, gene-91, gene-57, gene-72, gene-66 \n",
            "Negative:  gene-24, gene-55, gene-71, gene-29, gene-50, gene-62, gene-16, gene-10, gene-7, gene-60 \n",
            "\t   gene-28, gene-76, gene-14, gene-58, gene-88, gene-19, gene-30, gene-21, gene-45, gene-46 \n",
            "\t   gene-79, gene-43, gene-23, gene-25, gene-3, gene-32, gene-47, gene-74, gene-6, gene-61 \n",
            "PC_ 4 \n",
            "Positive:  gene-7, gene-5, gene-54, gene-4, gene-58, gene-9, gene-89, gene-78, gene-88, gene-60 \n",
            "\t   gene-28, gene-14, gene-30, gene-76, gene-74, gene-37, gene-45, gene-1, gene-8, gene-57 \n",
            "\t   gene-81, gene-10, gene-79, gene-96, gene-87, gene-12, gene-90, gene-77, gene-93, gene-67 \n",
            "Negative:  gene-42, gene-39, gene-85, gene-56, gene-2, gene-46, gene-19, gene-86, gene-80, gene-48 \n",
            "\t   gene-34, gene-27, gene-75, gene-36, gene-83, gene-68, gene-29, gene-55, gene-3, gene-23 \n",
            "\t   gene-24, gene-61, gene-71, gene-47, gene-62, gene-20, gene-51, gene-26, gene-73, gene-25 \n",
            "PC_ 5 \n",
            "Positive:  gene-6, gene-42, gene-57, gene-7, gene-19, gene-39, gene-20, gene-31, gene-34, gene-99 \n",
            "\t   gene-26, gene-75, gene-32, gene-43, gene-30, gene-61, gene-25, gene-33, gene-47, gene-51 \n",
            "\t   gene-27, gene-60, gene-85, gene-21, gene-23, gene-56, gene-46, gene-58, gene-74, gene-76 \n",
            "Negative:  gene-48, gene-12, gene-94, gene-38, gene-69, gene-82, gene-18, gene-97, gene-10, gene-59 \n",
            "\t   gene-53, gene-11, gene-72, gene-98, gene-13, gene-15, gene-68, gene-44, gene-70, gene-63 \n",
            "\t   gene-41, gene-92, gene-36, gene-67, gene-52, gene-49, gene-66, gene-17, gene-64, gene-35 \n",
            "\n",
            "Computing nearest neighbor graph\n",
            "\n",
            "Computing SNN\n",
            "\n"
          ]
        },
        {
          "name": "stdout",
          "output_type": "stream",
          "text": [
            "Modularity Optimizer version 1.3.0 by Ludo Waltman and Nees Jan van Eck\n",
            "\n",
            "Number of nodes: 4500\n",
            "Number of edges: 127916\n",
            "\n",
            "Running Louvain algorithm...\n",
            "Maximum modularity in 10 random starts: 0.9029\n",
            "Number of communities: 9\n",
            "Elapsed time: 0 seconds\n"
          ]
        },
        {
          "name": "stderr",
          "output_type": "stream",
          "text": [
            "11:57:24 UMAP embedding parameters a = 0.9922 b = 1.112\n",
            "\n",
            "11:57:24 Read 4500 rows and found 5 numeric columns\n",
            "\n",
            "11:57:24 Using Annoy for neighbor search, n_neighbors = 30\n",
            "\n",
            "11:57:24 Building Annoy index with metric = cosine, n_trees = 50\n",
            "\n",
            "0%   10   20   30   40   50   60   70   80   90   100%\n",
            "\n",
            "[----|----|----|----|----|----|----|----|----|----|\n",
            "\n",
            "*\n",
            "*\n",
            "*\n",
            "*\n",
            "*\n",
            "*\n",
            "*\n",
            "*\n",
            "*\n",
            "*\n",
            "*\n",
            "*\n",
            "*\n",
            "*\n",
            "*\n",
            "*\n",
            "*\n",
            "*\n",
            "*\n",
            "*\n",
            "*\n",
            "*\n",
            "*\n",
            "*\n",
            "*\n",
            "*\n",
            "*\n",
            "*\n",
            "*\n",
            "*\n",
            "*\n",
            "*\n",
            "*\n",
            "*\n",
            "*\n",
            "*\n",
            "*\n",
            "*\n",
            "*\n",
            "*\n",
            "*\n",
            "*\n",
            "*\n",
            "*\n",
            "*\n",
            "*\n",
            "*\n",
            "*\n",
            "*\n",
            "*\n",
            "|\n",
            "\n",
            "11:57:24 Writing NN index file to temp file C:\\Users\\yingj\\AppData\\Local\\Temp\\RtmpCaOnMe\\file6cf45e9453b0\n",
            "\n",
            "11:57:24 Searching Annoy index using 1 thread, search_k = 3000\n",
            "\n",
            "11:57:26 Annoy recall = 100%\n",
            "\n",
            "11:57:26 Commencing smooth kNN distance calibration using 1 thread\n",
            " with target n_neighbors = 30\n",
            "\n",
            "11:57:27 Initializing from normalized Laplacian + noise (using irlba)\n",
            "\n",
            "11:57:27 Commencing optimization for 500 epochs, with 163996 positive edges\n",
            "\n",
            "11:57:27 Using rng type: pcg\n",
            "\n",
            "11:57:35 Optimization finished\n",
            "\n"
          ]
        }
      ],
      "source": [
        "# data pre-processing\n",
        "data<-merge(data_transit,data_stable)\n",
        "data<-NormalizeData(data)\n",
        "data<- ScaleData(data)\n",
        "data<- RunPCA(data, features = rownames(data))\n",
        "data<- FindNeighbors(data, dims = 1: 5)\n",
        "data<- FindClusters(data, resolution = 0.5)\n",
        "data<- RunUMAP(data,dims=1:5)"
      ]
    },
    {
      "cell_type": "code",
      "execution_count": 6,
      "metadata": {
        "vscode": {
          "languageId": "r"
        }
      },
      "outputs": [
        {
          "data": {
            "text/plain": [
              "An object of class Seurat \n",
              "100 features across 4500 samples within 1 assay \n",
              "Active assay: RNA (100 features, 0 variable features)\n",
              " 3 layers present: counts, data, scale.data\n",
              " 2 dimensional reductions calculated: pca, umap"
            ]
          },
          "metadata": {},
          "output_type": "display_data"
        }
      ],
      "source": [
        "data"
      ]
    },
    {
      "cell_type": "code",
      "execution_count": 7,
      "metadata": {
        "vscode": {
          "languageId": "r"
        }
      },
      "outputs": [],
      "source": [
        "#' Calculate GPPCCs\n",
        "#'\n",
        "#' This is the function calculating gene pair-wise Pearson's correlation coefficients (GPPCCs). \n",
        "#' The GPPCCs calculated using our method are assumed from the cells that exhibit similar \n",
        "#' regulatory profiles and around equilibrium points. Thus, for each cell, we select the cell \n",
        "#' together with its nearest neighbors in Principal Component Analysis (PCA) dimensions based \n",
        "#' on cosine distance to calculate GPPCCs. We also use scLink in the calculation to deal with\n",
        "#' the gene expression values affected by dropout. \n",
        "#' @param data Seurat object containing both count matrix and metadata such as neighboring \n",
        "#' results for a single-cell dataset.\n",
        "#' @param highly_variable_gene A gene list containing top most variable genes. Calculated \n",
        "#' by \\code{var} function by default.\n",
        "#' @param n_neighbor The number of neighboring cells used to calculate GPPCCs. 300 by default.\n",
        "#' @return A matrix of GPPCCs. Rows are cells and columns are gene pairs.\n",
        "#' @import Seurat\n",
        "#' @import scLink\n",
        "#' @import dplyr\n",
        "#' @export\n",
        "gene_pearson<-function(data,highly_variable_gene=NULL,n_neighbor=300,n_gene=50,...){\n",
        "        res<-NULL\n",
        "        exprs<-as.matrix(GetAssayData(data))\n",
        "        if(is.null(highly_variable_gene)){\n",
        "                highly_variable_gene<-order(apply(as.matrix(exprs),1,function(x) var(x)),decreasing=T)[1:n_gene]\n",
        "                highly_variable_gene<-rownames(exprs)[highly_variable_gene]\n",
        "        }\n",
        "        for(c in data %>% colnames()){\n",
        "                expr<-t(exprs[highly_variable_gene,data@neighbors$RNA.nn@nn.idx[match(c,data@neighbors$RNA.nn@cell.names),]])\n",
        "                pearson_cor<-scLink::sclink_cor(expr = expr, ncores = 1)\n",
        "                diag(pearson_cor)<-NA\n",
        "                res<-rbind(res,as.numeric(pearson_cor))\n",
        "        }\n",
        "        rownames(res)<-colnames(data)\n",
        "        gene_name<-highly_variable_gene\n",
        "        name_tmp<-character()\n",
        "        for(i in gene_name){\n",
        "                for(j in gene_name)\n",
        "                        name_tmp<-c(name_tmp,paste(i,j,sep='_'))\n",
        "         }\n",
        "        colnames(res)<-name_tmp\n",
        "        return(res)\n",
        "}\n",
        "\n",
        "\n",
        "find_ks_d<-function(x,y){\n",
        "        n.x <- length(x)\n",
        "        n.y <- length(y)\n",
        "        w <- c(x, y)\n",
        "        z <- cumsum(ifelse(order(w) <= n.x, 1/n.x, -1/n.y))\n",
        "        w_sort<-sort(w)\n",
        "        w_max<-max(w_sort[z==max(z)])\n",
        "        z_sub<-z[w_sort>w_max]\n",
        "        w_min<-min(w_sort[w_sort>w_max][z_sub==min(z_sub)])\n",
        "        return(list('w_min'=w_min,'w_max'=w_max))\n",
        "}\n",
        "\n",
        "#' Calculate transition index\n",
        "#'\n",
        "#' This is the function calculating transition index that reflects the transition\n",
        "#' probability of a cell. The transition index we defined is inspired by Kolmogorov-Smirnov \n",
        "#' statistic. We assume there are both transition cells and stable cells captured by  \n",
        "#' scRNA-seq in the data. We first find the archetype of transition \n",
        "#' cell and stable cell by using modified Kolmogorov-Smirnov statistic. As proved \n",
        "#' mathematically, there are more gene pairs whose absolute value of Pearson鈥檚 \n",
        "#' correlation coefficients are close to 1 in transition cells than stable cells. \n",
        "#' Thus, based on the distribution difference, by finding the maximum difference \n",
        "#' among all cells, we identify archetypal stable cells and transition cells. To \n",
        "#' count and compare the number of gene pairs exceeding such threshold in each cell, \n",
        "#' we define transition index by summarizing the percentage of gene pairs whose \n",
        "#' absolute value of Pearson鈥檚 correlation coefficients are between argmax_x(D_max)    \n",
        "#' and argmin_x(D_max). \n",
        "#'\n",
        "#' @param data Seurat object containing both count matrix and metadata such as neighboring \n",
        "#' results for a single-cell dataset.\n",
        "#' @param highly_variable_gene A gene list containing top most variable genes. Calculated \n",
        "#' by \\code{var} function by default.\n",
        "#' @param group The cell group highly_variable_genes selected based on. It should be a column\n",
        "#' name of data@meta.data, such as 'seurat_clusters','cell_type','time_point'. Using \n",
        "#' 'seurat_clusters' by default. \n",
        "#' @param n_neighbor The number of neighboring cells used to calculate GPPCCs. 300 by default.\n",
        "#' @param n_gene The number of top most variable genes used in calculating GPPCCs. 50 by default.\n",
        "#' @param return_pearson Whether report GPPCCs or not. Using False by default.\n",
        "#' @return If return_pearson is False, return a Seurat object. Calculated transition index is \n",
        "#' store as a column in the metadata. If return_pearson is True, return a list. Calculated \n",
        "#' transition index is stored in the data element, as a column in the metadata. GPPCCs is stored\n",
        "#' in the GPPCCs element.\n",
        "#' @import Seurat\n",
        "#' @import scLink\n",
        "#' @import dplyr\n",
        "#' @export\n",
        "transition_index<-function(data,highly_variable_gene=NULL,group='seurat_clusters',n_neighbors=300,n_gene=50,return_pearson=FALSE,...){\n",
        "    res<-list()\n",
        "    for(i in data@meta.data[,group] %>% unique()){\n",
        "            print(i)\n",
        "            data_sub<-data[,data@meta.data[,group]==i]\n",
        "            if(ncol(data_sub)<=n_neighbors)\n",
        "                    next\n",
        "            data_sub<-Seurat::FindVariableFeatures(data_sub, selection.method = \"vst\", nfeatures = 2000)\n",
        "            data_sub<- Seurat::ScaleData(data_sub,vars.to.regress=\"nCount_RNA\")\n",
        "            data_sub<- Seurat::RunPCA(data_sub, features = VariableFeatures(object = data_sub),npcs=min(20,ncol(data_sub)))\n",
        "            data_sub<- Seurat::FindNeighbors(data_sub, dims = 1: min(20,ncol(data_sub)),return.neighbor = TRUE,k.param=n_neighbors,annoy.metric='cosine')\n",
        "            pearson<-gene_pearson(data_sub,highly_variable_gene=highly_variable_gene,n_neighbor=n_neighbors,n_gene=n_gene)\n",
        "            # fine tuning  (optional)\n",
        "            pearson<-abs(pearson)\n",
        "            res_1<-apply(pearson,1,function(x) ks.test(x,pearson[1,],alternative='greater')$statistic)\n",
        "            res_2<-apply(pearson,1,function(x) ks.test(x,pearson[1,],alternative='less')$statistic)\n",
        "            res_tmp<-find_ks_d(pearson[which.max(res_1),],pearson[which.max(res_2),])\n",
        "            tmp<-apply(pearson,1,function(x) sum(abs(x)>min(unlist(res_tmp)) & abs(x)<max(unlist(res_tmp)),na.rm=T)/sum(abs(x)>=0,na.rm=T))\n",
        "            data_sub<-Seurat::AddMetaData(data_sub,data.frame('pearson'=tmp))\n",
        "            if(min(tmp)==max(tmp)){\n",
        "                    res[[as.character(i)]]<-pearson\n",
        "                    next\n",
        "            }\n",
        "            cell<-data_sub@meta.data %>% dplyr::filter(pearson>quantile(data_sub$pearson,0.8,na.rm=T)) %>% rownames()\n",
        "            hvg<-sort(apply(as.matrix(GetAssayData(data_sub[,cell])),1,function(x) var(x)),decreasing=T)[1:n_gene] %>% names\n",
        "            pearson<-gene_pearson(data_sub,n_neighbor=n_neighbors,highly_variable_gene=hvg)\n",
        "            res[[as.character(i)]]<-pearson\n",
        "    }\n",
        "    res<-Reduce(function(x,y) rbind(x,y),res)\n",
        "    pearson<-res\n",
        "    res<-abs(res)\n",
        "    res_1<-apply(res,1,function(x) ks.test(x,res[1,],alternative='greater')$statistic)\n",
        "    res_2<-apply(res,1,function(x) ks.test(x,res[1,],alternative='less')$statistic)\n",
        "    res_tmp<-find_ks_d(res[which.max(res_1),],res[which.max(res_2),])\n",
        "    tmp<-apply(res,1,function(x) sum(abs(x)>min(unlist(res_tmp)) & abs(x)<max(unlist(res_tmp)),na.rm=T)/sum(abs(x)>=0,na.rm=T))\n",
        "    data<-Seurat::AddMetaData(data,data.frame('transition_index'=tmp))\n",
        "    if(!return_pearson)\n",
        "    return(data)\n",
        "    else\n",
        "    return(list('GPPCCs'=pearson,'data'=data))\n",
        "}\n"
      ]
    },
    {
      "cell_type": "code",
      "execution_count": 8,
      "metadata": {
        "colab": {
          "base_uri": "https://localhost:8080/"
        },
        "collapsed": true,
        "id": "UD7hEqWlH2Rm",
        "outputId": "30e81ecb-ef92-41c0-d36e-adbee847b394",
        "vscode": {
          "languageId": "r"
        }
      },
      "outputs": [
        {
          "name": "stderr",
          "output_type": "stream",
          "text": [
            "\n",
            "Attaching package: 'dplyr'\n",
            "\n",
            "\n",
            "The following objects are masked from 'package:stats':\n",
            "\n",
            "    filter, lag\n",
            "\n",
            "\n",
            "The following objects are masked from 'package:base':\n",
            "\n",
            "    intersect, setdiff, setequal, union\n",
            "\n",
            "\n"
          ]
        },
        {
          "name": "stdout",
          "output_type": "stream",
          "text": [
            "[1] \"3\"\n"
          ]
        },
        {
          "name": "stderr",
          "output_type": "stream",
          "text": [
            "Regressing out nCount_RNA\n",
            "\n",
            "Centering and scaling data matrix\n",
            "\n",
            "PC_ 1 \n",
            "Positive:  gene-75, gene-19, gene-1, gene-12, gene-25, gene-62, gene-79, gene-28, gene-86, gene-63 \n",
            "\t   gene-81, gene-10, gene-52, gene-68, gene-35, gene-4, gene-54, gene-11, gene-58, gene-90 \n",
            "\t   gene-95, gene-13, gene-85, gene-30, gene-8, gene-89, gene-92, gene-20, gene-18, gene-84 \n",
            "Negative:  gene-38, gene-2, gene-80, gene-82, gene-14, gene-42, gene-36, gene-17, gene-49, gene-69 \n",
            "\t   gene-56, gene-76, gene-48, gene-67, gene-74, gene-53, gene-50, gene-24, gene-98, gene-41 \n",
            "\t   gene-29, gene-87, gene-64, gene-37, gene-99, gene-91, gene-72, gene-5, gene-60, gene-3 \n",
            "PC_ 2 \n",
            "Positive:  gene-70, gene-6, gene-72, gene-42, gene-100, gene-17, gene-9, gene-45, gene-88, gene-5 \n",
            "\t   gene-75, gene-48, gene-4, gene-79, gene-28, gene-12, gene-86, gene-52, gene-57, gene-65 \n",
            "\t   gene-43, gene-78, gene-91, gene-80, gene-41, gene-77, gene-58, gene-40, gene-76, gene-15 \n",
            "Negative:  gene-84, gene-39, gene-27, gene-47, gene-66, gene-55, gene-96, gene-50, gene-2, gene-81 \n",
            "\t   gene-61, gene-98, gene-8, gene-31, gene-56, gene-93, gene-60, gene-94, gene-11, gene-34 \n",
            "\t   gene-49, gene-13, gene-24, gene-67, gene-73, gene-26, gene-99, gene-51, gene-16, gene-1 \n",
            "PC_ 3 \n",
            "Positive:  gene-21, gene-26, gene-4, gene-82, gene-18, gene-15, gene-97, gene-37, gene-49, gene-43 \n",
            "\t   gene-76, gene-29, gene-70, gene-52, gene-75, gene-33, gene-60, gene-32, gene-88, gene-44 \n",
            "\t   gene-95, gene-10, gene-16, gene-50, gene-3, gene-11, gene-54, gene-36, gene-5, gene-61 \n",
            "Negative:  gene-59, gene-2, gene-34, gene-81, gene-42, gene-58, gene-40, gene-85, gene-57, gene-64 \n",
            "\t   gene-51, gene-45, gene-74, gene-100, gene-38, gene-79, gene-89, gene-63, gene-92, gene-41 \n",
            "\t   gene-67, gene-80, gene-39, gene-6, gene-77, gene-98, gene-8, gene-22, gene-86, gene-12 \n",
            "PC_ 4 \n",
            "Positive:  gene-71, gene-90, gene-66, gene-27, gene-83, gene-16, gene-37, gene-80, gene-3, gene-55 \n",
            "\t   gene-17, gene-62, gene-50, gene-85, gene-61, gene-93, gene-77, gene-65, gene-48, gene-78 \n",
            "\t   gene-45, gene-79, gene-14, gene-10, gene-24, gene-9, gene-29, gene-13, gene-38, gene-89 \n",
            "Negative:  gene-87, gene-40, gene-47, gene-7, gene-99, gene-33, gene-49, gene-57, gene-20, gene-26 \n",
            "\t   gene-60, gene-58, gene-22, gene-21, gene-74, gene-41, gene-19, gene-76, gene-54, gene-12 \n",
            "\t   gene-94, gene-59, gene-35, gene-51, gene-67, gene-100, gene-82, gene-25, gene-97, gene-56 \n",
            "PC_ 5 \n",
            "Positive:  gene-88, gene-36, gene-10, gene-15, gene-47, gene-28, gene-96, gene-9, gene-49, gene-95 \n",
            "\t   gene-31, gene-7, gene-62, gene-41, gene-81, gene-53, gene-85, gene-2, gene-16, gene-98 \n",
            "\t   gene-77, gene-8, gene-90, gene-5, gene-48, gene-55, gene-27, gene-6, gene-17, gene-65 \n",
            "Negative:  gene-54, gene-44, gene-33, gene-93, gene-67, gene-68, gene-34, gene-4, gene-70, gene-59 \n",
            "\t   gene-23, gene-73, gene-92, gene-80, gene-69, gene-89, gene-37, gene-18, gene-66, gene-76 \n",
            "\t   gene-11, gene-99, gene-32, gene-12, gene-61, gene-45, gene-78, gene-20, gene-91, gene-14 \n",
            "\n",
            "Computing nearest neighbors\n",
            "\n",
            "Only one graph name supplied, storing nearest-neighbor graph only\n",
            "\n"
          ]
        },
        {
          "name": "stdout",
          "output_type": "stream",
          "text": [
            "[1] \"2\"\n"
          ]
        },
        {
          "name": "stderr",
          "output_type": "stream",
          "text": [
            "Regressing out nCount_RNA\n",
            "\n",
            "Centering and scaling data matrix\n",
            "\n",
            "PC_ 1 \n",
            "Positive:  gene-48, gene-89, gene-93, gene-53, gene-54, gene-82, gene-55, gene-77, gene-42, gene-37 \n",
            "\t   gene-10, gene-85, gene-38, gene-16, gene-64, gene-5, gene-33, gene-39, gene-12, gene-45 \n",
            "\t   gene-72, gene-73, gene-15, gene-26, gene-7, gene-51, gene-60, gene-97, gene-94, gene-61 \n",
            "Negative:  gene-20, gene-41, gene-100, gene-35, gene-4, gene-90, gene-67, gene-66, gene-86, gene-21 \n",
            "\t   gene-74, gene-29, gene-56, gene-19, gene-88, gene-28, gene-49, gene-69, gene-6, gene-30 \n",
            "\t   gene-78, gene-14, gene-91, gene-52, gene-70, gene-34, gene-50, gene-44, gene-81, gene-79 \n",
            "PC_ 2 \n",
            "Positive:  gene-30, gene-16, gene-7, gene-45, gene-62, gene-3, gene-98, gene-17, gene-65, gene-36 \n",
            "\t   gene-27, gene-44, gene-2, gene-37, gene-88, gene-94, gene-28, gene-13, gene-10, gene-66 \n",
            "\t   gene-41, gene-52, gene-84, gene-18, gene-49, gene-92, gene-67, gene-6, gene-50, gene-77 \n",
            "Negative:  gene-75, gene-20, gene-71, gene-47, gene-26, gene-31, gene-97, gene-1, gene-34, gene-46 \n",
            "\t   gene-55, gene-23, gene-33, gene-95, gene-93, gene-25, gene-35, gene-63, gene-19, gene-61 \n",
            "\t   gene-89, gene-83, gene-60, gene-99, gene-87, gene-68, gene-43, gene-85, gene-58, gene-74 \n",
            "PC_ 3 \n",
            "Positive:  gene-31, gene-6, gene-58, gene-18, gene-81, gene-91, gene-65, gene-83, gene-76, gene-55 \n",
            "\t   gene-60, gene-71, gene-64, gene-94, gene-70, gene-98, gene-86, gene-72, gene-30, gene-96 \n",
            "\t   gene-99, gene-33, gene-49, gene-74, gene-22, gene-53, gene-32, gene-37, gene-57, gene-88 \n",
            "Negative:  gene-84, gene-25, gene-62, gene-47, gene-29, gene-23, gene-1, gene-24, gene-59, gene-100 \n",
            "\t   gene-44, gene-27, gene-19, gene-46, gene-34, gene-42, gene-16, gene-80, gene-21, gene-95 \n",
            "\t   gene-56, gene-93, gene-5, gene-10, gene-40, gene-77, gene-45, gene-52, gene-85, gene-26 \n",
            "PC_ 4 \n",
            "Positive:  gene-76, gene-93, gene-97, gene-73, gene-90, gene-14, gene-38, gene-52, gene-3, gene-28 \n",
            "\t   gene-44, gene-92, gene-95, gene-20, gene-34, gene-83, gene-46, gene-15, gene-59, gene-68 \n",
            "\t   gene-41, gene-74, gene-96, gene-36, gene-2, gene-88, gene-75, gene-94, gene-69, gene-86 \n",
            "Negative:  gene-29, gene-19, gene-26, gene-6, gene-66, gene-32, gene-18, gene-24, gene-1, gene-78 \n",
            "\t   gene-47, gene-87, gene-49, gene-21, gene-5, gene-99, gene-98, gene-61, gene-67, gene-60 \n",
            "\t   gene-54, gene-13, gene-70, gene-56, gene-81, gene-8, gene-82, gene-57, gene-53, gene-33 \n",
            "PC_ 5 \n",
            "Positive:  gene-87, gene-49, gene-51, gene-92, gene-95, gene-34, gene-58, gene-3, gene-18, gene-59 \n",
            "\t   gene-60, gene-11, gene-12, gene-94, gene-84, gene-21, gene-97, gene-27, gene-14, gene-6 \n",
            "\t   gene-64, gene-75, gene-45, gene-39, gene-25, gene-20, gene-83, gene-67, gene-19, gene-33 \n",
            "Negative:  gene-71, gene-91, gene-68, gene-23, gene-43, gene-86, gene-30, gene-80, gene-10, gene-73 \n",
            "\t   gene-70, gene-32, gene-62, gene-35, gene-57, gene-42, gene-65, gene-9, gene-17, gene-77 \n",
            "\t   gene-5, gene-15, gene-50, gene-28, gene-74, gene-90, gene-66, gene-48, gene-36, gene-93 \n",
            "\n",
            "Computing nearest neighbors\n",
            "\n",
            "Only one graph name supplied, storing nearest-neighbor graph only\n",
            "\n"
          ]
        },
        {
          "name": "stdout",
          "output_type": "stream",
          "text": [
            "[1] \"8\"\n"
          ]
        },
        {
          "name": "stderr",
          "output_type": "stream",
          "text": [
            "Regressing out nCount_RNA\n",
            "\n",
            "Centering and scaling data matrix\n",
            "\n",
            "PC_ 1 \n",
            "Positive:  gene-39, gene-50, gene-26, gene-31, gene-67, gene-99, gene-63, gene-46, gene-78, gene-89 \n",
            "\t   gene-24, gene-23, gene-73, gene-100, gene-72, gene-60, gene-94, gene-13, gene-96, gene-92 \n",
            "\t   gene-69, gene-40, gene-71, gene-34, gene-43, gene-28, gene-84, gene-16, gene-64, gene-9 \n",
            "Negative:  gene-2, gene-79, gene-38, gene-42, gene-11, gene-15, gene-86, gene-85, gene-44, gene-56 \n",
            "\t   gene-95, gene-68, gene-41, gene-30, gene-27, gene-7, gene-36, gene-82, gene-90, gene-17 \n",
            "\t   gene-76, gene-18, gene-88, gene-77, gene-74, gene-97, gene-32, gene-93, gene-1, gene-87 \n",
            "PC_ 2 \n",
            "Positive:  gene-35, gene-80, gene-59, gene-4, gene-18, gene-88, gene-92, gene-5, gene-98, gene-40 \n",
            "\t   gene-32, gene-57, gene-45, gene-34, gene-8, gene-16, gene-47, gene-56, gene-78, gene-20 \n",
            "\t   gene-67, gene-46, gene-91, gene-38, gene-21, gene-36, gene-9, gene-76, gene-71, gene-42 \n",
            "Negative:  gene-19, gene-62, gene-61, gene-75, gene-25, gene-74, gene-93, gene-52, gene-41, gene-22 \n",
            "\t   gene-10, gene-33, gene-24, gene-66, gene-27, gene-43, gene-84, gene-30, gene-63, gene-17 \n",
            "\t   gene-97, gene-6, gene-23, gene-12, gene-44, gene-73, gene-28, gene-60, gene-95, gene-37 \n",
            "PC_ 3 \n",
            "Positive:  gene-21, gene-55, gene-25, gene-49, gene-1, gene-80, gene-45, gene-95, gene-22, gene-59 \n",
            "\t   gene-4, gene-36, gene-92, gene-28, gene-93, gene-23, gene-44, gene-56, gene-7, gene-13 \n",
            "\t   gene-58, gene-3, gene-73, gene-100, gene-67, gene-33, gene-34, gene-69, gene-43, gene-19 \n",
            "Negative:  gene-65, gene-6, gene-14, gene-16, gene-70, gene-77, gene-60, gene-8, gene-64, gene-97 \n",
            "\t   gene-86, gene-82, gene-5, gene-75, gene-94, gene-68, gene-91, gene-53, gene-37, gene-61 \n",
            "\t   gene-35, gene-12, gene-51, gene-32, gene-85, gene-98, gene-9, gene-57, gene-27, gene-52 \n",
            "PC_ 4 \n",
            "Positive:  gene-91, gene-55, gene-28, gene-1, gene-76, gene-90, gene-13, gene-70, gene-64, gene-99 \n",
            "\t   gene-48, gene-57, gene-59, gene-12, gene-52, gene-87, gene-43, gene-40, gene-65, gene-21 \n",
            "\t   gene-69, gene-86, gene-5, gene-54, gene-58, gene-50, gene-27, gene-4, gene-53, gene-81 \n",
            "Negative:  gene-83, gene-98, gene-97, gene-18, gene-9, gene-7, gene-29, gene-89, gene-96, gene-45 \n",
            "\t   gene-22, gene-20, gene-30, gene-37, gene-84, gene-25, gene-88, gene-51, gene-31, gene-32 \n",
            "\t   gene-26, gene-46, gene-24, gene-85, gene-72, gene-33, gene-94, gene-93, gene-79, gene-82 \n",
            "PC_ 5 \n",
            "Positive:  gene-54, gene-33, gene-20, gene-52, gene-51, gene-75, gene-62, gene-55, gene-57, gene-8 \n",
            "\t   gene-91, gene-77, gene-84, gene-71, gene-46, gene-65, gene-32, gene-45, gene-6, gene-100 \n",
            "\t   gene-27, gene-74, gene-29, gene-80, gene-92, gene-18, gene-35, gene-86, gene-97, gene-67 \n",
            "Negative:  gene-3, gene-9, gene-53, gene-81, gene-37, gene-66, gene-58, gene-10, gene-69, gene-30 \n",
            "\t   gene-15, gene-68, gene-22, gene-87, gene-4, gene-5, gene-42, gene-14, gene-12, gene-82 \n",
            "\t   gene-70, gene-76, gene-13, gene-61, gene-40, gene-78, gene-73, gene-60, gene-99, gene-96 \n",
            "\n",
            "Computing nearest neighbors\n",
            "\n",
            "Only one graph name supplied, storing nearest-neighbor graph only\n",
            "\n"
          ]
        },
        {
          "name": "stdout",
          "output_type": "stream",
          "text": [
            "[1] \"5\"\n"
          ]
        },
        {
          "name": "stderr",
          "output_type": "stream",
          "text": [
            "Regressing out nCount_RNA\n",
            "\n",
            "Centering and scaling data matrix\n",
            "\n",
            "PC_ 1 \n",
            "Positive:  gene-9, gene-54, gene-10, gene-1, gene-37, gene-55, gene-8, gene-5, gene-24, gene-89 \n",
            "\t   gene-62, gene-46, gene-71, gene-7, gene-29, gene-4, gene-16, gene-78, gene-50, gene-99 \n",
            "\t   gene-33, gene-84, gene-31, gene-43, gene-19, gene-26, gene-61, gene-47, gene-23, gene-32 \n",
            "Negative:  gene-72, gene-13, gene-97, gene-41, gene-70, gene-92, gene-18, gene-66, gene-69, gene-38 \n",
            "\t   gene-35, gene-49, gene-15, gene-52, gene-44, gene-98, gene-63, gene-82, gene-11, gene-59 \n",
            "\t   gene-67, gene-53, gene-17, gene-22, gene-100, gene-2, gene-94, gene-56, gene-12, gene-86 \n",
            "PC_ 2 \n",
            "Positive:  gene-19, gene-34, gene-25, gene-61, gene-47, gene-68, gene-51, gene-83, gene-27, gene-23 \n",
            "\t   gene-33, gene-43, gene-21, gene-26, gene-99, gene-31, gene-75, gene-40, gene-32, gene-64 \n",
            "\t   gene-73, gene-48, gene-36, gene-65, gene-84, gene-20, gene-57, gene-80, gene-53, gene-15 \n",
            "Negative:  gene-76, gene-45, gene-30, gene-60, gene-6, gene-28, gene-88, gene-74, gene-14, gene-58 \n",
            "\t   gene-7, gene-81, gene-9, gene-8, gene-55, gene-91, gene-1, gene-87, gene-37, gene-5 \n",
            "\t   gene-24, gene-79, gene-12, gene-89, gene-42, gene-90, gene-93, gene-46, gene-2, gene-17 \n",
            "PC_ 3 \n",
            "Positive:  gene-4, gene-78, gene-83, gene-89, gene-68, gene-73, gene-5, gene-54, gene-36, gene-62 \n",
            "\t   gene-9, gene-90, gene-1, gene-56, gene-82, gene-72, gene-81, gene-85, gene-50, gene-87 \n",
            "\t   gene-22, gene-52, gene-42, gene-18, gene-94, gene-97, gene-12, gene-96, gene-41, gene-59 \n",
            "Negative:  gene-86, gene-3, gene-88, gene-2, gene-28, gene-27, gene-60, gene-32, gene-58, gene-30 \n",
            "\t   gene-45, gene-76, gene-74, gene-51, gene-21, gene-31, gene-25, gene-79, gene-6, gene-34 \n",
            "\t   gene-19, gene-75, gene-14, gene-99, gene-47, gene-43, gene-23, gene-33, gene-61, gene-26 \n",
            "PC_ 4 \n",
            "Positive:  gene-81, gene-77, gene-90, gene-95, gene-84, gene-87, gene-96, gene-86, gene-93, gene-42 \n",
            "\t   gene-91, gene-73, gene-46, gene-2, gene-47, gene-32, gene-83, gene-35, gene-31, gene-25 \n",
            "\t   gene-59, gene-99, gene-56, gene-27, gene-49, gene-61, gene-23, gene-34, gene-100, gene-94 \n",
            "Negative:  gene-80, gene-64, gene-40, gene-65, gene-48, gene-82, gene-37, gene-57, gene-88, gene-45 \n",
            "\t   gene-14, gene-85, gene-50, gene-43, gene-36, gene-7, gene-51, gene-21, gene-12, gene-8 \n",
            "\t   gene-89, gene-97, gene-26, gene-79, gene-28, gene-76, gene-29, gene-11, gene-33, gene-62 \n",
            "PC_ 5 \n",
            "Positive:  gene-94, gene-20, gene-36, gene-29, gene-90, gene-79, gene-65, gene-39, gene-12, gene-56 \n",
            "\t   gene-96, gene-77, gene-50, gene-8, gene-55, gene-58, gene-62, gene-82, gene-2, gene-16 \n",
            "\t   gene-28, gene-68, gene-32, gene-18, gene-23, gene-1, gene-100, gene-61, gene-71, gene-24 \n",
            "Negative:  gene-91, gene-42, gene-4, gene-7, gene-31, gene-54, gene-13, gene-26, gene-89, gene-30 \n",
            "\t   gene-67, gene-51, gene-64, gene-21, gene-93, gene-15, gene-5, gene-78, gene-92, gene-27 \n",
            "\t   gene-83, gene-87, gene-86, gene-97, gene-9, gene-84, gene-46, gene-3, gene-34, gene-40 \n",
            "\n",
            "Computing nearest neighbors\n",
            "\n",
            "Only one graph name supplied, storing nearest-neighbor graph only\n",
            "\n"
          ]
        },
        {
          "name": "stdout",
          "output_type": "stream",
          "text": [
            "[1] \"6\"\n"
          ]
        },
        {
          "name": "stderr",
          "output_type": "stream",
          "text": [
            "Regressing out nCount_RNA\n",
            "\n",
            "Centering and scaling data matrix\n",
            "\n",
            "PC_ 1 \n",
            "Positive:  gene-38, gene-92, gene-15, gene-72, gene-35, gene-11, gene-59, gene-66, gene-70, gene-44 \n",
            "\t   gene-69, gene-13, gene-52, gene-18, gene-41, gene-53, gene-49, gene-82, gene-67, gene-97 \n",
            "\t   gene-17, gene-98, gene-63, gene-100, gene-22, gene-80, gene-2, gene-56, gene-94, gene-39 \n",
            "Negative:  gene-9, gene-37, gene-50, gene-5, gene-1, gene-8, gene-7, gene-54, gene-24, gene-10 \n",
            "\t   gene-71, gene-16, gene-55, gene-4, gene-87, gene-89, gene-29, gene-62, gene-79, gene-78 \n",
            "\t   gene-31, gene-77, gene-34, gene-43, gene-46, gene-90, gene-19, gene-84, gene-61, gene-32 \n",
            "PC_ 2 \n",
            "Positive:  gene-45, gene-30, gene-74, gene-28, gene-6, gene-58, gene-14, gene-76, gene-88, gene-60 \n",
            "\t   gene-7, gene-8, gene-9, gene-12, gene-5, gene-18, gene-79, gene-89, gene-80, gene-37 \n",
            "\t   gene-55, gene-67, gene-10, gene-24, gene-94, gene-49, gene-54, gene-100, gene-82, gene-17 \n",
            "Negative:  gene-36, gene-83, gene-34, gene-27, gene-61, gene-68, gene-51, gene-33, gene-73, gene-99 \n",
            "\t   gene-20, gene-26, gene-23, gene-47, gene-43, gene-32, gene-31, gene-19, gene-25, gene-21 \n",
            "\t   gene-75, gene-64, gene-84, gene-48, gene-85, gene-65, gene-63, gene-77, gene-81, gene-40 \n",
            "PC_ 3 \n",
            "Positive:  gene-89, gene-42, gene-78, gene-4, gene-46, gene-90, gene-95, gene-83, gene-96, gene-73 \n",
            "\t   gene-12, gene-39, gene-84, gene-81, gene-68, gene-66, gene-100, gene-54, gene-36, gene-5 \n",
            "\t   gene-56, gene-22, gene-87, gene-9, gene-77, gene-38, gene-98, gene-93, gene-91, gene-49 \n",
            "Negative:  gene-88, gene-76, gene-25, gene-58, gene-40, gene-48, gene-57, gene-34, gene-3, gene-47 \n",
            "\t   gene-51, gene-10, gene-43, gene-2, gene-63, gene-70, gene-26, gene-41, gene-24, gene-64 \n",
            "\t   gene-30, gene-31, gene-65, gene-60, gene-23, gene-79, gene-55, gene-86, gene-21, gene-99 \n",
            "PC_ 4 \n",
            "Positive:  gene-2, gene-86, gene-85, gene-46, gene-39, gene-42, gene-88, gene-77, gene-65, gene-75 \n",
            "\t   gene-6, gene-64, gene-31, gene-76, gene-19, gene-3, gene-93, gene-84, gene-74, gene-58 \n",
            "\t   gene-99, gene-60, gene-57, gene-28, gene-56, gene-94, gene-87, gene-30, gene-96, gene-48 \n",
            "Negative:  gene-62, gene-10, gene-50, gene-16, gene-4, gene-78, gene-24, gene-55, gene-89, gene-29 \n",
            "\t   gene-71, gene-54, gene-63, gene-22, gene-53, gene-35, gene-98, gene-1, gene-97, gene-52 \n",
            "\t   gene-92, gene-44, gene-68, gene-38, gene-41, gene-49, gene-18, gene-72, gene-67, gene-79 \n",
            "PC_ 5 \n",
            "Positive:  gene-96, gene-90, gene-77, gene-33, gene-87, gene-12, gene-100, gene-66, gene-14, gene-93 \n",
            "\t   gene-84, gene-86, gene-69, gene-13, gene-2, gene-92, gene-95, gene-32, gene-60, gene-74 \n",
            "\t   gene-25, gene-23, gene-46, gene-72, gene-22, gene-73, gene-19, gene-62, gene-17, gene-21 \n",
            "Negative:  gene-40, gene-48, gene-94, gene-57, gene-5, gene-42, gene-91, gene-80, gene-39, gene-68 \n",
            "\t   gene-97, gene-78, gene-51, gene-54, gene-82, gene-89, gene-18, gene-61, gene-1, gene-20 \n",
            "\t   gene-6, gene-4, gene-9, gene-85, gene-56, gene-63, gene-64, gene-83, gene-11, gene-8 \n",
            "\n",
            "Computing nearest neighbors\n",
            "\n",
            "Only one graph name supplied, storing nearest-neighbor graph only\n",
            "\n"
          ]
        },
        {
          "name": "stdout",
          "output_type": "stream",
          "text": [
            "[1] \"0\"\n"
          ]
        },
        {
          "name": "stderr",
          "output_type": "stream",
          "text": [
            "Regressing out nCount_RNA\n",
            "\n",
            "Centering and scaling data matrix\n",
            "\n",
            "PC_ 1 \n",
            "Positive:  gene-59, gene-11, gene-63, gene-17, gene-72, gene-67, gene-53, gene-15, gene-52, gene-69 \n",
            "\t   gene-97, gene-44, gene-66, gene-18, gene-38, gene-49, gene-13, gene-41, gene-92, gene-70 \n",
            "\t   gene-98, gene-35, gene-100, gene-82, gene-22, gene-83, gene-56, gene-94, gene-68, gene-36 \n",
            "Negative:  gene-74, gene-30, gene-60, gene-88, gene-14, gene-76, gene-28, gene-45, gene-6, gene-20 \n",
            "\t   gene-33, gene-58, gene-51, gene-61, gene-9, gene-7, gene-54, gene-31, gene-1, gene-55 \n",
            "\t   gene-16, gene-25, gene-79, gene-24, gene-37, gene-99, gene-8, gene-29, gene-43, gene-5 \n",
            "PC_ 2 \n",
            "Positive:  gene-2, gene-86, gene-83, gene-10, gene-29, gene-55, gene-24, gene-50, gene-95, gene-63 \n",
            "\t   gene-91, gene-22, gene-62, gene-58, gene-68, gene-85, gene-56, gene-96, gene-100, gene-93 \n",
            "\t   gene-76, gene-71, gene-81, gene-44, gene-73, gene-37, gene-46, gene-36, gene-79, gene-45 \n",
            "Negative:  gene-19, gene-51, gene-75, gene-61, gene-25, gene-34, gene-31, gene-26, gene-20, gene-33 \n",
            "\t   gene-27, gene-47, gene-32, gene-99, gene-23, gene-4, gene-89, gene-43, gene-66, gene-21 \n",
            "\t   gene-92, gene-18, gene-41, gene-49, gene-53, gene-97, gene-38, gene-6, gene-28, gene-72 \n",
            "PC_ 3 \n",
            "Positive:  gene-35, gene-56, gene-76, gene-78, gene-44, gene-5, gene-63, gene-58, gene-30, gene-20 \n",
            "\t   gene-84, gene-67, gene-88, gene-45, gene-74, gene-57, gene-94, gene-21, gene-93, gene-52 \n",
            "\t   gene-43, gene-96, gene-6, gene-60, gene-97, gene-98, gene-13, gene-51, gene-34, gene-77 \n",
            "Negative:  gene-27, gene-64, gene-73, gene-75, gene-40, gene-16, gene-36, gene-42, gene-10, gene-4 \n",
            "\t   gene-47, gene-71, gene-65, gene-24, gene-68, gene-39, gene-62, gene-46, gene-48, gene-91 \n",
            "\t   gene-69, gene-82, gene-15, gene-79, gene-100, gene-31, gene-19, gene-18, gene-17, gene-81 \n",
            "PC_ 4 \n",
            "Positive:  gene-20, gene-36, gene-86, gene-5, gene-73, gene-16, gene-82, gene-77, gene-100, gene-24 \n",
            "\t   gene-34, gene-42, gene-97, gene-49, gene-57, gene-3, gene-46, gene-41, gene-7, gene-26 \n",
            "\t   gene-51, gene-6, gene-38, gene-81, gene-96, gene-76, gene-93, gene-32, gene-88, gene-2 \n",
            "Negative:  gene-85, gene-21, gene-91, gene-80, gene-33, gene-89, gene-71, gene-45, gene-4, gene-13 \n",
            "\t   gene-83, gene-78, gene-17, gene-29, gene-65, gene-75, gene-68, gene-30, gene-47, gene-35 \n",
            "\t   gene-22, gene-72, gene-74, gene-60, gene-95, gene-15, gene-9, gene-18, gene-50, gene-43 \n",
            "PC_ 5 \n",
            "Positive:  gene-95, gene-8, gene-79, gene-98, gene-94, gene-76, gene-16, gene-4, gene-26, gene-7 \n",
            "\t   gene-93, gene-33, gene-66, gene-89, gene-35, gene-45, gene-84, gene-54, gene-6, gene-99 \n",
            "\t   gene-88, gene-81, gene-11, gene-92, gene-64, gene-25, gene-60, gene-67, gene-23, gene-24 \n",
            "Negative:  gene-29, gene-96, gene-1, gene-56, gene-12, gene-19, gene-34, gene-85, gene-43, gene-68 \n",
            "\t   gene-51, gene-5, gene-31, gene-40, gene-27, gene-22, gene-21, gene-20, gene-32, gene-69 \n",
            "\t   gene-90, gene-55, gene-28, gene-42, gene-52, gene-63, gene-39, gene-14, gene-44, gene-59 \n",
            "\n",
            "Computing nearest neighbors\n",
            "\n",
            "Only one graph name supplied, storing nearest-neighbor graph only\n",
            "\n"
          ]
        },
        {
          "name": "stdout",
          "output_type": "stream",
          "text": [
            "[1] \"7\"\n"
          ]
        },
        {
          "name": "stderr",
          "output_type": "stream",
          "text": [
            "Regressing out nCount_RNA\n",
            "\n",
            "Centering and scaling data matrix\n",
            "\n",
            "PC_ 1 \n",
            "Positive:  gene-34, gene-19, gene-43, gene-99, gene-47, gene-23, gene-27, gene-61, gene-51, gene-32 \n",
            "\t   gene-26, gene-33, gene-25, gene-31, gene-21, gene-75, gene-20, gene-84, gene-65, gene-77 \n",
            "\t   gene-40, gene-62, gene-64, gene-55, gene-29, gene-50, gene-57, gene-70, gene-85, gene-17 \n",
            "Negative:  gene-10, gene-22, gene-4, gene-87, gene-100, gene-89, gene-82, gene-93, gene-7, gene-78 \n",
            "\t   gene-81, gene-80, gene-5, gene-91, gene-3, gene-96, gene-90, gene-73, gene-68, gene-95 \n",
            "\t   gene-12, gene-94, gene-37, gene-79, gene-86, gene-52, gene-54, gene-74, gene-8, gene-72 \n",
            "PC_ 2 \n",
            "Positive:  gene-10, gene-9, gene-76, gene-60, gene-74, gene-88, gene-24, gene-58, gene-6, gene-79 \n",
            "\t   gene-50, gene-30, gene-5, gene-45, gene-1, gene-7, gene-28, gene-8, gene-54, gene-29 \n",
            "\t   gene-62, gene-16, gene-14, gene-37, gene-55, gene-71, gene-3, gene-48, gene-84, gene-4 \n",
            "Negative:  gene-72, gene-66, gene-44, gene-15, gene-83, gene-52, gene-38, gene-49, gene-63, gene-97 \n",
            "\t   gene-41, gene-18, gene-11, gene-70, gene-92, gene-98, gene-36, gene-69, gene-13, gene-17 \n",
            "\t   gene-100, gene-35, gene-53, gene-68, gene-67, gene-59, gene-81, gene-73, gene-82, gene-56 \n",
            "PC_ 3 \n",
            "Positive:  gene-2, gene-14, gene-60, gene-6, gene-74, gene-30, gene-45, gene-88, gene-58, gene-76 \n",
            "\t   gene-28, gene-17, gene-12, gene-70, gene-71, gene-86, gene-38, gene-97, gene-53, gene-92 \n",
            "\t   gene-85, gene-44, gene-42, gene-11, gene-49, gene-69, gene-24, gene-67, gene-98, gene-15 \n",
            "Negative:  gene-89, gene-68, gene-78, gene-4, gene-54, gene-73, gene-36, gene-83, gene-55, gene-8 \n",
            "\t   gene-29, gene-77, gene-5, gene-84, gene-48, gene-1, gene-26, gene-19, gene-9, gene-25 \n",
            "\t   gene-31, gene-7, gene-21, gene-16, gene-32, gene-65, gene-40, gene-99, gene-50, gene-81 \n",
            "PC_ 4 \n",
            "Positive:  gene-90, gene-16, gene-82, gene-81, gene-1, gene-8, gene-87, gene-73, gene-95, gene-42 \n",
            "\t   gene-52, gene-72, gene-38, gene-5, gene-14, gene-46, gene-53, gene-37, gene-84, gene-24 \n",
            "\t   gene-58, gene-27, gene-39, gene-6, gene-36, gene-44, gene-93, gene-55, gene-31, gene-3 \n",
            "Negative:  gene-85, gene-80, gene-64, gene-41, gene-40, gene-94, gene-22, gene-29, gene-65, gene-57 \n",
            "\t   gene-48, gene-67, gene-35, gene-30, gene-71, gene-50, gene-98, gene-7, gene-89, gene-62 \n",
            "\t   gene-10, gene-9, gene-100, gene-56, gene-59, gene-63, gene-77, gene-45, gene-70, gene-4 \n",
            "PC_ 5 \n",
            "Positive:  gene-37, gene-80, gene-4, gene-41, gene-9, gene-88, gene-63, gene-13, gene-78, gene-54 \n",
            "\t   gene-89, gene-28, gene-97, gene-72, gene-50, gene-49, gene-92, gene-18, gene-38, gene-11 \n",
            "\t   gene-60, gene-66, gene-98, gene-48, gene-5, gene-35, gene-70, gene-100, gene-14, gene-53 \n",
            "Negative:  gene-95, gene-86, gene-77, gene-57, gene-2, gene-46, gene-93, gene-94, gene-40, gene-65 \n",
            "\t   gene-17, gene-12, gene-45, gene-67, gene-44, gene-90, gene-83, gene-15, gene-29, gene-96 \n",
            "\t   gene-3, gene-91, gene-69, gene-62, gene-7, gene-75, gene-56, gene-25, gene-24, gene-59 \n",
            "\n",
            "Computing nearest neighbors\n",
            "\n",
            "Only one graph name supplied, storing nearest-neighbor graph only\n",
            "\n"
          ]
        },
        {
          "name": "stdout",
          "output_type": "stream",
          "text": [
            "[1] \"4\"\n"
          ]
        },
        {
          "name": "stderr",
          "output_type": "stream",
          "text": [
            "Regressing out nCount_RNA\n",
            "\n",
            "Centering and scaling data matrix\n",
            "\n",
            "PC_ 1 \n",
            "Positive:  gene-83, gene-68, gene-73, gene-69, gene-72, gene-38, gene-18, gene-63, gene-52, gene-97 \n",
            "\t   gene-66, gene-35, gene-2, gene-98, gene-26, gene-41, gene-13, gene-36, gene-15, gene-44 \n",
            "\t   gene-100, gene-70, gene-67, gene-25, gene-49, gene-53, gene-11, gene-47, gene-43, gene-75 \n",
            "Negative:  gene-7, gene-9, gene-1, gene-37, gene-8, gene-5, gene-10, gene-28, gene-60, gene-79 \n",
            "\t   gene-54, gene-6, gene-30, gene-76, gene-14, gene-88, gene-62, gene-29, gene-55, gene-16 \n",
            "\t   gene-89, gene-71, gene-74, gene-58, gene-45, gene-24, gene-78, gene-4, gene-50, gene-46 \n",
            "PC_ 2 \n",
            "Positive:  gene-86, gene-88, gene-6, gene-2, gene-60, gene-76, gene-30, gene-45, gene-58, gene-28 \n",
            "\t   gene-14, gene-74, gene-17, gene-94, gene-22, gene-92, gene-79, gene-82, gene-70, gene-49 \n",
            "\t   gene-100, gene-15, gene-81, gene-63, gene-12, gene-13, gene-98, gene-44, gene-97, gene-72 \n",
            "Negative:  gene-4, gene-68, gene-36, gene-78, gene-89, gene-54, gene-83, gene-73, gene-5, gene-16 \n",
            "\t   gene-1, gene-9, gene-31, gene-55, gene-29, gene-51, gene-10, gene-65, gene-27, gene-21 \n",
            "\t   gene-40, gene-24, gene-71, gene-33, gene-19, gene-69, gene-37, gene-75, gene-64, gene-62 \n",
            "PC_ 3 \n",
            "Positive:  gene-87, gene-81, gene-90, gene-93, gene-96, gene-95, gene-78, gene-77, gene-49, gene-4 \n",
            "\t   gene-5, gene-73, gene-91, gene-66, gene-46, gene-54, gene-89, gene-72, gene-1, gene-53 \n",
            "\t   gene-42, gene-12, gene-98, gene-36, gene-83, gene-79, gene-68, gene-39, gene-41, gene-84 \n",
            "Negative:  gene-80, gene-48, gene-65, gene-40, gene-71, gene-64, gene-57, gene-55, gene-23, gene-50 \n",
            "\t   gene-62, gene-29, gene-10, gene-24, gene-11, gene-20, gene-51, gene-99, gene-2, gene-88 \n",
            "\t   gene-19, gene-43, gene-26, gene-85, gene-47, gene-69, gene-21, gene-94, gene-74, gene-38 \n",
            "PC_ 4 \n",
            "Positive:  gene-50, gene-24, gene-29, gene-62, gene-32, gene-16, gene-31, gene-10, gene-55, gene-84 \n",
            "\t   gene-27, gene-95, gene-71, gene-90, gene-96, gene-75, gene-25, gene-81, gene-47, gene-19 \n",
            "\t   gene-87, gene-86, gene-46, gene-45, gene-34, gene-77, gene-74, gene-99, gene-21, gene-72 \n",
            "Negative:  gene-80, gene-89, gene-57, gene-94, gene-13, gene-65, gene-4, gene-17, gene-64, gene-59 \n",
            "\t   gene-39, gene-78, gene-1, gene-63, gene-54, gene-7, gene-11, gene-5, gene-15, gene-9 \n",
            "\t   gene-68, gene-38, gene-8, gene-14, gene-48, gene-52, gene-85, gene-83, gene-91, gene-23 \n",
            "PC_ 5 \n",
            "Positive:  gene-12, gene-85, gene-3, gene-39, gene-46, gene-66, gene-16, gene-42, gene-15, gene-92 \n",
            "\t   gene-29, gene-24, gene-82, gene-72, gene-56, gene-69, gene-38, gene-97, gene-70, gene-71 \n",
            "\t   gene-53, gene-41, gene-9, gene-49, gene-83, gene-62, gene-88, gene-52, gene-5, gene-36 \n",
            "Negative:  gene-19, gene-93, gene-47, gene-65, gene-91, gene-51, gene-77, gene-63, gene-21, gene-76 \n",
            "\t   gene-8, gene-26, gene-57, gene-67, gene-84, gene-90, gene-34, gene-79, gene-40, gene-32 \n",
            "\t   gene-98, gene-45, gene-27, gene-33, gene-20, gene-7, gene-96, gene-30, gene-78, gene-81 \n",
            "\n",
            "Computing nearest neighbors\n",
            "\n",
            "Only one graph name supplied, storing nearest-neighbor graph only\n",
            "\n"
          ]
        },
        {
          "name": "stdout",
          "output_type": "stream",
          "text": [
            "[1] \"1\"\n"
          ]
        },
        {
          "name": "stderr",
          "output_type": "stream",
          "text": [
            "Regressing out nCount_RNA\n",
            "\n",
            "Centering and scaling data matrix\n",
            "\n",
            "PC_ 1 \n",
            "Positive:  gene-36, gene-82, gene-66, gene-5, gene-35, gene-86, gene-93, gene-84, gene-34, gene-40 \n",
            "\t   gene-14, gene-3, gene-62, gene-37, gene-78, gene-1, gene-95, gene-6, gene-45, gene-4 \n",
            "\t   gene-73, gene-43, gene-30, gene-97, gene-2, gene-69, gene-77, gene-24, gene-83, gene-68 \n",
            "Negative:  gene-13, gene-67, gene-64, gene-98, gene-65, gene-32, gene-27, gene-25, gene-53, gene-7 \n",
            "\t   gene-70, gene-79, gene-81, gene-20, gene-60, gene-9, gene-90, gene-51, gene-50, gene-74 \n",
            "\t   gene-94, gene-75, gene-10, gene-46, gene-59, gene-76, gene-22, gene-91, gene-8, gene-80 \n",
            "PC_ 2 \n",
            "Positive:  gene-57, gene-83, gene-8, gene-50, gene-75, gene-72, gene-19, gene-71, gene-73, gene-80 \n",
            "\t   gene-37, gene-58, gene-88, gene-44, gene-65, gene-39, gene-64, gene-34, gene-1, gene-14 \n",
            "\t   gene-74, gene-93, gene-55, gene-66, gene-67, gene-95, gene-28, gene-27, gene-46, gene-11 \n",
            "Negative:  gene-87, gene-9, gene-53, gene-47, gene-76, gene-3, gene-33, gene-52, gene-86, gene-10 \n",
            "\t   gene-84, gene-17, gene-61, gene-85, gene-68, gene-22, gene-56, gene-20, gene-92, gene-96 \n",
            "\t   gene-12, gene-13, gene-78, gene-25, gene-45, gene-77, gene-69, gene-4, gene-54, gene-94 \n",
            "PC_ 3 \n",
            "Positive:  gene-72, gene-23, gene-70, gene-83, gene-12, gene-45, gene-59, gene-27, gene-2, gene-47 \n",
            "\t   gene-34, gene-80, gene-48, gene-21, gene-31, gene-92, gene-15, gene-25, gene-87, gene-6 \n",
            "\t   gene-16, gene-4, gene-79, gene-57, gene-58, gene-100, gene-30, gene-8, gene-66, gene-91 \n",
            "Negative:  gene-39, gene-71, gene-64, gene-90, gene-40, gene-85, gene-43, gene-51, gene-89, gene-35 \n",
            "\t   gene-17, gene-44, gene-99, gene-96, gene-60, gene-36, gene-22, gene-63, gene-97, gene-69 \n",
            "\t   gene-49, gene-9, gene-10, gene-11, gene-74, gene-46, gene-18, gene-68, gene-98, gene-29 \n",
            "PC_ 4 \n",
            "Positive:  gene-80, gene-71, gene-63, gene-62, gene-48, gene-92, gene-53, gene-8, gene-66, gene-29 \n",
            "\t   gene-98, gene-12, gene-61, gene-42, gene-55, gene-38, gene-9, gene-50, gene-24, gene-90 \n",
            "\t   gene-68, gene-32, gene-83, gene-45, gene-79, gene-60, gene-16, gene-94, gene-82, gene-17 \n",
            "Negative:  gene-21, gene-36, gene-19, gene-67, gene-81, gene-4, gene-73, gene-13, gene-75, gene-20 \n",
            "\t   gene-25, gene-78, gene-51, gene-5, gene-96, gene-33, gene-52, gene-28, gene-39, gene-74 \n",
            "\t   gene-99, gene-1, gene-59, gene-41, gene-56, gene-26, gene-84, gene-49, gene-89, gene-70 \n",
            "PC_ 5 \n",
            "Positive:  gene-56, gene-91, gene-10, gene-16, gene-74, gene-85, gene-77, gene-7, gene-13, gene-22 \n",
            "\t   gene-14, gene-93, gene-30, gene-65, gene-52, gene-84, gene-2, gene-42, gene-24, gene-31 \n",
            "\t   gene-75, gene-53, gene-36, gene-19, gene-40, gene-79, gene-63, gene-23, gene-12, gene-29 \n",
            "Negative:  gene-57, gene-69, gene-20, gene-92, gene-28, gene-51, gene-17, gene-54, gene-33, gene-37 \n",
            "\t   gene-60, gene-9, gene-11, gene-38, gene-67, gene-46, gene-78, gene-45, gene-82, gene-6 \n",
            "\t   gene-59, gene-87, gene-5, gene-26, gene-35, gene-8, gene-64, gene-88, gene-96, gene-97 \n",
            "\n",
            "Computing nearest neighbors\n",
            "\n",
            "Only one graph name supplied, storing nearest-neighbor graph only\n",
            "\n"
          ]
        }
      ],
      "source": [
        "# calculate transition index\n",
        "library(dplyr)\n",
        "data<-transition_index(data,n_neighbor=50,n_gene=100)"
      ]
    },
    {
      "cell_type": "markdown",
      "metadata": {
        "id": "nl5tLWF2K-YA"
      },
      "source": [
        "##Visualization"
      ]
    },
    {
      "cell_type": "code",
      "execution_count": 9,
      "metadata": {
        "colab": {
          "base_uri": "https://localhost:8080/",
          "height": 437
        },
        "id": "6JuR7gy8K8fw",
        "outputId": "44080233-fbdc-40eb-bdbb-9bef8cf2f3ac",
        "vscode": {
          "languageId": "r"
        }
      },
      "outputs": [
        {
          "data": {
            "image/png": "[encoded data removed]",
            "text/plain": [
              "plot without title"
            ]
          },
          "metadata": {
            "image/png": {
              "height": 420,
              "width": 420
            }
          },
          "output_type": "display_data"
        }
      ],
      "source": [
        "# 5. 可视化\n",
        "# UMAP 按真实标签着色（过渡细胞标红）\n",
        "DimPlot(data, cells.highlight = list('transition_cells' = colnames(subset(data, state == 'transit'))))"
      ]
    },
    {
      "cell_type": "code",
      "execution_count": 10,
      "metadata": {
        "colab": {
          "base_uri": "https://localhost:8080/",
          "height": 437
        },
        "id": "-qp6qEaDLHUU",
        "outputId": "88963fa2-9263-47ef-b82e-9091771e956b",
        "vscode": {
          "languageId": "r"
        }
      },
      "outputs": [
        {
          "data": {
            "image/png": "[encoded data removed]",
            "text/plain": [
              "plot without title"
            ]
          },
          "metadata": {
            "image/png": {
              "height": 420,
              "width": 420
            }
          },
          "output_type": "display_data"
        }
      ],
      "source": [
        "# UMAP 按 Transition Index 着色\n",
        "FeaturePlot(data, features = 'transition_index', order = TRUE, pt.size = 1)"
      ]
    },
    {
      "cell_type": "code",
      "execution_count": 13,
      "metadata": {
        "vscode": {
          "languageId": "r"
        }
      },
      "outputs": [],
      "source": [
        "write.table(data$transition_index, \n",
        "            file = \"celltran_data/transition_index.csv\",\n",
        "            row.names = FALSE,\n",
        "            col.names = FALSE,\n",
        "            sep = \",\")"
      ]
    },
    {
      "cell_type": "markdown",
      "metadata": {
        "id": "Jl-hbez2KW_y"
      },
      "source": [
        "# Evaluation"
      ]
    },
    {
      "cell_type": "code",
      "execution_count": null,
      "metadata": {
        "colab": {
          "base_uri": "https://localhost:8080/"
        },
        "id": "lF-r-WI2Jgwt",
        "outputId": "edfc6064-685e-4aa5-e300-daee2d3eec5c",
        "vscode": {
          "languageId": "r"
        }
      },
      "outputs": [
        {
          "name": "stdout",
          "output_type": "stream",
          "text": [
            "package 'yardstick' successfully unpacked and MD5 sums checked\n",
            "\n",
            "The downloaded binary packages are in\n",
            "\tC:\\Users\\yingj\\AppData\\Local\\Temp\\Rtmp8KXMua\\downloaded_packages\n",
            "package 'pROC' successfully unpacked and MD5 sums checked\n",
            "\n",
            "The downloaded binary packages are in\n",
            "\tC:\\Users\\yingj\\AppData\\Local\\Temp\\Rtmp8KXMua\\downloaded_packages\n"
          ]
        },
        {
          "name": "stderr",
          "output_type": "stream",
          "text": [
            "Registered S3 method overwritten by 'yardstick':\n",
            "  method       from         \n",
            "  print.metric spatstat.geom\n",
            "\n"
          ]
        },
        {
          "name": "stdout",
          "output_type": "stream",
          "text": [
            "[1] \"PRAUC:0.9\"\n"
          ]
        },
        {
          "name": "stderr",
          "output_type": "stream",
          "text": [
            "Type 'citation(\"pROC\")' for a citation.\n",
            "\n",
            "\n",
            "Attaching package: 'pROC'\n",
            "\n",
            "\n",
            "The following objects are masked from 'package:stats':\n",
            "\n",
            "    cov, smooth, var\n",
            "\n",
            "\n",
            "Setting levels: control = transit, case = stable\n",
            "\n",
            "Setting direction: controls > cases\n",
            "\n"
          ]
        },
        {
          "name": "stdout",
          "output_type": "stream",
          "text": [
            "[1] \"AUROC:0.96\"\n"
          ]
        },
        {
          "data": {
            "text/html": [
              "<strong>null device:</strong> 1"
            ],
            "text/latex": [
              "\\textbf{null device:} 1"
            ],
            "text/markdown": [
              "**null device:** 1"
            ],
            "text/plain": [
              "null device \n",
              "          1 "
            ]
          },
          "metadata": {},
          "output_type": "display_data"
        },
        {
          "data": {
            "image/png": "[encoded data removed]",
            "text/plain": [
              "Plot with title \"Transition index distribution\""
            ]
          },
          "metadata": {
            "image/png": {
              "height": 420,
              "width": 420
            }
          },
          "output_type": "display_data"
        }
      ],
      "source": [
        "# 6. 评估指标（AUROC, PRAUC）\n",
        "install.packages('yardstick')\n",
        "install.packages('pROC')\n",
        "library(yardstick)\n",
        "data$state <- factor(data$state, levels = c('transit', 'stable'))\n",
        "print(paste0('PRAUC:', round(pr_auc_vec(data$state, data$transition_index), 2)))\n",
        "library(pROC)\n",
        "print(paste0('AUROC:', round(roc(data$state, data$transition_index)$auc, 2)))\n",
        "\n",
        "plot(density(data$transition_index), main = \"Transition index distribution\")\n",
        "dev.off()"
      ]
    },
    {
      "cell_type": "code",
      "execution_count": null,
      "metadata": {
        "colab": {
          "base_uri": "https://localhost:8080/",
          "height": 454
        },
        "id": "vA3Qhj9gNIHr",
        "outputId": "babd5579-f483-4e46-c694-a04301c861a0",
        "vscode": {
          "languageId": "r"
        }
      },
      "outputs": [
        {
          "data": {
            "text/html": [
              "<strong>null device:</strong> 1"
            ],
            "text/latex": [
              "\\textbf{null device:} 1"
            ],
            "text/markdown": [
              "**null device:** 1"
            ],
            "text/plain": [
              "null device \n",
              "          1 "
            ]
          },
          "metadata": {},
          "output_type": "display_data"
        },
        {
          "data": {
            "image/png": "[encoded data removed]",
            "text/plain": [
              "Plot with title \"Transition index distribution\""
            ]
          },
          "metadata": {
            "image/png": {
              "height": 420,
              "width": 420
            }
          },
          "output_type": "display_data"
        }
      ],
      "source": [
        "plot(density(data$transition_index),main=\"Transition index distribution\")\n",
        "dev.off()"
      ]
    },
    {
      "cell_type": "code",
      "execution_count": null,
      "metadata": {
        "colab": {
          "base_uri": "https://localhost:8080/"
        },
        "collapsed": true,
        "id": "uxGZ4pQ7KrkC",
        "outputId": "c9ddccce-1c54-428f-c279-7011f25467b0",
        "vscode": {
          "languageId": "r"
        }
      },
      "outputs": [
        {
          "name": "stdout",
          "output_type": "stream",
          "text": [
            "package 'mclust' successfully unpacked and MD5 sums checked\n",
            "\n",
            "The downloaded binary packages are in\n",
            "\tC:\\Users\\yingj\\AppData\\Local\\Temp\\Rtmp8KXMua\\downloaded_packages\n"
          ]
        },
        {
          "name": "stderr",
          "output_type": "stream",
          "text": [
            "Package 'mclust' version 6.1.1\n",
            "Type 'citation(\"mclust\")' for citing this R package in publications.\n",
            "\n"
          ]
        }
      ],
      "source": [
        "# Separating cells into transiton cells and stable cells using GMM (Gaussian\n",
        "# Mixture Model)\n",
        "install.packages('mclust')\n",
        "library(mclust)\n",
        "fit<-Mclust(data$transition_index,G=2)\n",
        "transition_cells<-colnames(data)[fit$classification==2 & fit$z[,2]>0.8]"
      ]
    },
    {
      "cell_type": "code",
      "execution_count": null,
      "metadata": {
        "colab": {
          "base_uri": "https://localhost:8080/",
          "height": 437
        },
        "id": "sLEb-4F6LAVW",
        "outputId": "79e0b176-e0a1-4fce-cc8e-5b83a4dc647f",
        "vscode": {
          "languageId": "r"
        }
      },
      "outputs": [
        {
          "data": {
            "image/png": "[encoded data removed]",
            "text/plain": [
              "plot without title"
            ]
          },
          "metadata": {
            "image/png": {
              "height": 420,
              "width": 420
            }
          },
          "output_type": "display_data"
        }
      ],
      "source": [
        "# UMAP highlighted transition cells inferred by our method\n",
        "DimPlot(data,cells.highlight = list('transition_cells'=transition_cells))"
      ]
    }
  ],
  "metadata": {
    "colab": {
      "provenance": []
    },
    "kernelspec": {
      "display_name": "R",
      "language": "R",
      "name": "ir"
    },
    "language_info": {
      "codemirror_mode": "r",
      "file_extension": ".r",
      "mimetype": "text/x-r-source",
      "name": "R",
      "pygments_lexer": "r",
      "version": "4.4.0"
    }
  },
  "nbformat": 4,
  "nbformat_minor": 0
}
