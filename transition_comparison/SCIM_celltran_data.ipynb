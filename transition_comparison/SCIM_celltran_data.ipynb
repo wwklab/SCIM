{
 "cells": [
  {
   "cell_type": "code",
   "execution_count": 9,
   "metadata": {},
   "outputs": [],
   "source": [
    "import scanpy as sc\n",
    "import matplotlib.pyplot as plt\n",
    "import scvelo as scv\n",
    "import numpy as np"
   ]
  },
  {
   "cell_type": "code",
   "execution_count": 42,
   "metadata": {},
   "outputs": [],
   "source": [
    "data_name = 'celltran_data'\n",
    "# data_name = ''\n",
    "[k_nei, K, L] = [15, 3, 10]\n",
    "result_path = 'main_results/'+data_name+' '+str([k_nei,K,L])+'/'\n",
    "figure_path = result_path\n",
    "cmap = plt.colormaps['Spectral']\n",
    "\n",
    "adata0 = sc.read_h5ad('data/'+data_name+'.h5ad')\n",
    "adata = adata0.copy()"
   ]
  },
  {
   "cell_type": "code",
   "execution_count": 43,
   "metadata": {},
   "outputs": [],
   "source": [
    "import os\n",
    "\n",
    "folder = os.path.exists(result_path)\n",
    "if not folder:                   #判断是否存在文件夹如果不存在则创建为文件夹\n",
    "    os.makedirs(result_path)            #makedirs 创建文件时如果路径不存在会创建这个路径"
   ]
  },
  {
   "cell_type": "code",
   "execution_count": 44,
   "metadata": {},
   "outputs": [
    {
     "data": {
      "text/plain": [
       "AnnData object with n_obs × n_vars = 4500 × 100\n",
       "    obs: 'orig.ident', 'nCount_RNA', 'nFeature_RNA', 'bin', 'state', 'RNA_snn_res.0.5', 'seurat_clusters'\n",
       "    var: 'features'\n",
       "    uns: 'neighbors'\n",
       "    obsm: 'X_pca', 'X_umap'\n",
       "    varm: 'PCs'\n",
       "    obsp: 'distances'"
      ]
     },
     "execution_count": 44,
     "metadata": {},
     "output_type": "execute_result"
    }
   ],
   "source": [
    "adata"
   ]
  },
  {
   "cell_type": "markdown",
   "metadata": {},
   "source": [
    "## **Data Visualization** "
   ]
  },
  {
   "cell_type": "code",
   "execution_count": 45,
   "metadata": {},
   "outputs": [],
   "source": [
    "# cmap = plt.colormaps['Spectral']\n",
    "# fig = sc.pl.embedding(\n",
    "#     adata,\n",
    "#     color=['crc', \"Cell_type\"],\n",
    "#     basis=\"umap\",\n",
    "#     color_map=cmap,\n",
    "#     return_fig=True\n",
    "# )\n",
    "# fig.savefig(result_path+'output_umap.png')"
   ]
  },
  {
   "cell_type": "markdown",
   "metadata": {},
   "source": [
    "## **Preprocessing**"
   ]
  },
  {
   "cell_type": "code",
   "execution_count": 46,
   "metadata": {},
   "outputs": [],
   "source": [
    "from scipy.sparse import csr_matrix\n",
    "\n",
    "sc.pp.neighbors(adata,metric = 'cosine',n_neighbors=k_nei, use_rep='X')\n",
    "\n",
    "\n",
    "gene_arr = adata.var.index.values\n",
    "X_pca = adata.obsm['X_pca']\n",
    "X_umap = adata.obsm['X_umap']\n",
    "\n",
    "X = adata.X\n",
    "\n",
    "row = np.array([np.ones((k_nei+1,))*i for i in range(adata.shape[0])]).flatten()\n",
    "col = (adata.obsp['distances']+csr_matrix(np.eye(adata.obsp['distances'].shape[0]))).indices\n",
    "w_val = np.array([np.linalg.norm(X_pca[int(i),:]-X_pca[int(j),:]) for i,j in zip(row,col)])\n",
    "adj_val = np.ones(col.shape)\n",
    "A_mat = csr_matrix((adj_val, (row, col)), shape=(adata.shape[0], adata.shape[0]))\n",
    "W_mat = csr_matrix((w_val, (row, col)), shape=(adata.shape[0], adata.shape[0]))\n",
    "\n",
    "dc = np.amax(adata.obsp['distances'])\n",
    "cell_nei = adata.obsp['distances'].indices.reshape([-1, k_nei+1])\n",
    "nei_w = []\n",
    "rho_arr = []\n",
    "\n",
    "for i in range(cell_nei.shape[0]):\n",
    "    dij = np.array([np.linalg.norm(X_pca[i,:] - X_pca[int(j),:]) for j in cell_nei[i]])\n",
    "    \n",
    "    # 计算未归一化的权重\n",
    "    exp_weights = np.exp(-dij**2 / dc**2)\n",
    "    rho = np.sum(exp_weights)\n",
    "    \n",
    "    # 处理rho接近0的情况（防止NaN）\n",
    "    if rho < 1e-10:  # 如果权重总和太小\n",
    "        nei_w.append(np.ones_like(dij) / len(dij))  # 均匀分布\n",
    "    else:\n",
    "        nei_w.append(exp_weights / rho)  # 正常归一化\n",
    "    \n",
    "    rho_arr.append(rho)\n",
    "\n",
    "rho_arr = np.array(rho_arr) / np.amax(rho_arr)  # 归一化rho\n",
    "nei_w = np.array(nei_w)"
   ]
  },
  {
   "cell_type": "code",
   "execution_count": 47,
   "metadata": {},
   "outputs": [],
   "source": [
    "def smooth_func(X_val,cell_nei=cell_nei,nei_w=nei_w):\n",
    "    X_s=X_val.copy()\n",
    "    for ci in range(len(X_val)):\n",
    "        X_s[ci]=np.dot(X_val[cell_nei[ci,:]],nei_w[ci,:])\n",
    "    return(X_s)\n",
    "\n",
    "def wasserstein_distance(mu1,sigma1,mu2,sigma2):\n",
    "    dim=len(mu1)\n",
    "    dmu=mu1-mu2\n",
    "    W_dist2=0\n",
    "    for i in range(dim):\n",
    "        W_dist2+=dmu[i]**2+sigma1[i]**2+sigma2[i]**2-2*np.sqrt(sigma2[i]*sigma1[i]**2*sigma2[i])\n",
    "    W_dist=np.sqrt(W_dist2+1e-12)\n",
    "    return W_dist"
   ]
  },
  {
   "cell_type": "code",
   "execution_count": 48,
   "metadata": {},
   "outputs": [],
   "source": [
    "X_plt = X_umap[:,0]\n",
    "Y_plt = X_umap[:,1]\n",
    "X_min = np.min(X_plt)\n",
    "X_max = np.max(X_plt)\n",
    "Y_min = np.min(Y_plt)\n",
    "Y_max = np.max(Y_plt)\n",
    "X_len = (X_max-X_min)/5\n",
    "Y_len = (Y_max-Y_min)/5\n",
    "wid = min(X_len,Y_len)/30\n",
    "X_ori = X_min\n",
    "Y_ori = Y_min"
   ]
  },
  {
   "cell_type": "markdown",
   "metadata": {},
   "source": [
    "## **CRC**"
   ]
  },
  {
   "cell_type": "code",
   "execution_count": 49,
   "metadata": {},
   "outputs": [],
   "source": [
    "from utils import *\n",
    "from g2g_model_Fisher import *"
   ]
  },
  {
   "cell_type": "code",
   "execution_count": 50,
   "metadata": {},
   "outputs": [],
   "source": [
    "epochs = 400\n",
    "nsamples = 5\n",
    "learning_rate = 1e-3\n",
    "seed = 0\n",
    "# n_workers = 4\n",
    "\n",
    "if seed is not None:\n",
    "    reset_seeds(seed)\n",
    "\n",
    "A = A_mat\n",
    "A = A.astype(np.float32)\n",
    "X = X_pca.astype(np.float32)\n",
    "z = np.zeros(adata.n_obs)\n",
    "\n",
    "n = A.shape[0]\n",
    "train_nodes, val_nodes = train_test_split(n, train_ratio=1.0)\n",
    "A_train = A[train_nodes, :][:, train_nodes]\n",
    "X_train = X[train_nodes]\n",
    "z_train = z[train_nodes]\n",
    "A_val = A[val_nodes, :][:, val_nodes]\n",
    "X_val = X[val_nodes]\n",
    "z_val = z[val_nodes]\n",
    "\n",
    "train_data = AttributedGraph(A_train, X_train, z_train, K)\n",
    "val_data = AttributedGraph(A_val, X_val, z_val, K)\n",
    "\n",
    "encoder = Encoder(X.shape[1], L)"
   ]
  },
  {
   "cell_type": "code",
   "execution_count": 51,
   "metadata": {},
   "outputs": [],
   "source": [
    "optimizer = optim.Adam(encoder.parameters(), lr=learning_rate)\n",
    "\n",
    "iterations = epochs #// n_workers\n",
    "dataset = GraphDataset(train_data, nsamples, iterations)\n",
    "loader = DataLoader(\n",
    "    dataset,\n",
    "    batch_size=1,\n",
    "#     num_workers=n_workers,\n",
    "    worker_init_fn=reset_seeds,\n",
    "    collate_fn=lambda args: args,\n",
    ")"
   ]
  },
  {
   "cell_type": "code",
   "execution_count": 52,
   "metadata": {},
   "outputs": [
    {
     "name": "stdout",
     "output_type": "stream",
     "text": [
      "0 tensor(5.0923e+09, grad_fn=<DivBackward0>)\n",
      "10 tensor(2.0343e+09, grad_fn=<DivBackward0>)\n",
      "20 tensor(1.8767e+09, grad_fn=<DivBackward0>)\n",
      "30 tensor(1.8489e+09, grad_fn=<DivBackward0>)\n",
      "40 tensor(1.8106e+09, grad_fn=<DivBackward0>)\n",
      "50 tensor(1.7524e+09, grad_fn=<DivBackward0>)\n",
      "60 tensor(1.7778e+09, grad_fn=<DivBackward0>)\n",
      "70 tensor(1.7439e+09, grad_fn=<DivBackward0>)\n",
      "80 tensor(1.7601e+09, grad_fn=<DivBackward0>)\n",
      "90 tensor(1.7494e+09, grad_fn=<DivBackward0>)\n",
      "100 tensor(1.7672e+09, grad_fn=<DivBackward0>)\n",
      "110 tensor(1.7650e+09, grad_fn=<DivBackward0>)\n",
      "120 tensor(1.7279e+09, grad_fn=<DivBackward0>)\n",
      "130 tensor(1.7106e+09, grad_fn=<DivBackward0>)\n",
      "140 tensor(1.7559e+09, grad_fn=<DivBackward0>)\n",
      "150 tensor(1.7695e+09, grad_fn=<DivBackward0>)\n",
      "160 tensor(1.7331e+09, grad_fn=<DivBackward0>)\n",
      "170 tensor(1.7667e+09, grad_fn=<DivBackward0>)\n",
      "180 tensor(1.7471e+09, grad_fn=<DivBackward0>)\n",
      "190 tensor(1.7495e+09, grad_fn=<DivBackward0>)\n",
      "200 tensor(1.7303e+09, grad_fn=<DivBackward0>)\n",
      "210 tensor(1.7490e+09, grad_fn=<DivBackward0>)\n",
      "220 tensor(1.7102e+09, grad_fn=<DivBackward0>)\n",
      "230 tensor(1.7055e+09, grad_fn=<DivBackward0>)\n",
      "240 tensor(1.7358e+09, grad_fn=<DivBackward0>)\n",
      "250 tensor(1.7350e+09, grad_fn=<DivBackward0>)\n",
      "260 tensor(1.7150e+09, grad_fn=<DivBackward0>)\n",
      "270 tensor(1.7422e+09, grad_fn=<DivBackward0>)\n",
      "280 tensor(1.7405e+09, grad_fn=<DivBackward0>)\n",
      "290 tensor(1.7057e+09, grad_fn=<DivBackward0>)\n",
      "300 tensor(1.7157e+09, grad_fn=<DivBackward0>)\n",
      "310 tensor(1.7033e+09, grad_fn=<DivBackward0>)\n",
      "320 tensor(1.6998e+09, grad_fn=<DivBackward0>)\n",
      "330 tensor(1.7229e+09, grad_fn=<DivBackward0>)\n",
      "340 tensor(1.6766e+09, grad_fn=<DivBackward0>)\n",
      "350 tensor(1.7150e+09, grad_fn=<DivBackward0>)\n",
      "360 tensor(1.7144e+09, grad_fn=<DivBackward0>)\n",
      "370 tensor(1.7565e+09, grad_fn=<DivBackward0>)\n",
      "380 tensor(1.7046e+09, grad_fn=<DivBackward0>)\n",
      "390 tensor(1.7547e+09, grad_fn=<DivBackward0>)\n"
     ]
    }
   ],
   "source": [
    "for batch_idx, data in enumerate(loader):\n",
    "    encoder.train()\n",
    "    optimizer.zero_grad()\n",
    "\n",
    "    # compute weighted loss\n",
    "    _ ,i,j,k,w,nsamples = data[0][0],data[0][1],data[0][2],data[0][3],data[0][4],data[0][5]\n",
    "\n",
    "    mu, sigma = encoder.forward(data[0][0])\n",
    "\n",
    "    mu_i = gather_rows(mu, i)\n",
    "    sigma_i = gather_rows(sigma, i)\n",
    "    mu_j = gather_rows(mu, j)\n",
    "    sigma_j = gather_rows(sigma, j)\n",
    "    mu_k = gather_rows(mu, k)\n",
    "    sigma_k = gather_rows(sigma, k)\n",
    "\n",
    "    diff_ij = mu_i - mu_j\n",
    "    ss_ij = sigma_i + sigma_j\n",
    "    ds_ij = sigma_i - sigma_j\n",
    "    \n",
    "    closer = 2*((torch.log (\n",
    "        \n",
    "        (torch.sqrt(0.5*diff_ij**2+ss_ij**2+1e-10)+torch.sqrt(0.5*diff_ij**2+ds_ij**2+1e-10)+1e-10)/\\\n",
    "        torch.abs((torch.sqrt(0.5*diff_ij**2+ss_ij**2+1e-10)-torch.sqrt(0.5*diff_ij**2+ds_ij**2+1e-10)+1e-10)\n",
    "        +1e-10)\n",
    "            ))**2).sum(axis=-1)\n",
    "\n",
    "    diff_ik = mu_i - mu_k\n",
    "    ss_ik = sigma_i + sigma_k\n",
    "    ds_ik = sigma_i - sigma_k\n",
    "    \n",
    "    apart = 2*((torch.log (\n",
    "        \n",
    "        (torch.sqrt(0.5*diff_ik**2+ss_ik**2+1e-10)+torch.sqrt(0.5*diff_ik**2+ds_ik**2+1e-10)+1e-10)/\\\n",
    "        torch.abs((torch.sqrt(0.5*diff_ik**2+ss_ik**2+1e-10)-torch.sqrt(0.5*diff_ik**2+ds_ik**2+1e-10)+1e-10)\n",
    "        +1e-10)\n",
    "            ))**2).sum(axis=-1)\n",
    "\n",
    "    # E = closer*weight[i,j] + torch.exp(-torch.sqrt(apart))*weight[i,k] \n",
    "    E = closer + torch.exp(-torch.sqrt(apart)) \n",
    "\n",
    "    loss = E.dot(w) / nsamples\n",
    "    if batch_idx% 10 == 0:\n",
    "        print(batch_idx,loss)\n",
    "    loss.backward()\n",
    "    optimizer.step()\n",
    "\n",
    "torch.save(encoder,result_path+'encoder.pt')"
   ]
  },
  {
   "cell_type": "code",
   "execution_count": 53,
   "metadata": {},
   "outputs": [],
   "source": [
    "encoder = torch.load(result_path+'encoder.pt', weights_only=False)\n",
    "\n",
    "mu, sigma = encoder(torch.tensor(X))\n",
    "mu_learned = mu.detach().numpy()\n",
    "sigma_learned = sigma.detach().numpy()\n",
    "\n",
    "Fisher_g=np.zeros((X.shape[0],L*2,L*2))\n",
    "for i in range(X.shape[0]):\n",
    "    for j in range(L):\n",
    "        Fisher_g[i,j,j]=1/sigma_learned[i,j]**2\n",
    "        Fisher_g[i,L+j,L+j]=2/sigma_learned[i,j]**2\n",
    "\n",
    "Fisher_g_diag = np.zeros([X.shape[0],L*2])\n",
    "for i in range(X.shape[0]):\n",
    "    Fisher_g_diag[i] = np.diag(Fisher_g[i])"
   ]
  },
  {
   "cell_type": "code",
   "execution_count": 54,
   "metadata": {},
   "outputs": [],
   "source": [
    "cRc_arr=[]\n",
    "cRc_arr_eu=[]\n",
    "A = A_mat\n",
    "A = csr_matrix(A + np.eye(A.shape[0]))\n",
    "for inds in np.split(A.indices, A.indptr)[1:-1]:\n",
    "    self_ind=inds[0]\n",
    "    cRc=0\n",
    "    cRc_eu=0\n",
    "    for nei_k in range(1,len(inds)):\n",
    "\n",
    "        dEu=np.linalg.norm(X[self_ind,:]-X[inds[nei_k],:])\n",
    "        dFi=Fisher_dist(mu_learned[self_ind,:],sigma_learned[self_ind,:],\\\n",
    "                        mu_learned[inds[nei_k],:],sigma_learned[inds[nei_k],:])\n",
    "        dWa=wasserstein_distance(mu_learned[self_ind,:],sigma_learned[self_ind,:],\\\n",
    "                        mu_learned[inds[nei_k],:],sigma_learned[inds[nei_k],:])\n",
    "\n",
    "        cRc+=1-dWa/dFi\n",
    "        cRc_eu+=1-dWa/dEu\n",
    "\n",
    "    cRc_arr.append(cRc/len(inds))\n",
    "    cRc_arr_eu.append(cRc_eu/len(inds))\n",
    "crc = np.array(cRc_arr)\n",
    "crc_eu = np.array(cRc_arr_eu)\n",
    "crc_smooth = smooth_func(crc_eu)"
   ]
  },
  {
   "cell_type": "code",
   "execution_count": 59,
   "metadata": {},
   "outputs": [],
   "source": [
    "X_umap = adata.obsm['X_umap']\n",
    "X_plt = X_umap[:,0]\n",
    "Y_plt = X_umap[:,1]\n",
    "X_min = np.min(X_plt)\n",
    "X_max = np.max(X_plt)\n",
    "Y_min = np.min(Y_plt)\n",
    "Y_max = np.max(Y_plt)\n",
    "X_len = (X_max-X_min)/5\n",
    "Y_len = (Y_max-Y_min)/5\n",
    "wid = min(X_len,Y_len)/30\n",
    "X_ori = X_min\n",
    "Y_ori = Y_min"
   ]
  },
  {
   "cell_type": "code",
   "execution_count": 61,
   "metadata": {},
   "outputs": [
    {
     "data": {
      "image/png": "[encoded data removed]",
      "text/plain": [
       "<Figure size 640x480 with 2 Axes>"
      ]
     },
     "metadata": {},
     "output_type": "display_data"
    }
   ],
   "source": [
    "cmap = plt.colormaps['Spectral']\n",
    "plt.scatter(X_umap[:,0], X_umap[:,1], c=crc_smooth, cmap = cmap)\n",
    "    \n",
    "plt.axis('equal')\n",
    "plt.axis('off')\n",
    "plt.grid(False)\n",
    "plt.legend(loc=[1.01,0])\n",
    "clb=plt.colorbar()\n",
    "clb.ax.set_ylabel('curvature',fontsize=20,weight='bold')\n",
    "clb.ax.tick_params(axis='y', labelsize=15)\n",
    "plt.arrow(X_ori-wid/2,Y_ori,X_len,0,width=wid,color='black',head_width=5*wid)\n",
    "plt.arrow(X_ori,Y_ori-wid/2,0,Y_len,width=wid,color='black',head_width=5*wid)\n",
    "plt.text(X_ori+X_len/2,Y_ori-wid*14,'$UMAP_1$',fontsize=14,ha='center',weight='bold')\n",
    "plt.text(X_ori-wid*21,Y_ori+Y_len/2,'$UMAP_2$',fontsize=14,ha='center',weight='bold')\n",
    "\n",
    "plt.savefig(result_path+'crc_smooth')\n",
    "plt.show()"
   ]
  },
  {
   "cell_type": "code",
   "execution_count": 63,
   "metadata": {},
   "outputs": [],
   "source": [
    "np.save(result_path+'/crc_smooth', crc_smooth)"
   ]
  },
  {
   "cell_type": "code",
   "execution_count": 64,
   "metadata": {},
   "outputs": [
    {
     "data": {
      "text/plain": [
       "AnnData object with n_obs × n_vars = 4500 × 100\n",
       "    obs: 'orig.ident', 'nCount_RNA', 'nFeature_RNA', 'bin', 'state', 'RNA_snn_res.0.5', 'seurat_clusters'\n",
       "    var: 'features'\n",
       "    uns: 'neighbors'\n",
       "    obsm: 'X_pca', 'X_umap'\n",
       "    varm: 'PCs'\n",
       "    obsp: 'distances', 'connectivities'"
      ]
     },
     "execution_count": 64,
     "metadata": {},
     "output_type": "execute_result"
    }
   ],
   "source": [
    "adata"
   ]
  },
  {
   "cell_type": "markdown",
   "metadata": {},
   "source": [
    "## "
   ]
  }
 ],
 "metadata": {
  "kernelspec": {
   "display_name": "CPT2025",
   "language": "python",
   "name": "python3"
  },
  "language_info": {
   "codemirror_mode": {
    "name": "ipython",
    "version": 3
   },
   "file_extension": ".py",
   "mimetype": "text/x-python",
   "name": "python",
   "nbconvert_exporter": "python",
   "pygments_lexer": "ipython3",
   "version": "3.9.23"
  }
 },
 "nbformat": 4,
 "nbformat_minor": 2
}
