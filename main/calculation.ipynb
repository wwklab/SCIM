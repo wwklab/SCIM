{
 "cells": [
  {
   "cell_type": "code",
   "execution_count": null,
   "id": "f24cbab6-6210-4340-8084-49a0510d8c10",
   "metadata": {},
   "outputs": [],
   "source": [
    "import scvelo as scv\n",
    "import dynamo as dyn\n",
    "import numpy as np\n",
    "from anndata import AnnData\n",
    "from matplotlib import pyplot as plt\n",
    "from sklearn.preprocessing import StandardScaler,MinMaxScaler\n",
    "from scipy.cluster.hierarchy import fcluster,leaders\n",
    "from sklearn.decomposition import PCA\n",
    "from scipy.linalg import inv\n",
    "from scipy.cluster.hierarchy import dendrogram, linkage\n",
    "from sklearn.mixture import GaussianMixture\n",
    "from scipy.stats import multivariate_normal\n",
    "from scipy.sparse import csr_matrix,issparse\n",
    "import pandas as pd\n",
    "import seaborn as sns\n",
    "\n",
    "import argparse\n",
    "import random\n",
    "\n",
    "import scipy.sparse as sp\n",
    "import scipy.sparse.csgraph\n",
    "import sklearn.linear_model as sklm\n",
    "import sklearn.metrics as skm\n",
    "import sklearn.model_selection as skms\n",
    "import torch\n",
    "import torch.nn as nn\n",
    "import torch.nn.functional as F\n",
    "import torch.optim as optim\n",
    "from torch.utils.data import DataLoader, IterableDataset, get_worker_info\n",
    "\n",
    "CHECKPOINT_PREFIX = \"g2g\"\n",
    "\n",
    "import sys\n",
    "sys.path.append('..')\n",
    "\n",
    "method = ''\n",
    "from utils.g2g_model_Fisher import *\n",
    "from utils.utils import *\n",
    "from utils.RKHS import *"
   ]
  },
  {
   "cell_type": "code",
   "execution_count": null,
   "id": "4172262e-aac9-4147-9b3e-adf25dcc9db1",
   "metadata": {},
   "outputs": [],
   "source": [
    "print(torch.__version__)\n",
    "print(torch.version.cuda)\n",
    "print(torch.cuda.is_available())\n",
    "print(torch.cuda.device_count())\n",
    "print(torch.cuda.current_device())"
   ]
  },
  {
   "cell_type": "code",
   "execution_count": null,
   "id": "19ccc8d2-0342-4e00-b7c7-958822848013",
   "metadata": {},
   "outputs": [],
   "source": [
    "data_path = 'data/'\n",
    "\n",
    "# choose the dataset\n",
    "data_name = 'DG_bin'\n",
    "# data_name = 'A549_emt_bin'\n",
    "# data_name = 'EG_bin'\n",
    "# data_name = 'DG_DUBstepR'\n",
    "# data_name = 'EG_branch'\n",
    "\n",
    "adata0 = scv.read(data_path+data_name+'.h5ad', cache=True)\n",
    "\n",
    "# set the parameters\n",
    "[k_nei, K, L] = [10, 2, 10]\n",
    "# metric = 'minkowski'\n",
    "metric = 'euclidean'\n",
    "# metric = 'cosine'\n",
    "# metric = 'correlation'\n",
    "norm = 'none'\n",
    "# norm = 'standard'\n",
    "# norm = 'minmax'\n",
    "\n",
    "result_path = 'results/'+data_name+','+norm+','+metric+','+method+','+str([k_nei,K,L])+'/'\n",
    "figure_path = 'figures/'\n",
    "cmap = plt.colormaps['Spectral_r']"
   ]
  },
  {
   "cell_type": "code",
   "execution_count": null,
   "id": "dc2673f4-f930-461d-85dd-5d7db2be6365",
   "metadata": {},
   "outputs": [],
   "source": [
    "import os\n",
    "\n",
    "folder = os.path.exists(result_path)\n",
    "if not folder:                   #判断是否存在文件夹如果不存在则创建为文件夹\n",
    "    os.makedirs(result_path)            #makedirs 创建文件时如果路径不存在会创建这个路径"
   ]
  },
  {
   "cell_type": "code",
   "execution_count": null,
   "id": "ffdb6ba3-62d5-4b6a-b16e-c76470985a1a",
   "metadata": {},
   "outputs": [],
   "source": [
    "#-------data preprocessing\n",
    "adata = adata0.copy()\n",
    "scv.pp.neighbors(adata, n_neighbors=k_nei, metric=metric)\n",
    "scv.pp.pca(adata,n_comps=50)\n",
    "scv.pp.moments(adata, n_pcs=50, n_neighbors=k_nei)"
   ]
  },
  {
   "cell_type": "code",
   "execution_count": null,
   "id": "7226857b-0e49-4519-b6a1-03dc100c02c7",
   "metadata": {},
   "outputs": [],
   "source": [
    "gene_arr = adata.var.index.values\n",
    "X_pca = adata.obsm['X_pca']\n",
    "X_umap = adata.obsm['X_umap']\n",
    "cell_ppt = adata.obs['palantir_pseudotime'].values\n",
    "\n",
    "Xs = adata.layers['Ms']\n",
    "X = Xs"
   ]
  },
  {
   "cell_type": "code",
   "execution_count": null,
   "id": "4ed89e82-7b93-41b2-919f-546ec983e50d",
   "metadata": {},
   "outputs": [],
   "source": [
    "row = np.array([np.ones((k_nei,))*i for i in range(adata.shape[0])]).flatten()\n",
    "col = adata.uns['neighbors']['indices'].flatten()\n",
    "w_val = np.array([np.linalg.norm(X_pca[int(i),:]-X_pca[int(j),:]) for i,j in zip(row,col)])\n",
    "adj_val = np.ones(col.shape)\n",
    "A_mat = csr_matrix((adj_val, (row, col)), shape=(adata.shape[0], adata.shape[0]))\n",
    "W_mat = csr_matrix((w_val, (row, col)), shape=(adata.shape[0], adata.shape[0]))"
   ]
  },
  {
   "cell_type": "code",
   "execution_count": null,
   "id": "c70b83a2-f232-4a96-8047-011beec082a8",
   "metadata": {},
   "outputs": [],
   "source": [
    "dc=np.mean(w_val)\n",
    "\n",
    "cell_nei=adata.uns['neighbors']['indices']\n",
    "nei_w=[]\n",
    "rho_arr=[]\n",
    "for ni in adata.uns['neighbors']['indices']:\n",
    "    dij=np.array([np.linalg.norm(X_pca[int(ni[0]),:]-X_pca[int(i),:]) for i in ni[1:]])\n",
    "    \n",
    "    rho=np.sum(np.exp(-dij**2/dc**2))\n",
    "#     rho=np.exp(np.sum(-dij**2/dc**2))\n",
    "    nei_w.append(np.exp(-dij**2/dc**2)/np.sum(np.exp(-dij**2/dc**2)))\n",
    "#     print(dij)\n",
    "#     print(np.exp(-dij**2/dc**2)/np.sum(np.exp(-dij**2/dc**2)))\n",
    "    rho_arr.append(rho)\n",
    "rho_arr=np.array(rho_arr)/np.amax(rho_arr)\n",
    "nei_w=np.array(nei_w)\n",
    "nei_w=np.hstack((np.ones((nei_w.shape[0],1)),nei_w))/2\n",
    "\n",
    "# plt.scatter(X_pca[:,0],X_pca[:,1],s=5,c=rho_arr,cmap=plt.cm.jet)\n",
    "# plt.colorbar()\n",
    "# plt.show()\n",
    "\n",
    "def smooth_func(X_val,cell_nei=cell_nei,nei_w=nei_w):\n",
    "    X_s=X_val.copy()\n",
    "    for ci in range(len(X_val)):\n",
    "        X_s[ci]=np.dot(X_val[cell_nei[ci,:]],nei_w[ci,:])\n",
    "    return X_s"
   ]
  },
  {
   "cell_type": "code",
   "execution_count": null,
   "id": "8c482b50-bee8-4847-a5e0-84f7ed04f437",
   "metadata": {},
   "outputs": [],
   "source": [
    "np.save(result_path+'cell_nei',cell_nei)\n",
    "np.save(result_path+'nei_w',nei_w)"
   ]
  },
  {
   "cell_type": "code",
   "execution_count": null,
   "id": "788c2f4d-c0a9-4d4c-9938-fa3e44fbdbd4",
   "metadata": {},
   "outputs": [],
   "source": [
    "# define the parameters of training\n",
    "epochs = 200\n",
    "nsamples = 5\n",
    "learning_rate = 1e-3\n",
    "seed = 0\n",
    "# n_workers = 4\n",
    "\n",
    "if seed is not None:\n",
    "    reset_seeds(seed)\n",
    "\n",
    "# prepare the data for training\n",
    "A = A_mat\n",
    "z = cell_ppt\n",
    "\n",
    "n = A.shape[0]\n",
    "train_nodes, val_nodes = train_test_split(n, train_ratio=1.0)\n",
    "A_train = A[train_nodes, :][:, train_nodes]\n",
    "X_train = X[train_nodes]\n",
    "z_train = z[train_nodes]\n",
    "A_val = A[val_nodes, :][:, val_nodes]\n",
    "X_val = X[val_nodes]\n",
    "z_val = z[val_nodes]\n",
    "\n",
    "train_data = AttributedGraph(A_train, X_train, z_train, K)\n",
    "val_data = AttributedGraph(A_val, X_val, z_val, K)"
   ]
  },
  {
   "cell_type": "code",
   "execution_count": null,
   "id": "0366c8ac-3435-4a7c-8ee0-83370cdd2fa7",
   "metadata": {},
   "outputs": [],
   "source": [
    "# initialize the encoder\n",
    "encoder = Encoder(X.shape[1], L)\n",
    "optimizer = optim.Adam(encoder.parameters(), lr=learning_rate)\n",
    "\n",
    "iterations = epochs #// n_workers\n",
    "dataset = GraphDataset(train_data, nsamples, iterations)\n",
    "loader = DataLoader(\n",
    "    dataset,\n",
    "    batch_size=1,\n",
    "#     num_workers=n_workers,\n",
    "    worker_init_fn=reset_seeds,\n",
    "    collate_fn=lambda args: args,\n",
    ")"
   ]
  },
  {
   "cell_type": "code",
   "execution_count": null,
   "id": "68a76915-068d-4e46-b8b8-ea5b2dc69db8",
   "metadata": {},
   "outputs": [],
   "source": [
    "# training\n",
    "for batch_idx, data in enumerate(loader):\n",
    "    encoder.train()\n",
    "    optimizer.zero_grad()\n",
    "\n",
    "    loss = encoder.compute_loss(data[0][0],data[0][1],data[0][2],data[0][3],data[0][4],data[0][5])\n",
    "    if batch_idx% 10 == 0:\n",
    "        print(batch_idx,loss)\n",
    "    loss.backward()\n",
    "    optimizer.step()"
   ]
  },
  {
   "cell_type": "code",
   "execution_count": null,
   "id": "650d875d-390f-4825-882c-ece623ba5a1b",
   "metadata": {},
   "outputs": [],
   "source": [
    "torch.save(encoder,result_path+'encoder.pt')"
   ]
  },
  {
   "cell_type": "code",
   "execution_count": null,
   "id": "f0c200b6-376b-4d19-8fe0-2925d6c846e7",
   "metadata": {},
   "outputs": [],
   "source": [
    "mu, sigma = encoder(torch.tensor(X))\n",
    "mu_learned = mu.detach().numpy()\n",
    "sigma_learned = sigma.detach().numpy()\n",
    "\n",
    "Fisher_g=np.zeros((X.shape[0],L*2,L*2))\n",
    "for i in range(X.shape[0]):\n",
    "    for j in range(L):\n",
    "        Fisher_g[i,j,j]=1/sigma_learned[i,j]**2\n",
    "        Fisher_g[i,L+j,L+j]=2/sigma_learned[i,j]**2"
   ]
  },
  {
   "cell_type": "code",
   "execution_count": null,
   "id": "f9461d76-19bd-44a7-82a2-9333c6b31bf5",
   "metadata": {},
   "outputs": [],
   "source": [
    "# calculate curvature\n",
    "cRc_arr_eu=[]\n",
    "\n",
    "for inds in np.split(A.indices, A.indptr)[1:-1]:\n",
    "    self_ind=inds[0]\n",
    "    cRc_eu=0\n",
    "    for nei_k in range(1,len(inds)):\n",
    "        dEu=np.linalg.norm(X[self_ind,:]-X[inds[nei_k],:])\n",
    "        dWa=wasserstein_distance(mu_learned[self_ind,:],sigma_learned[self_ind,:],\\\n",
    "                        mu_learned[inds[nei_k],:],sigma_learned[inds[nei_k],:])\n",
    "        cRc_eu+=1-dWa/dEu\n",
    "    cRc_arr_eu.append(cRc_eu/len(inds))\n",
    "crc_eu = np.array(cRc_arr_eu)\n",
    "crc_smooth = smooth_func(crc_eu)"
   ]
  },
  {
   "cell_type": "code",
   "execution_count": null,
   "id": "35373a98-e8de-466d-819d-e73f0cd8b259",
   "metadata": {},
   "outputs": [],
   "source": [
    "np.save(result_path+'crc_eu',crc_eu)\n",
    "np.save(result_path+'crc_smooth',crc_smooth)"
   ]
  }
 ],
 "metadata": {
  "kernelspec": {
   "display_name": "Python 3 (ipykernel)",
   "language": "python",
   "name": "python3"
  },
  "language_info": {
   "codemirror_mode": {
    "name": "ipython",
    "version": 3
   },
   "file_extension": ".py",
   "mimetype": "text/x-python",
   "name": "python",
   "nbconvert_exporter": "python",
   "pygments_lexer": "ipython3",
   "version": "3.9.7"
  }
 },
 "nbformat": 4,
 "nbformat_minor": 5
}
