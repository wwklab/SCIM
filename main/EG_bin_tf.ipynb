{
 "cells": [
  {
   "cell_type": "code",
   "execution_count": 1,
   "id": "295c65b6-82f4-44c5-a910-e4b3ee2045be",
   "metadata": {},
   "outputs": [],
   "source": [
    "import scvelo as scv\n",
    "import dynamo as dyn\n",
    "import numpy as np\n",
    "from anndata import AnnData\n",
    "# import loompy\n",
    "from matplotlib import pyplot as plt\n",
    "from sklearn.preprocessing import StandardScaler,MinMaxScaler\n",
    "from scipy.cluster.hierarchy import fcluster,leaders\n",
    "from sklearn.decomposition import PCA\n",
    "from scipy.linalg import inv\n",
    "from scipy.cluster.hierarchy import dendrogram, linkage\n",
    "from sklearn.mixture import GaussianMixture\n",
    "from RKHS import SparseVFC\n",
    "from RKHS import Jacobian_rkhs_gaussian\n",
    "from scipy.stats import multivariate_normal\n",
    "from scipy.sparse import csr_matrix,issparse\n",
    "import pandas as pd\n",
    "import seaborn as sns"
   ]
  },
  {
   "cell_type": "code",
   "execution_count": 2,
   "id": "0960e58b-3752-4fac-a6c7-d6fe754acf78",
   "metadata": {},
   "outputs": [],
   "source": [
    "import argparse\n",
    "import random\n",
    "\n",
    "import scipy.sparse as sp\n",
    "import scipy.sparse.csgraph\n",
    "import sklearn.linear_model as sklm\n",
    "import sklearn.metrics as skm\n",
    "import sklearn.model_selection as skms\n",
    "import torch\n",
    "import torch.nn as nn\n",
    "import torch.nn.functional as F\n",
    "import torch.optim as optim\n",
    "from ignite.engine import Engine, Events\n",
    "from ignite.handlers import ModelCheckpoint\n",
    "from torch.utils.data import DataLoader, IterableDataset, get_worker_info\n",
    "\n",
    "CHECKPOINT_PREFIX = \"g2g\"\n",
    "\n",
    "from utils import *\n",
    "# from minepy import MINE\n",
    "from sklearn.preprocessing import MinMaxScaler"
   ]
  },
  {
   "cell_type": "code",
   "execution_count": 3,
   "id": "fe10aa8f-e6c1-4689-9a92-b3dc3023b572",
   "metadata": {},
   "outputs": [
    {
     "name": "stdout",
     "output_type": "stream",
     "text": [
      "2.1.2\n",
      "11.8\n",
      "True\n",
      "1\n",
      "0\n"
     ]
    }
   ],
   "source": [
    "print(torch.__version__)\n",
    "print(torch.version.cuda)\n",
    "print(torch.cuda.is_available())\n",
    "print(torch.cuda.device_count())\n",
    "print(torch.cuda.current_device())"
   ]
  },
  {
   "cell_type": "code",
   "execution_count": 4,
   "id": "77c905c9-0f5a-485f-8864-bc8dff5720d9",
   "metadata": {},
   "outputs": [],
   "source": [
    "method = ''\n",
    "from g2g_model_Fisher import *"
   ]
  },
  {
   "cell_type": "code",
   "execution_count": 5,
   "id": "633447c2-9aba-47ba-a6b9-e67ea29c42f7",
   "metadata": {},
   "outputs": [],
   "source": [
    "data_path = 'data/'\n",
    "data_name = 'EG_bin'\n",
    "adata0 = scv.read(data_path+data_name+'_ppt.h5ad', cache=True)\n",
    "\n",
    "# [k_nei, K] = [10, 4]\n",
    "# L = np.load('results/'+data_name+','+method+'/'+str([k_nei,K])+',latent_dim.npy')\n",
    "[k_nei, K, L] = [10, 2, 10]\n",
    "# metric = 'minkowski'\n",
    "metric = 'euclidean'\n",
    "# metric = 'cosine'\n",
    "# metric = 'correlation'\n",
    "norm = 'none'\n",
    "# norm = 'standard'\n",
    "# norm = 'minmax'\n",
    "\n",
    "result_path = 'results/'+data_name+','+norm+','+metric+','+method+','+str([k_nei,K,L])+'/'\n",
    "figure_path = 'figures/'\n",
    "cmap = plt.colormaps['Spectral_r']"
   ]
  },
  {
   "cell_type": "code",
   "execution_count": 6,
   "id": "94779042-be45-499b-b777-3858db669a49",
   "metadata": {},
   "outputs": [
    {
     "name": "stdout",
     "output_type": "stream",
     "text": [
      "computing neighbors\n",
      "    finished (0:00:02) --> added \n",
      "    'distances' and 'connectivities', weighted adjacency matrices (adata.obsp)\n",
      "computing moments based on connectivities\n",
      "    finished (0:00:00) --> added \n",
      "    'Ms' and 'Mu', moments of un/spliced abundances (adata.layers)\n"
     ]
    }
   ],
   "source": [
    "#-------data preprocessing\n",
    "adata=adata0.copy()\n",
    "scv.pp.neighbors(adata, n_neighbors=k_nei)\n",
    "scv.pp.pca(adata,n_comps=50)\n",
    "scv.pp.moments(adata, n_pcs=50, n_neighbors=k_nei)"
   ]
  },
  {
   "cell_type": "code",
   "execution_count": 7,
   "id": "25d392d4-9944-46e9-ba74-68cb148a1d26",
   "metadata": {},
   "outputs": [],
   "source": [
    "gene_arr = adata.var.index.values\n",
    "X_pca = adata.obsm['X_pca']\n",
    "X_umap = adata.obsm['X_umap']\n",
    "# cell_vpt = adata.obs['velocity_pseudotime'].values#adata0.obs['latent_time'].values#\n",
    "cell_vpt = adata.obs['palantir_pseudotime']\n",
    "Xs = adata.layers['Ms']#adata.X.A#\n",
    "velo0 = np.array(adata.layers['velocity'])\n",
    "velo_g = np.zeros(velo0.shape)\n",
    "velo_g[:,adata.var['velocity_genes']] = velo0[:,adata.var['velocity_genes']]\n",
    "# velo_pca = velo_g@adata.varm['PCs']\n",
    "velo_pca = adata.obsm['velocity_pca']\n",
    "\n",
    "if norm=='standard':\n",
    "    Xs_mean = np.mean(Xs,axis=0)\n",
    "    Xs_std = np.std(Xs,axis=0)\n",
    "    X = (Xs-Xs_mean)/Xs_std\n",
    "    velo = velo_g/Xs_std\n",
    "elif norm=='minmax':\n",
    "    Xs_max = np.max(Xs,axis=0)\n",
    "    Xs_min = np.min(Xs,axis=0)\n",
    "    X = (Xs-Xs_min)/Xs_max\n",
    "    velo = velo_g/Xs_max\n",
    "else:\n",
    "    X = Xs\n",
    "#     velo = velo_g\n",
    "    velo = velo_pca@adata.varm['PCs'].T"
   ]
  },
  {
   "cell_type": "code",
   "execution_count": 8,
   "id": "6ba6a25f-9cfe-4893-bc0e-3b1f52236866",
   "metadata": {},
   "outputs": [],
   "source": [
    "row = np.array([np.ones((k_nei,))*i for i in range(adata.shape[0])]).flatten()\n",
    "col = adata.uns['neighbors']['indices'].flatten()\n",
    "w_val = np.array([np.linalg.norm(X_pca[int(i),:]-X_pca[int(j),:]) for i,j in zip(row,col)])\n",
    "adj_val = np.ones(col.shape)\n",
    "A_mat = csr_matrix((adj_val, (row, col)), shape=(adata.shape[0], adata.shape[0]))\n",
    "W_mat = csr_matrix((w_val, (row, col)), shape=(adata.shape[0], adata.shape[0]))"
   ]
  },
  {
   "cell_type": "code",
   "execution_count": 9,
   "id": "f2d5d51b-e481-49cc-a5fb-e12aebc36d03",
   "metadata": {},
   "outputs": [],
   "source": [
    "cell_nei = np.load(result_path+'cell_nei.npy')\n",
    "nei_w = np.load(result_path+'nei_w.npy')\n",
    "\n",
    "def smooth_func(X_val,cell_nei=cell_nei,nei_w=nei_w):\n",
    "    X_s=X_val.copy()\n",
    "    for ci in range(len(X_val)):\n",
    "        X_s[ci]=np.dot(X_val[cell_nei[ci,:]],nei_w[ci,:])\n",
    "    return X_s"
   ]
  },
  {
   "cell_type": "code",
   "execution_count": 10,
   "id": "25464d1e-c192-448f-9a54-7cd3c9390181",
   "metadata": {},
   "outputs": [],
   "source": [
    "xsgn = -1\n",
    "X_plt = xsgn*X_pca[:,0]\n",
    "Y_plt = X_pca[:,1]\n",
    "X_min = np.min(X_plt)\n",
    "X_max = np.max(X_plt)\n",
    "Y_min = np.min(Y_plt)\n",
    "Y_max = np.max(Y_plt)\n",
    "X_len = (X_max-X_min)/5\n",
    "Y_len = (Y_max-Y_min)/5\n",
    "wid = min(X_len,Y_len)/30\n",
    "X_ori = X_min\n",
    "Y_ori = Y_min"
   ]
  },
  {
   "cell_type": "code",
   "execution_count": 11,
   "id": "a60376f3-3ccf-4300-91eb-92b1df762ffc",
   "metadata": {},
   "outputs": [],
   "source": [
    "A=A_mat\n",
    "# X=Xs\n",
    "# X=Xs/np.mean(np.abs(Xs),axis=0)\n",
    "# X=adata.X.A\n",
    "#--------do not normalize X\n",
    "# scaler=StandardScaler()#\n",
    "# X=scaler.fit_transform(X0_ori)\n",
    "z=cell_vpt\n",
    "\n",
    "# encoder = Encoder(X.shape[1], L)\n",
    "encoder = torch.load(result_path+'encoder.pt')"
   ]
  },
  {
   "cell_type": "code",
   "execution_count": 12,
   "id": "d5be42ba-2be9-4116-b3a6-f1682828dbbd",
   "metadata": {},
   "outputs": [],
   "source": [
    "mu, sigma = encoder(torch.tensor(X))\n",
    "mu_learned = mu.detach().numpy()\n",
    "sigma_learned = sigma.detach().numpy()\n",
    "\n",
    "Fisher_g=np.zeros((X.shape[0],L*2,L*2))\n",
    "for i in range(X.shape[0]):\n",
    "    for j in range(L):\n",
    "        Fisher_g[i,j,j]=1/sigma_learned[i,j]**2\n",
    "        Fisher_g[i,L+j,L+j]=2/sigma_learned[i,j]**2"
   ]
  },
  {
   "cell_type": "code",
   "execution_count": 13,
   "id": "3ac4ea49-9966-4c10-ae7a-11afe4ee179c",
   "metadata": {},
   "outputs": [],
   "source": [
    "#-------------transcription factors analysis\n",
    "if (data_name=='DG_bin')or(data_name=='EG_bin'):\n",
    "    df = pd.read_csv('gene lists/mouse_TF_list.csv')\n",
    "    TF = df['Symbol'].values\n",
    "elif data_name=='A549_emt_bin':\n",
    "    df = pd.read_csv('gene lists/TF_list.csv')\n",
    "    TF = df.loc[df['isTF']=='Yes','Name'].values\n",
    "for ti in range(len(TF)):\n",
    "    TF[ti] = TF[ti].upper()"
   ]
  },
  {
   "cell_type": "code",
   "execution_count": 14,
   "id": "b17e9208-e81f-47e5-b529-800eb258c72b",
   "metadata": {},
   "outputs": [
    {
     "name": "stdout",
     "output_type": "stream",
     "text": [
      "40\n"
     ]
    }
   ],
   "source": [
    "gene_list = np.array([x.upper() for x in adata.var.index.values])\n",
    "tf_inds = np.where(np.in1d(gene_list,TF))[0]\n",
    "non_tf_inds = np.where(~np.in1d(gene_list,TF))[0]\n",
    "tf_gene = adata.var.index.values[tf_inds]\n",
    "print(len(tf_inds))"
   ]
  },
  {
   "cell_type": "code",
   "execution_count": 15,
   "id": "21287a74-d321-496b-8771-4ff0bfa5f296",
   "metadata": {},
   "outputs": [],
   "source": [
    "vpt_ind = np.argsort(cell_vpt)\n",
    "n_bin = 101\n",
    "nn_bin = int(X.shape[0]/n_bin)\n",
    "\n",
    "Xs_bins = np.array([np.mean(Xs[vpt_ind[i*nn_bin:(i+1)*nn_bin]],axis=0) for i in range(n_bin)])\n",
    "mu_bins = np.array([np.mean(mu_learned[vpt_ind[i*nn_bin:(i+1)*nn_bin]],axis=0) for i in range(n_bin)])\n",
    "sgm_bins = np.array([np.mean(sigma_learned[vpt_ind[i*nn_bin:(i+1)*nn_bin]],axis=0) for i in range(n_bin)])\n",
    "\n",
    "fdist_bins = np.array([Fisher_dist(mu_bins[i],sgm_bins[i],mu_bins[i+1],sgm_bins[i+1]) for i in range(n_bin-1)])\n",
    "Xsh_bins = np.array([(Xs_bins[i]+Xs_bins[i+1])/2 for i in range(n_bin-1)])\n",
    "\n",
    "xl_corr_bins = np.array([np.corrcoef(fdist_bins,Xsh_bins[:,i])[0,1] for i in range(X.shape[1])])"
   ]
  },
  {
   "cell_type": "code",
   "execution_count": 16,
   "id": "cf704403-fc8e-40cb-a974-b619b10d891b",
   "metadata": {},
   "outputs": [],
   "source": [
    "xl_corr_inds_tf = np.argsort(xl_corr_bins[tf_inds])\n",
    "tf_inds_corr = tf_inds[xl_corr_inds_tf]"
   ]
  },
  {
   "cell_type": "code",
   "execution_count": 17,
   "id": "e91da3a2-cefd-4f9c-80d4-0c35ae3b6ad3",
   "metadata": {},
   "outputs": [
    {
     "name": "stdout",
     "output_type": "stream",
     "text": [
      "['Tshz1' 'Meis2' 'Zbtb20' 'Ncoa7' 'Irx2']\n",
      "['E2f1' 'Tead2' 'Foxa3' 'Neurog3' 'Nfix']\n"
     ]
    }
   ],
   "source": [
    "print(gene_arr[tf_inds_corr[:5]])\n",
    "print(gene_arr[tf_inds_corr[-5:]])"
   ]
  },
  {
   "cell_type": "code",
   "execution_count": 22,
   "id": "30be569e-28f5-4649-b123-0f3cacf2390c",
   "metadata": {},
   "outputs": [
    {
     "data": {
      "image/png": "[encoded data removed]",
      "text/plain": [
       "<Figure size 600x400 with 1 Axes>"
      ]
     },
     "metadata": {
      "image/png": {
       "height": 383,
       "width": 567
      }
     },
     "output_type": "display_data"
    }
   ],
   "source": [
    "plt.scatter(xl_corr_bins[tf_inds],np.mean(Xsh_bins[:,tf_inds],axis=0))\n",
    "plt.yscale('log')\n",
    "\n",
    "for i in [0,1,-1]:\n",
    "    x_plt = xl_corr_bins[tf_inds_corr[i]]\n",
    "    y_plt = np.mean(Xsh_bins[:,tf_inds_corr[i]],axis=0)\n",
    "    label = gene_arr[tf_inds_corr[i]]\n",
    "    plt.scatter(x_plt,y_plt,color='red',s=50)\n",
    "    if i>=0:\n",
    "        x_text = 0.015\n",
    "        y_text_rat = 0.85\n",
    "    elif i==-1:\n",
    "        x_text = -0.04\n",
    "        y_text_rat = 0.64\n",
    "    plt.annotate(label,xy=(x_plt,y_plt),xytext=((x_plt+x_text,y_plt*y_text_rat)),fontsize=15)\n",
    "        \n",
    "plt.xticks(fontsize=15)\n",
    "plt.xlabel('correlation',fontsize=20,weight='bold')\n",
    "plt.yticks(fontsize=15)\n",
    "plt.ylabel('mean expression',fontsize=20,weight='bold')\n",
    "plt.savefig(figure_path+'4a5.png',dpi=600,bbox_inches='tight')"
   ]
  },
  {
   "cell_type": "code",
   "execution_count": null,
   "id": "4b6c707a-36c8-41f8-886f-2837037f5849",
   "metadata": {},
   "outputs": [],
   "source": []
  }
 ],
 "metadata": {
  "kernelspec": {
   "display_name": "Python 3 (ipykernel)",
   "language": "python",
   "name": "python3"
  },
  "language_info": {
   "codemirror_mode": {
    "name": "ipython",
    "version": 3
   },
   "file_extension": ".py",
   "mimetype": "text/x-python",
   "name": "python",
   "nbconvert_exporter": "python",
   "pygments_lexer": "ipython3",
   "version": "3.9.7"
  }
 },
 "nbformat": 4,
 "nbformat_minor": 5
}
